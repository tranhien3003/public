{
 "cells": [
  {
   "cell_type": "markdown",
   "id": "434a0cb7",
   "metadata": {},
   "source": [
    "# CHUONG 5- while for /For ... in [List]/ for ... in range(,)"
   ]
  },
  {
   "cell_type": "markdown",
   "id": "458bf1fd",
   "metadata": {},
   "source": [
    "## 1. While... "
   ]
  },
  {
   "cell_type": "code",
   "execution_count": 2,
   "id": "d034a54f",
   "metadata": {},
   "outputs": [
    {
     "name": "stdout",
     "output_type": "stream",
     "text": [
      "5 x 1 =  5\n",
      "5 x 2 =  10\n",
      "5 x 3 =  15\n",
      "5 x 4 =  20\n",
      "5 x 5 =  25\n",
      "5 x 6 =  30\n",
      "5 x 7 =  35\n",
      "5 x 8 =  40\n",
      "5 x 9 =  45\n",
      "5 x 10 =  50\n"
     ]
    }
   ],
   "source": [
    "i = 1\n",
    "while i <=10:\n",
    "    print(f'5 x {i} = ',5*i)\n",
    "    i +=1"
   ]
  },
  {
   "cell_type": "markdown",
   "id": "f7a44545",
   "metadata": {},
   "source": [
    "## 2. While ... if"
   ]
  },
  {
   "cell_type": "code",
   "execution_count": 6,
   "id": "bba1e393",
   "metadata": {},
   "outputs": [
    {
     "name": "stdout",
     "output_type": "stream",
     "text": [
      "Moi ban nhap mat hang:hoa\n",
      "Moi ban nhap so luong:90\n",
      "Moi ban scan gia:8989\n",
      "Mua tiep (y/n):y\n",
      "Moi ban nhap mat hang:Banh\n",
      "Moi ban nhap so luong:9\n",
      "Moi ban scan gia:90999\n",
      "Mua tiep (y/n):n\n",
      "Tong tien hang: 1,628,001\n"
     ]
    }
   ],
   "source": [
    "#VD tinh tien hang\n",
    "\n",
    "mua_tiep = True\n",
    "thanh_tien = 0\n",
    "while mua_tiep:\n",
    "    hang = input('Moi ban nhap mat hang:')\n",
    "    sl = int(input('Moi ban nhap so luong:'))\n",
    "    gia = eval(input('Moi ban scan gia:'))\n",
    "    thanh_tien += sl * gia\n",
    "    tiep = input('Mua tiep (y/n):')\n",
    "    if tiep == 'n':\n",
    "        mua_tiep = False\n",
    "        \n",
    "print(f'Tong tien hang: {thanh_tien:,}')\n"
   ]
  },
  {
   "cell_type": "markdown",
   "id": "8ac89b8c",
   "metadata": {},
   "source": [
    "##  3. For ... in [List]"
   ]
  },
  {
   "cell_type": "markdown",
   "id": "0062e1d5",
   "metadata": {},
   "source": [
    "simple for\n",
    "Range (Start, stop [,step]) toi stop la dung"
   ]
  },
  {
   "cell_type": "code",
   "execution_count": 3,
   "id": "ec619ad7",
   "metadata": {},
   "outputs": [
    {
     "name": "stdout",
     "output_type": "stream",
     "text": [
      "Hang xe:  BMW\n",
      "Hang xe:  Audi\n",
      "Hang xe:  Toyota\n",
      "Hang xe:  Ford\n",
      "Hang xe:  Honda\n"
     ]
    }
   ],
   "source": [
    "ds_hang_xe = ['BMW','Audi', 'Toyota', 'Ford','Honda']\n",
    "for hang_xe in ds_hang_xe:\n",
    "    print('Hang xe: ',hang_xe)"
   ]
  },
  {
   "cell_type": "code",
   "execution_count": 4,
   "id": "a258b4b3",
   "metadata": {},
   "outputs": [
    {
     "name": "stdout",
     "output_type": "stream",
     "text": [
      "1.Tong cac so tu 1 den 9: 25\n"
     ]
    }
   ],
   "source": [
    "ds_so =[1,3,5,7,9]\n",
    "tong = 0\n",
    "for so in ds_so:\n",
    "    tong += so\n",
    "\n",
    "print('1.Tong cac so tu 1 den 9:',tong)"
   ]
  },
  {
   "cell_type": "code",
   "execution_count": 5,
   "id": "43430528",
   "metadata": {},
   "outputs": [
    {
     "name": "stdout",
     "output_type": "stream",
     "text": [
      "2.Tong cac so le tu 1 den 9: 25\n"
     ]
    }
   ],
   "source": [
    "tong_le = 0\n",
    "for i in range (1,10,2): # 1,3,5,7,9 lap 5 lan\n",
    "    tong_le += i\n",
    "\n",
    "else:\n",
    "    print('2.Tong cac so le tu 1 den 9:',tong_le)"
   ]
  },
  {
   "cell_type": "code",
   "execution_count": 6,
   "id": "9b991f29",
   "metadata": {},
   "outputs": [
    {
     "name": "stdout",
     "output_type": "stream",
     "text": [
      "3.Tong cac so le tu 1 den 9: 25\n"
     ]
    }
   ],
   "source": [
    "tong_le_2 = 0\n",
    "for i in range (1,10): #1,2,3,4,5,6,7,8,9 Lap 9 lan\n",
    "    if i %2 ==1:   #1,3,5,7,9\n",
    "        tong_le_2 += i\n",
    "print('3.Tong cac so le tu 1 den 9:',tong_le_2)\n"
   ]
  },
  {
   "cell_type": "code",
   "execution_count": 7,
   "id": "51e8f512",
   "metadata": {},
   "outputs": [
    {
     "name": "stdout",
     "output_type": "stream",
     "text": [
      "4.Tong cac so le tu 1 den 9: 25\n"
     ]
    }
   ],
   "source": [
    "tong_le_3 = 0\n",
    "i = 1\n",
    "while i <10:\n",
    "    tong_le_3 += i\n",
    "    i +=2\n",
    "else:\n",
    "    print('4.Tong cac so le tu 1 den 9:',tong_le_3)\n"
   ]
  },
  {
   "cell_type": "markdown",
   "id": "069674b0",
   "metadata": {},
   "source": [
    "## 4. Else ... for ... in range(,) / break /pass"
   ]
  },
  {
   "cell_type": "markdown",
   "id": "6318c2e1",
   "metadata": {},
   "source": [
    "Dung Else voi cau truc lap\n",
    "De ket thuc vong lap while, khi dk khong con dung nua\n",
    "Su dung break, continue , pass"
   ]
  },
  {
   "cell_type": "code",
   "execution_count": 8,
   "id": "b3fb793f",
   "metadata": {},
   "outputs": [
    {
     "name": "stdout",
     "output_type": "stream",
     "text": [
      "Moi ban nhap vao so nguyen to can kiem tra:5\n",
      "5 la so nguyen to\n"
     ]
    }
   ],
   "source": [
    "# Bai tap Kiem tra so nguyen to\n",
    "\n",
    "x = int(input('Moi ban nhap vao so nguyen to can kiem tra:'))\n",
    "if x <2:\n",
    "    print(f'{x} Khong phai la so nguyen to')\n",
    "else:\n",
    "    for i in range(2,x):\n",
    "        if x % i == 0:\n",
    "            print(f'{x} khong phai la so nguyen to')\n",
    "            break\n",
    "    else:\n",
    "        print (f'{x} la so nguyen to')"
   ]
  },
  {
   "cell_type": "code",
   "execution_count": 9,
   "id": "75ed8c11",
   "metadata": {},
   "outputs": [
    {
     "name": "stdout",
     "output_type": "stream",
     "text": [
      "Moi ban nhap vao so nguyen to can kiem tra:3\n",
      "3 la so nguyen to\n"
     ]
    }
   ],
   "source": [
    "#Cach 2\n",
    "x = int(input('Moi ban nhap vao so nguyen to can kiem tra:'))\n",
    "if x <2:\n",
    "    print(f'{x} Khong phai la so nguyen to')\n",
    "else:\n",
    "    for i in range(2, int(x**0.5) +1): #  x** 0.5 can bac 2       if x % i == 0:\n",
    "            print(f'{x} khong phai la so nguyen to')\n",
    "            break\n",
    "    else:\n",
    "        print (f'{x} la so nguyen to')"
   ]
  },
  {
   "cell_type": "code",
   "execution_count": 10,
   "id": "ea378d18",
   "metadata": {},
   "outputs": [
    {
     "name": "stdout",
     "output_type": "stream",
     "text": [
      "Danh sach so chan:\n",
      "2\n",
      "4\n",
      "56\n",
      "100\n"
     ]
    }
   ],
   "source": [
    "#Continue\n",
    "#Pass : skip \n",
    "\n",
    "danh_sach_so = [1,2,3,4,5,55,33,56,100]\n",
    "print('Danh sach so chan:')\n",
    "for so in danh_sach_so:\n",
    "    if so % 2 != 0:\n",
    "        pass\n",
    "    else:\n",
    "        print(so)"
   ]
  }
 ],
 "metadata": {
  "kernelspec": {
   "display_name": "Python 3 (ipykernel)",
   "language": "python",
   "name": "python3"
  },
  "language_info": {
   "codemirror_mode": {
    "name": "ipython",
    "version": 3
   },
   "file_extension": ".py",
   "mimetype": "text/x-python",
   "name": "python",
   "nbconvert_exporter": "python",
   "pygments_lexer": "ipython3",
   "version": "3.10.9"
  }
 },
 "nbformat": 4,
 "nbformat_minor": 5
}
