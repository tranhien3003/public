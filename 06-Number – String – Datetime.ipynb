{
 "cells": [
  {
   "cell_type": "markdown",
   "id": "e37bd069",
   "metadata": {},
   "source": [
    "# CHUONG 6-Number – String – Datetime"
   ]
  },
  {
   "cell_type": "markdown",
   "id": "5f1d6200",
   "metadata": {},
   "source": [
    "## Number"
   ]
  },
  {
   "cell_type": "code",
   "execution_count": 5,
   "id": "c871c24f",
   "metadata": {},
   "outputs": [
    {
     "data": {
      "text/plain": [
       "5"
      ]
     },
     "execution_count": 5,
     "metadata": {},
     "output_type": "execute_result"
    }
   ],
   "source": [
    "int(abs(-5))"
   ]
  },
  {
   "cell_type": "code",
   "execution_count": 2,
   "id": "9f9d0915",
   "metadata": {},
   "outputs": [
    {
     "name": "stdout",
     "output_type": "stream",
     "text": [
      "7\n"
     ]
    }
   ],
   "source": [
    "import math \n",
    "print(math.ceil(6.75))\n"
   ]
  },
  {
   "cell_type": "code",
   "execution_count": 3,
   "id": "d7945454",
   "metadata": {},
   "outputs": [
    {
     "name": "stdout",
     "output_type": "stream",
     "text": [
      "6\n"
     ]
    }
   ],
   "source": [
    "import math \n",
    "print(math.floor(6.75))\n"
   ]
  },
  {
   "cell_type": "code",
   "execution_count": 6,
   "id": "de533a46",
   "metadata": {},
   "outputs": [
    {
     "name": "stdout",
     "output_type": "stream",
     "text": [
      "6\n"
     ]
    }
   ],
   "source": [
    "import math \n",
    "print(math.ceil(6))"
   ]
  },
  {
   "cell_type": "code",
   "execution_count": 7,
   "id": "35d1351a",
   "metadata": {},
   "outputs": [
    {
     "name": "stdout",
     "output_type": "stream",
     "text": [
      "6\n"
     ]
    }
   ],
   "source": [
    "import math \n",
    "print(math.floor(6))"
   ]
  },
  {
   "cell_type": "code",
   "execution_count": 8,
   "id": "e42a2131",
   "metadata": {},
   "outputs": [
    {
     "name": "stdout",
     "output_type": "stream",
     "text": [
      "5.6\n"
     ]
    }
   ],
   "source": [
    "import math \n",
    "print(math.fabs(-5.6))"
   ]
  },
  {
   "cell_type": "code",
   "execution_count": 9,
   "id": "27e965d2",
   "metadata": {},
   "outputs": [
    {
     "name": "stdout",
     "output_type": "stream",
     "text": [
      "2.0794415416798357\n"
     ]
    }
   ],
   "source": [
    "import math \n",
    "print(math.log(8))"
   ]
  },
  {
   "cell_type": "code",
   "execution_count": 10,
   "id": "4500cd77",
   "metadata": {},
   "outputs": [
    {
     "name": "stdout",
     "output_type": "stream",
     "text": [
      "98\n"
     ]
    }
   ],
   "source": [
    "import math \n",
    "print(max(10,8,98,7,-8))"
   ]
  },
  {
   "cell_type": "code",
   "execution_count": 11,
   "id": "a2a89516",
   "metadata": {},
   "outputs": [
    {
     "name": "stdout",
     "output_type": "stream",
     "text": [
      "-8\n"
     ]
    }
   ],
   "source": [
    "import math \n",
    "print(min(8,2,5,0,45,-8))"
   ]
  },
  {
   "cell_type": "code",
   "execution_count": 12,
   "id": "34d8abe5",
   "metadata": {},
   "outputs": [
    {
     "name": "stdout",
     "output_type": "stream",
     "text": [
      "8\n"
     ]
    }
   ],
   "source": [
    "import math \n",
    "print(pow(2,3))"
   ]
  },
  {
   "cell_type": "code",
   "execution_count": 13,
   "id": "01d92b21",
   "metadata": {},
   "outputs": [
    {
     "name": "stdout",
     "output_type": "stream",
     "text": [
      "3.0\n"
     ]
    }
   ],
   "source": [
    "import math \n",
    "print(math.sqrt(9))"
   ]
  },
  {
   "cell_type": "code",
   "execution_count": 14,
   "id": "a2254614",
   "metadata": {},
   "outputs": [
    {
     "name": "stdout",
     "output_type": "stream",
     "text": [
      "4.0\n"
     ]
    }
   ],
   "source": [
    "import math \n",
    "print(round(pow(64,1/3),2))"
   ]
  },
  {
   "cell_type": "code",
   "execution_count": 15,
   "id": "cbee0f73",
   "metadata": {},
   "outputs": [
    {
     "name": "stdout",
     "output_type": "stream",
     "text": [
      "1300.0\n"
     ]
    }
   ],
   "source": [
    "import math \n",
    "print(round(1256.56,-2))"
   ]
  },
  {
   "cell_type": "markdown",
   "id": "3bf731b2",
   "metadata": {},
   "source": [
    "## Random"
   ]
  },
  {
   "cell_type": "code",
   "execution_count": 28,
   "id": "573b488a",
   "metadata": {},
   "outputs": [
    {
     "name": "stdout",
     "output_type": "stream",
     "text": [
      "[4, 5]\n"
     ]
    }
   ],
   "source": [
    "import random\n",
    "random.seed(9)  # co dinh output random, need to \n",
    "print(random.sample(range(1,7),2))\n"
   ]
  },
  {
   "cell_type": "code",
   "execution_count": 11,
   "id": "cf11660f",
   "metadata": {},
   "outputs": [
    {
     "name": "stdout",
     "output_type": "stream",
     "text": [
      "18.47433736937233\n"
     ]
    }
   ],
   "source": [
    "import random\n",
    "print(random.uniform(10,20))"
   ]
  },
  {
   "cell_type": "markdown",
   "id": "49200cd7",
   "metadata": {},
   "source": [
    "## STRING"
   ]
  },
  {
   "cell_type": "code",
   "execution_count": 12,
   "id": "152d4a30",
   "metadata": {},
   "outputs": [
    {
     "name": "stdout",
     "output_type": "stream",
     "text": [
      "trung tam tin hoc\n"
     ]
    }
   ],
   "source": [
    "chuoi ='Trung Tam Tin Hoc'\n",
    "print(chuoi.lower())"
   ]
  },
  {
   "cell_type": "code",
   "execution_count": 13,
   "id": "c6550f63",
   "metadata": {},
   "outputs": [
    {
     "name": "stdout",
     "output_type": "stream",
     "text": [
      " Nguyen Van Aa\n"
     ]
    }
   ],
   "source": [
    "chuoi1 =' Nguyen van aa'\n",
    "print(chuoi1.title())"
   ]
  },
  {
   "cell_type": "code",
   "execution_count": 14,
   "id": "993428cf",
   "metadata": {},
   "outputs": [
    {
     "name": "stdout",
     "output_type": "stream",
     "text": [
      "****Hi Python*****\n",
      "    Hi Python     \n"
     ]
    }
   ],
   "source": [
    "s = 'Hi Python'\n",
    "s1 = s.center(18,'*')\n",
    "s2 = s.center(18)\n",
    "print(s1)\n",
    "print(s2)"
   ]
  },
  {
   "cell_type": "code",
   "execution_count": 15,
   "id": "d4525548",
   "metadata": {},
   "outputs": [
    {
     "name": "stdout",
     "output_type": "stream",
     "text": [
      "1\n"
     ]
    }
   ],
   "source": [
    "chuoi1 = 'Trung tam tin Hoc'\n",
    "cnt = chuoi1.count('T')\n",
    "print(cnt)\n"
   ]
  },
  {
   "cell_type": "code",
   "execution_count": 16,
   "id": "cc775da4",
   "metadata": {
    "scrolled": true
   },
   "outputs": [
    {
     "name": "stdout",
     "output_type": "stream",
     "text": [
      "1\n"
     ]
    }
   ],
   "source": [
    "cnt1 = chuoi1.count('T',0,10) #Dem tu ky tu 0 den 10 \n",
    "print(cnt1)"
   ]
  },
  {
   "cell_type": "markdown",
   "id": "506655c4",
   "metadata": {},
   "source": [
    "### REPLACE"
   ]
  },
  {
   "cell_type": "code",
   "execution_count": 17,
   "id": "31bd4f7e",
   "metadata": {},
   "outputs": [
    {
     "name": "stdout",
     "output_type": "stream",
     "text": [
      "Toi hoc Java, Java\n",
      "Toi hoc Java, Python\n"
     ]
    }
   ],
   "source": [
    "chuoi_2 = 'Toi hoc Python, Python'\n",
    "chuoi_3 = chuoi_2.replace('Python','Java')\n",
    "chuoi_4 = chuoi_2.replace('Python','Java',1)\n",
    "print(chuoi_3)\n",
    "print(chuoi_4)"
   ]
  },
  {
   "cell_type": "markdown",
   "id": "9cb7c5a2",
   "metadata": {},
   "source": [
    "## SPLIT"
   ]
  },
  {
   "cell_type": "code",
   "execution_count": 18,
   "id": "4a2dd341",
   "metadata": {},
   "outputs": [
    {
     "name": "stdout",
     "output_type": "stream",
     "text": [
      "['Thanh', 'Pho', 'Ho', 'Chi', 'Minh']\n",
      "['Thanh', 'Pho', 'Ho Chi Minh']\n"
     ]
    }
   ],
   "source": [
    "chuoi_5 = 'Thanh Pho Ho Chi Minh'\n",
    "chuoi_6 = chuoi_5.split()\n",
    "chuoi_7 = chuoi_5.split(' ',2)  #Tach 2 lan\n",
    "print(chuoi_6)\n",
    "print(chuoi_7)"
   ]
  },
  {
   "cell_type": "markdown",
   "id": "3a99d302",
   "metadata": {},
   "source": [
    "## TIME"
   ]
  },
  {
   "cell_type": "code",
   "execution_count": 19,
   "id": "672c1efc",
   "metadata": {},
   "outputs": [
    {
     "name": "stdout",
     "output_type": "stream",
     "text": [
      "1686891359.112356\n"
     ]
    }
   ],
   "source": [
    "import time\n",
    "seconds = time.time()  ## kq tra ve so giay tu 1/1/1970 \n",
    "print(seconds)"
   ]
  },
  {
   "cell_type": "code",
   "execution_count": 20,
   "id": "524d292e",
   "metadata": {},
   "outputs": [
    {
     "name": "stdout",
     "output_type": "stream",
     "text": [
      "Thu Jan  1 07:00:00 1970\n"
     ]
    }
   ],
   "source": [
    "import time\n",
    "print(time.ctime(0)) #Tra ve ngay gio bat dau"
   ]
  },
  {
   "cell_type": "code",
   "execution_count": 34,
   "id": "2a7cbef1",
   "metadata": {},
   "outputs": [
    {
     "name": "stdout",
     "output_type": "stream",
     "text": [
      "Fri Jun 16 04:50:33 2023\n"
     ]
    }
   ],
   "source": [
    "import time\n",
    "print(time.ctime()) #Tra ve ngay gio theo mui gio local , run ham  "
   ]
  },
  {
   "cell_type": "code",
   "execution_count": 35,
   "id": "c0993ae0",
   "metadata": {},
   "outputs": [
    {
     "name": "stdout",
     "output_type": "stream",
     "text": [
      "time.struct_time(tm_year=2023, tm_mon=6, tm_mday=16, tm_hour=4, tm_min=50, tm_sec=59, tm_wday=4, tm_yday=167, tm_isdst=0)\n"
     ]
    }
   ],
   "source": [
    "import time\n",
    "print(time.localtime())  # thu 2 = 0 >> can cu count index."
   ]
  },
  {
   "cell_type": "code",
   "execution_count": 37,
   "id": "1c5fd68a",
   "metadata": {},
   "outputs": [
    {
     "name": "stdout",
     "output_type": "stream",
     "text": [
      "time.struct_time(tm_year=1970, tm_mon=1, tm_mday=1, tm_hour=0, tm_min=0, tm_sec=0, tm_wday=3, tm_yday=1, tm_isdst=0)\n"
     ]
    }
   ],
   "source": [
    "import time\n",
    "print(time.gmtime(0)) # Gio mat troi bat dauprint(time.gmtime()) "
   ]
  },
  {
   "cell_type": "code",
   "execution_count": 38,
   "id": "56186e82",
   "metadata": {},
   "outputs": [
    {
     "name": "stdout",
     "output_type": "stream",
     "text": [
      "time.struct_time(tm_year=2023, tm_mon=6, tm_mday=15, tm_hour=21, tm_min=52, tm_sec=10, tm_wday=3, tm_yday=166, tm_isdst=0)\n"
     ]
    }
   ],
   "source": [
    "import time\n",
    "print(time.gmtime())  # Gio quoc te"
   ]
  },
  {
   "cell_type": "markdown",
   "id": "e74b2034",
   "metadata": {},
   "source": [
    "## SLEEP mode"
   ]
  },
  {
   "cell_type": "code",
   "execution_count": 39,
   "id": "64ae7063",
   "metadata": {
    "scrolled": true
   },
   "outputs": [
    {
     "name": "stdout",
     "output_type": "stream",
     "text": [
      "Cho chut nhe\n",
      "xong\n"
     ]
    }
   ],
   "source": [
    "print('Cho chut nhe')\n",
    "time.sleep(5)  #Sleep mode 5 second till perform next action\n",
    "print('xong')"
   ]
  },
  {
   "cell_type": "markdown",
   "id": "8f12073a",
   "metadata": {},
   "source": [
    "## DATETIME"
   ]
  },
  {
   "cell_type": "code",
   "execution_count": 42,
   "id": "41d94de0",
   "metadata": {},
   "outputs": [
    {
     "name": "stdout",
     "output_type": "stream",
     "text": [
      "Ngay hien tai: 2023-06-16\n",
      "Ngay hien tai: 16\n",
      "Thang hien tai: 6\n",
      "Nam hien tai: 2023\n",
      "2023-06-10\n"
     ]
    }
   ],
   "source": [
    "import datetime\n",
    "hnay =datetime.date.today()\n",
    "print('Ngay hien tai:',hnay)\n",
    "print('Ngay hien tai:',hnay.day)\n",
    "print('Thang hien tai:',hnay.month)\n",
    "print('Nam hien tai:',hnay.year)\n",
    "print(datetime.date(2023,6,10)) ## nhap ngay"
   ]
  },
  {
   "cell_type": "code",
   "execution_count": 43,
   "id": "4f78c8e0",
   "metadata": {},
   "outputs": [
    {
     "name": "stdout",
     "output_type": "stream",
     "text": [
      "Time 1 00:00:00\n"
     ]
    }
   ],
   "source": [
    "import datetime\n",
    "print('Time 1', datetime.time())"
   ]
  },
  {
   "cell_type": "code",
   "execution_count": 44,
   "id": "34b7508b",
   "metadata": {},
   "outputs": [
    {
     "name": "stdout",
     "output_type": "stream",
     "text": [
      "2023-06-16 04:55:26.065298\n",
      "<class 'datetime.datetime'>\n"
     ]
    }
   ],
   "source": [
    "import datetime\n",
    "ngay_hien_tai = datetime.datetime.now()\n",
    "print(ngay_hien_tai)\n",
    "print(type(ngay_hien_tai))"
   ]
  },
  {
   "cell_type": "markdown",
   "id": "56933d74",
   "metadata": {},
   "source": [
    "### Datetime format"
   ]
  },
  {
   "cell_type": "code",
   "execution_count": 46,
   "id": "6c90c573",
   "metadata": {},
   "outputs": [
    {
     "name": "stdout",
     "output_type": "stream",
     "text": [
      "2023-06-16 04:56:27.998378\n",
      "<class 'datetime.datetime'>\n"
     ]
    }
   ],
   "source": [
    "import datetime\n",
    "ngay_hien_tai = datetime.datetime.now()\n",
    "print(ngay_hien_tai)\n",
    "print(type(ngay_hien_tai))"
   ]
  },
  {
   "cell_type": "code",
   "execution_count": 47,
   "id": "df4bca14",
   "metadata": {},
   "outputs": [
    {
     "name": "stdout",
     "output_type": "stream",
     "text": [
      "16-06-2023 04:56:27\n",
      "<class 'str'>\n"
     ]
    }
   ],
   "source": [
    "import datetime\n",
    "ngay= ngay_hien_tai.strftime('%d-%m-%Y %H:%M:%S')\n",
    "print(ngay)\n",
    "print(type(ngay)) #>> string"
   ]
  },
  {
   "cell_type": "code",
   "execution_count": 48,
   "id": "ef9a78bd",
   "metadata": {},
   "outputs": [
    {
     "ename": "ValueError",
     "evalue": "time data '2022-11-2' does not match format '%d-%m-%Y %H:%M:%S'",
     "output_type": "error",
     "traceback": [
      "\u001b[1;31m---------------------------------------------------------------------------\u001b[0m",
      "\u001b[1;31mValueError\u001b[0m                                Traceback (most recent call last)",
      "Cell \u001b[1;32mIn[48], line 3\u001b[0m\n\u001b[0;32m      1\u001b[0m \u001b[38;5;28;01mimport\u001b[39;00m \u001b[38;5;21;01mdatetime\u001b[39;00m\n\u001b[0;32m      2\u001b[0m ngay \u001b[38;5;241m=\u001b[39m\u001b[38;5;124m'\u001b[39m\u001b[38;5;124m2022-11-2\u001b[39m\u001b[38;5;124m'\u001b[39m\n\u001b[1;32m----> 3\u001b[0m ngay1\u001b[38;5;241m=\u001b[39m \u001b[43mdatetime\u001b[49m\u001b[38;5;241;43m.\u001b[39;49m\u001b[43mdatetime\u001b[49m\u001b[38;5;241;43m.\u001b[39;49m\u001b[43mstrptime\u001b[49m\u001b[43m(\u001b[49m\u001b[43mngay\u001b[49m\u001b[43m,\u001b[49m\u001b[38;5;124;43m'\u001b[39;49m\u001b[38;5;132;43;01m%d\u001b[39;49;00m\u001b[38;5;124;43m-\u001b[39;49m\u001b[38;5;124;43m%\u001b[39;49m\u001b[38;5;124;43mm-\u001b[39;49m\u001b[38;5;124;43m%\u001b[39;49m\u001b[38;5;124;43mY \u001b[39;49m\u001b[38;5;124;43m%\u001b[39;49m\u001b[38;5;124;43mH:\u001b[39;49m\u001b[38;5;124;43m%\u001b[39;49m\u001b[38;5;124;43mM:\u001b[39;49m\u001b[38;5;124;43m%\u001b[39;49m\u001b[38;5;124;43mS\u001b[39;49m\u001b[38;5;124;43m'\u001b[39;49m\u001b[43m)\u001b[49m\n\u001b[0;32m      4\u001b[0m \u001b[38;5;28mprint\u001b[39m(ngay1)\n",
      "File \u001b[1;32m~\\AppData\\Local\\Anaconda_ver3\\lib\\_strptime.py:568\u001b[0m, in \u001b[0;36m_strptime_datetime\u001b[1;34m(cls, data_string, format)\u001b[0m\n\u001b[0;32m    565\u001b[0m \u001b[38;5;28;01mdef\u001b[39;00m \u001b[38;5;21m_strptime_datetime\u001b[39m(\u001b[38;5;28mcls\u001b[39m, data_string, \u001b[38;5;28mformat\u001b[39m\u001b[38;5;241m=\u001b[39m\u001b[38;5;124m\"\u001b[39m\u001b[38;5;132;01m%a\u001b[39;00m\u001b[38;5;124m \u001b[39m\u001b[38;5;124m%\u001b[39m\u001b[38;5;124mb \u001b[39m\u001b[38;5;132;01m%d\u001b[39;00m\u001b[38;5;124m \u001b[39m\u001b[38;5;124m%\u001b[39m\u001b[38;5;124mH:\u001b[39m\u001b[38;5;124m%\u001b[39m\u001b[38;5;124mM:\u001b[39m\u001b[38;5;124m%\u001b[39m\u001b[38;5;124mS \u001b[39m\u001b[38;5;124m%\u001b[39m\u001b[38;5;124mY\u001b[39m\u001b[38;5;124m\"\u001b[39m):\n\u001b[0;32m    566\u001b[0m     \u001b[38;5;124;03m\"\"\"Return a class cls instance based on the input string and the\u001b[39;00m\n\u001b[0;32m    567\u001b[0m \u001b[38;5;124;03m    format string.\"\"\"\u001b[39;00m\n\u001b[1;32m--> 568\u001b[0m     tt, fraction, gmtoff_fraction \u001b[38;5;241m=\u001b[39m \u001b[43m_strptime\u001b[49m\u001b[43m(\u001b[49m\u001b[43mdata_string\u001b[49m\u001b[43m,\u001b[49m\u001b[43m \u001b[49m\u001b[38;5;28;43mformat\u001b[39;49m\u001b[43m)\u001b[49m\n\u001b[0;32m    569\u001b[0m     tzname, gmtoff \u001b[38;5;241m=\u001b[39m tt[\u001b[38;5;241m-\u001b[39m\u001b[38;5;241m2\u001b[39m:]\n\u001b[0;32m    570\u001b[0m     args \u001b[38;5;241m=\u001b[39m tt[:\u001b[38;5;241m6\u001b[39m] \u001b[38;5;241m+\u001b[39m (fraction,)\n",
      "File \u001b[1;32m~\\AppData\\Local\\Anaconda_ver3\\lib\\_strptime.py:349\u001b[0m, in \u001b[0;36m_strptime\u001b[1;34m(data_string, format)\u001b[0m\n\u001b[0;32m    347\u001b[0m found \u001b[38;5;241m=\u001b[39m format_regex\u001b[38;5;241m.\u001b[39mmatch(data_string)\n\u001b[0;32m    348\u001b[0m \u001b[38;5;28;01mif\u001b[39;00m \u001b[38;5;129;01mnot\u001b[39;00m found:\n\u001b[1;32m--> 349\u001b[0m     \u001b[38;5;28;01mraise\u001b[39;00m \u001b[38;5;167;01mValueError\u001b[39;00m(\u001b[38;5;124m\"\u001b[39m\u001b[38;5;124mtime data \u001b[39m\u001b[38;5;132;01m%r\u001b[39;00m\u001b[38;5;124m does not match format \u001b[39m\u001b[38;5;132;01m%r\u001b[39;00m\u001b[38;5;124m\"\u001b[39m \u001b[38;5;241m%\u001b[39m\n\u001b[0;32m    350\u001b[0m                      (data_string, \u001b[38;5;28mformat\u001b[39m))\n\u001b[0;32m    351\u001b[0m \u001b[38;5;28;01mif\u001b[39;00m \u001b[38;5;28mlen\u001b[39m(data_string) \u001b[38;5;241m!=\u001b[39m found\u001b[38;5;241m.\u001b[39mend():\n\u001b[0;32m    352\u001b[0m     \u001b[38;5;28;01mraise\u001b[39;00m \u001b[38;5;167;01mValueError\u001b[39;00m(\u001b[38;5;124m\"\u001b[39m\u001b[38;5;124munconverted data remains: \u001b[39m\u001b[38;5;132;01m%s\u001b[39;00m\u001b[38;5;124m\"\u001b[39m \u001b[38;5;241m%\u001b[39m\n\u001b[0;32m    353\u001b[0m                       data_string[found\u001b[38;5;241m.\u001b[39mend():])\n",
      "\u001b[1;31mValueError\u001b[0m: time data '2022-11-2' does not match format '%d-%m-%Y %H:%M:%S'"
     ]
    }
   ],
   "source": [
    "import datetime\n",
    "ngay ='2022-11-2'\n",
    "ngay1= datetime.datetime.strptime(ngay,'%d-%m-%Y %H:%M:%S')\n",
    "print(ngay1)"
   ]
  },
  {
   "cell_type": "markdown",
   "id": "9e1ba79c",
   "metadata": {},
   "source": [
    "strftime : Linh hoat chuyen doi format , type string\n",
    "\n",
    "strptime : Format theo chuoi dang co , type datetime"
   ]
  },
  {
   "cell_type": "code",
   "execution_count": 3,
   "id": "b5bf863d",
   "metadata": {
    "scrolled": false
   },
   "outputs": [
    {
     "name": "stdout",
     "output_type": "stream",
     "text": [
      "Ngay thang hien tai: 2023-06-26\n",
      "Ngay hien tai: 26\n",
      "Thang hien tai: 6\n",
      "Nam hien tai: 2023\n",
      "2023-04-30\n",
      "2023-06-26 10:29:37.763869\n",
      "<class 'datetime.datetime'>\n",
      "26/06/2023 10:29:37\n",
      "<class 'str'>\n",
      "2019-12-23 23:05:27\n",
      "<class 'datetime.datetime'>\n",
      "6\n",
      "8\n",
      "(0, 31)\n"
     ]
    }
   ],
   "source": [
    "import datetime# Teacher's note\n",
    "\n",
    "hnay = datetime.date.today()\n",
    "print('Ngay thang hien tai:', hnay)"
   ]
  },
  {
   "cell_type": "code",
   "execution_count": 4,
   "id": "858d2585",
   "metadata": {},
   "outputs": [
    {
     "name": "stdout",
     "output_type": "stream",
     "text": [
      "Ngay hien tai: 26\n"
     ]
    }
   ],
   "source": [
    "print('Ngay hien tai:', hnay.day)"
   ]
  },
  {
   "cell_type": "code",
   "execution_count": 5,
   "id": "dbf43c6d",
   "metadata": {},
   "outputs": [
    {
     "name": "stdout",
     "output_type": "stream",
     "text": [
      "Thang hien tai: 6\n"
     ]
    }
   ],
   "source": [
    "print('Thang hien tai:', hnay.month)"
   ]
  },
  {
   "cell_type": "code",
   "execution_count": 6,
   "id": "0ec77520",
   "metadata": {},
   "outputs": [
    {
     "name": "stdout",
     "output_type": "stream",
     "text": [
      "Nam hien tai: 2023\n"
     ]
    }
   ],
   "source": [
    "print('Nam hien tai:', hnay.year)"
   ]
  },
  {
   "cell_type": "code",
   "execution_count": 7,
   "id": "c9507fbe",
   "metadata": {},
   "outputs": [
    {
     "name": "stdout",
     "output_type": "stream",
     "text": [
      "2023-04-30\n"
     ]
    }
   ],
   "source": [
    "print(datetime.date(2023, 4, 30))"
   ]
  },
  {
   "cell_type": "code",
   "execution_count": 8,
   "id": "6d28bffd",
   "metadata": {},
   "outputs": [
    {
     "ename": "ValueError",
     "evalue": "day is out of range for month",
     "output_type": "error",
     "traceback": [
      "\u001b[1;31m---------------------------------------------------------------------------\u001b[0m",
      "\u001b[1;31mValueError\u001b[0m                                Traceback (most recent call last)",
      "Cell \u001b[1;32mIn[8], line 1\u001b[0m\n\u001b[1;32m----> 1\u001b[0m \u001b[38;5;28mprint\u001b[39m(\u001b[43mdatetime\u001b[49m\u001b[38;5;241;43m.\u001b[39;49m\u001b[43mdate\u001b[49m\u001b[43m(\u001b[49m\u001b[38;5;241;43m2023\u001b[39;49m\u001b[43m,\u001b[49m\u001b[43m \u001b[49m\u001b[38;5;241;43m4\u001b[39;49m\u001b[43m,\u001b[49m\u001b[43m \u001b[49m\u001b[38;5;241;43m31\u001b[39;49m\u001b[43m)\u001b[49m)\n",
      "\u001b[1;31mValueError\u001b[0m: day is out of range for month"
     ]
    }
   ],
   "source": [
    "print(datetime.date(2023, 4, 31)) # loi day is out of range for month"
   ]
  },
  {
   "cell_type": "code",
   "execution_count": 10,
   "id": "47f11d36",
   "metadata": {},
   "outputs": [
    {
     "name": "stdout",
     "output_type": "stream",
     "text": [
      "2023-06-26 10:33:04.765218\n",
      "<class 'datetime.datetime'>\n"
     ]
    }
   ],
   "source": [
    "ngay_hien_tai = datetime.datetime.now()\n",
    "print(ngay_hien_tai)\n",
    "print(type(ngay_hien_tai))"
   ]
  },
  {
   "cell_type": "code",
   "execution_count": 11,
   "id": "036b26de",
   "metadata": {},
   "outputs": [
    {
     "name": "stdout",
     "output_type": "stream",
     "text": [
      "26/06/2023 10:33:04\n",
      "<class 'str'>\n"
     ]
    }
   ],
   "source": [
    "ngay =ngay_hien_tai.strftime('%d/%m/%Y %H:%M:%S')\n",
    "print(ngay)\n",
    "print(type(ngay))"
   ]
  },
  {
   "cell_type": "code",
   "execution_count": 12,
   "id": "70b07770",
   "metadata": {},
   "outputs": [
    {
     "name": "stdout",
     "output_type": "stream",
     "text": [
      "2019-12-23 23:05:27\n",
      "<class 'datetime.datetime'>\n"
     ]
    }
   ],
   "source": [
    "ngay = '2019-12-23 23:05:27'\n",
    "ngay_dt = datetime.datetime.strptime(ngay, '%Y-%m-%d %H:%M:%S')\n",
    "print(ngay_dt)\n",
    "print(type(ngay_dt))\n"
   ]
  },
  {
   "cell_type": "markdown",
   "id": "e11cec9a",
   "metadata": {},
   "source": [
    "## Calendar"
   ]
  },
  {
   "cell_type": "code",
   "execution_count": 14,
   "id": "97904a7d",
   "metadata": {},
   "outputs": [
    {
     "name": "stdout",
     "output_type": "stream",
     "text": [
      "6\n"
     ]
    }
   ],
   "source": [
    "import calendar\n",
    "print(calendar.weekday(2023, 5, 7)) # 0: mon, 1: tue, ...6: sun"
   ]
  },
  {
   "cell_type": "code",
   "execution_count": 31,
   "id": "11783890",
   "metadata": {},
   "outputs": [
    {
     "name": "stdout",
     "output_type": "stream",
     "text": [
      "11\n",
      "(3, 30)\n"
     ]
    }
   ],
   "source": [
    "a = calendar.monthcalendar(2023,6)\n",
    "\n",
    "print(a[1][6]) # ngay chu nhat cua tuan thu 2 trong thang 6/2023\n",
    "\n",
    "print(calendar.monthrange(2023, 6))"
   ]
  },
  {
   "cell_type": "code",
   "execution_count": 21,
   "id": "bdee3280",
   "metadata": {},
   "outputs": [
    {
     "name": "stdout",
     "output_type": "stream",
     "text": [
      "True\n"
     ]
    }
   ],
   "source": [
    "import calendar\n",
    "print(calendar.isleap(2024)) # co phai la nam nhuan ko ? tra ve gia tri true false"
   ]
  },
  {
   "cell_type": "code",
   "execution_count": 22,
   "id": "7b64f71d",
   "metadata": {},
   "outputs": [
    {
     "name": "stdout",
     "output_type": "stream",
     "text": [
      "     June 2023\n",
      "Mo Tu We Th Fr Sa Su\n",
      "          1  2  3  4\n",
      " 5  6  7  8  9 10 11\n",
      "12 13 14 15 16 17 18\n",
      "19 20 21 22 23 24 25\n",
      "26 27 28 29 30\n",
      "\n"
     ]
    }
   ],
   "source": [
    "import calendar\n",
    "print(calendar.month(2023,6)) # in lich thang"
   ]
  },
  {
   "cell_type": "code",
   "execution_count": 23,
   "id": "9acea853",
   "metadata": {
    "scrolled": true
   },
   "outputs": [
    {
     "name": "stdout",
     "output_type": "stream",
     "text": [
      "6\n"
     ]
    }
   ],
   "source": [
    "import calendar\n",
    "print(calendar.weekday(2023,6,11))"
   ]
  },
  {
   "cell_type": "code",
   "execution_count": 24,
   "id": "c315563e",
   "metadata": {},
   "outputs": [
    {
     "name": "stdout",
     "output_type": "stream",
     "text": [
      "[[0, 0, 0, 1, 2, 3, 4], [5, 6, 7, 8, 9, 10, 11], [12, 13, 14, 15, 16, 17, 18], [19, 20, 21, 22, 23, 24, 25], [26, 27, 28, 29, 30, 0, 0]]\n"
     ]
    }
   ],
   "source": [
    "import calendar\n",
    "a = calendar.monthcalendar(2023,6) #Tra ve list ve list lon\n",
    "print(a)"
   ]
  },
  {
   "cell_type": "code",
   "execution_count": 25,
   "id": "48414434",
   "metadata": {},
   "outputs": [
    {
     "name": "stdout",
     "output_type": "stream",
     "text": [
      "8\n"
     ]
    }
   ],
   "source": [
    "import calendar\n",
    "a = calendar.monthcalendar(2023,6) #Tra ve list ve list lon\n",
    "print(a[1][3]) # a [1] nghia la danh sach thu  1 tinh theo index, vi tri thu 3  . output 8"
   ]
  },
  {
   "cell_type": "code",
   "execution_count": 26,
   "id": "625fc3d6",
   "metadata": {},
   "outputs": [
    {
     "name": "stdout",
     "output_type": "stream",
     "text": [
      "(3, 30)\n"
     ]
    }
   ],
   "source": [
    "import calendar\n",
    "print(calendar.monthrange(2023,6))"
   ]
  },
  {
   "cell_type": "code",
   "execution_count": 27,
   "id": "ef0e549a",
   "metadata": {},
   "outputs": [
    {
     "name": "stdout",
     "output_type": "stream",
     "text": [
      "\n",
      "January\n",
      "February\n",
      "March\n",
      "April\n",
      "May\n",
      "June\n",
      "July\n",
      "August\n",
      "September\n",
      "October\n",
      "November\n",
      "December\n"
     ]
    }
   ],
   "source": [
    "import calendar\n",
    "a = calendar.month_name\n",
    "\n",
    "for name in a:\n",
    "    print(name)"
   ]
  },
  {
   "cell_type": "code",
   "execution_count": 28,
   "id": "922c7818",
   "metadata": {},
   "outputs": [
    {
     "name": "stdout",
     "output_type": "stream",
     "text": [
      "Monday\n",
      "Tuesday\n",
      "Wednesday\n",
      "Thursday\n",
      "Friday\n",
      "Saturday\n",
      "Sunday\n"
     ]
    }
   ],
   "source": [
    "import calendar\n",
    "b = calendar.day_name\n",
    "for thu in b:\n",
    "    print(thu)"
   ]
  },
  {
   "cell_type": "code",
   "execution_count": null,
   "id": "f2530b09",
   "metadata": {},
   "outputs": [],
   "source": []
  },
  {
   "cell_type": "code",
   "execution_count": null,
   "id": "100b11de",
   "metadata": {},
   "outputs": [],
   "source": []
  }
 ],
 "metadata": {
  "kernelspec": {
   "display_name": "Python 3 (ipykernel)",
   "language": "python",
   "name": "python3"
  },
  "language_info": {
   "codemirror_mode": {
    "name": "ipython",
    "version": 3
   },
   "file_extension": ".py",
   "mimetype": "text/x-python",
   "name": "python",
   "nbconvert_exporter": "python",
   "pygments_lexer": "ipython3",
   "version": "3.10.10"
  }
 },
 "nbformat": 4,
 "nbformat_minor": 5
}
