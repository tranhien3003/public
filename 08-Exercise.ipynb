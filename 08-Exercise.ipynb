{
 "cells": [
  {
   "cell_type": "markdown",
   "id": "2affcdad",
   "metadata": {},
   "source": [
    "## 8.1 - tinh nam Am lich"
   ]
  },
  {
   "cell_type": "code",
   "execution_count": 1,
   "id": "f30b5076",
   "metadata": {},
   "outputs": [
    {
     "name": "stdout",
     "output_type": "stream",
     "text": [
      "nhap nam:2023\n",
      "nam 2023 am lich la nam  Quy Mao\n"
     ]
    }
   ],
   "source": [
    "def tinh_can(x):\n",
    "    can_List = ['Canh','Tan','Nham','Quy','Giap','At','Binh','Dinh','Mau','Ky']\n",
    "    chi_List = ['Than','Dau','Tuat','Hoi','Ty','Suu','Dan','Mao','Thin','Ty','Ngo','Mui']\n",
    "    can = x % 10\n",
    "    chi = x % 12\n",
    "    print ( f'nam {x} am lich la nam ',can_List[can], chi_List[chi])\n",
    "\n",
    "year = int(input('nhap nam:'))\n",
    "tinh_can(year)\n"
   ]
  },
  {
   "cell_type": "markdown",
   "id": "d36363a6",
   "metadata": {},
   "source": [
    "## 8.2 - tinh chi so BMI "
   ]
  },
  {
   "cell_type": "code",
   "execution_count": 3,
   "id": "2d077e0e",
   "metadata": {},
   "outputs": [
    {
     "name": "stdout",
     "output_type": "stream",
     "text": [
      "Nhap chieu cao:1.5\n",
      "Nhap can nang:42\n",
      "Nhap tieu chuan ban muon tinh who/asia:asia\n",
      "- Chi so BMI la Binh thuong \n",
      "- Ket qua danh gia 18.7\n"
     ]
    }
   ],
   "source": [
    "def bmi(cc,cn,type):\n",
    "    bmi = round(cn/(pow(cc,2)),1)\n",
    "    if type == 'who':\n",
    "        if bmi < 18.5:\n",
    "            kq = 'Thieu can (Gay)'\n",
    "        elif bmi < 24.9:\n",
    "            kq = 'Binh thuong'\n",
    "        elif bmi < 29.9:\n",
    "            kq = 'Thua can'\n",
    "        else:\n",
    "            kq = 'Beo phi'\n",
    "\n",
    "    else: \n",
    "        if bmi < 18.5:\n",
    "            kq = 'Thieu can (Gay)'\n",
    "        elif bmi < 22.9:\n",
    "            kq = 'Binh thuong'\n",
    "        elif bmi < 24.9:\n",
    "            kq = 'Thua can'\n",
    "        else:\n",
    "            kq = 'Beo phi'\n",
    "    return kq, bmi\n",
    "\n",
    "\n",
    "cc = eval(input('Nhap chieu cao:'))\n",
    "cn = eval(input('Nhap can nang:'))\n",
    "tieu_chuan = input('Nhap tieu chuan ban muon tinh who/asia:')\n",
    "bmi = bmi(cc,cn,tieu_chuan)\n",
    "print(f'- Chi so BMI la {bmi[0]} \\n- Ket qua danh gia {bmi[1]}')"
   ]
  },
  {
   "cell_type": "code",
   "execution_count": 4,
   "id": "28f14674",
   "metadata": {},
   "outputs": [
    {
     "name": "stdout",
     "output_type": "stream",
     "text": [
      "Nhap chieu cao:1.6\n",
      "Nhap can nang:45\n",
      "Nhap tieu chuan ban muon tinh: \n",
      "1. Chau A \n",
      "2. WHO\n",
      "WHO\n",
      "17.6 Gay\n"
     ]
    }
   ],
   "source": [
    "#-------Lamda\n",
    "\n",
    "bmi_lamda = lambda cc,cn,type : 'Gay' if (cn/pow(cc,2)) <18.5 else 'Binh thuong' if (cn/pow(cc,2)) <22.9 and type == 1 else 'Thua can' if (cn/pow(cc,2)) <24.9 and type == 1 else 'Beo phi' if (cn/pow(cc,2)) <25 and type == 1 else 'Binh thuong' if (cn/pow(cc,2)) <24.9 and type == 2 else 'Thua can' if (cn/pow(cc,2)) <29.9 and type == 2 else 'Beo phi'\n",
    "\n",
    "bmi_tinh = lambda cc,cn: round(cn/pow(cc,2),1) if cn/pow(cc,2) > 0 else 'Please input valid value'\n",
    "\n",
    "cc = eval(input('Nhap chieu cao:'))\n",
    "cn = eval(input('Nhap can nang:'))\n",
    "type = input('Nhap tieu chuan ban muon tinh: \\n1. Chau A \\n2. WHO\\n')\n",
    "\n",
    "print(bmi_tinh(cc,cn), bmi_lamda(cc,cn,type))"
   ]
  },
  {
   "cell_type": "markdown",
   "id": "a5e1798f",
   "metadata": {},
   "source": [
    "## 8.3 - tinh chu vi, dien tich"
   ]
  },
  {
   "cell_type": "code",
   "execution_count": 5,
   "id": "7e8ff9fd",
   "metadata": {},
   "outputs": [
    {
     "name": "stdout",
     "output_type": "stream",
     "text": [
      "Ban muon lam gi? \n",
      "1. Tinh chu vi/dien tich hinh tron \n",
      "2. Tinh chu vi/dien tich hinh chu nhat \n",
      "Moi ban chon:1\n",
      "Nhap ban kinh hinh tron: 56\n",
      "Ban kinh hinh tron 56 \n",
      "Chu vi 351.86 \n",
      "Dien tich 9852.03\n"
     ]
    }
   ],
   "source": [
    "import math\n",
    "\n",
    "def dt_cv_tron(r):\n",
    "    sp_tron = lambda r: (round(r*r*math.pi,2),round(r*2*math.pi,2)) if r > 0 else 'Please input valid value for r (ban kinh)'\n",
    "\n",
    "    return sp_tron (r)\n",
    "\n",
    "\n",
    "def dt_cv_hcn(a,b):\n",
    "    sp_chuNhat = lambda a,b : (round(a*b,2), round((a+b)*2,2)) if a > 0 and b > 0 else 'Please input valid value for a, b (chieu dai, chieu rong)'\n",
    "    return sp_chuNhat(a,b)\n",
    "\n",
    "action = int(input('Ban muon lam gi? \\n1. Tinh chu vi/dien tich hinh tron \\n2. Tinh chu vi/dien tich hinh chu nhat \\nMoi ban chon:'))\n",
    "\n",
    "if action == 1:\n",
    "    r = eval(input('Nhap ban kinh hinh tron: '))\n",
    "    result = dt_cv_tron(r)\n",
    "    print(f'Ban kinh hinh tron {r} \\nChu vi {result[1]} \\nDien tich {result[0]}')\n",
    "elif action ==2:\n",
    "    a = round(eval(input('Nhap chieu dai:')),2)\n",
    "    b = round(eval(input('Nhap chieu rong:')),2)\n",
    "    result = dt_cv_hcn(a,b)       \n",
    "    print(f'Chieu dai hinh chu nhat {a} \\nChieu rong hinh chu nhat {b} \\nChu vi {result[1]} \\nDien tich {result[0]}')\n",
    "else:\n",
    "    print('Please select valid action 1 or 2 only')"
   ]
  },
  {
   "cell_type": "markdown",
   "id": "4f104672",
   "metadata": {},
   "source": [
    "## 8.4  Danh sach diem (list, map ,filter, lamda)"
   ]
  },
  {
   "cell_type": "code",
   "execution_count": 3,
   "id": "6ff051d0",
   "metadata": {},
   "outputs": [
    {
     "name": "stdout",
     "output_type": "stream",
     "text": [
      "Diem trinh binh [7.8, 6.8, 9.1, 7.2, 4.9, 5.2, 7.2, 4.4, 7.5, 6.4]\n",
      "Xep loai  ['Dau', 'Dau', 'Dau', 'Dau', 'Rot', 'Dau', 'Dau', 'Rot', 'Dau', 'Dau']\n",
      "Danh sach diem tren TB [7.8, 6.8, 9.1, 7.2, 5.2, 7.2, 7.5, 6.4]\n",
      "Danh sach diem duoi tb [4.9, 4.4]\n",
      "Danh sach so nguyen cua diem tb  [7, 6, 9, 7, 4, 5, 7, 4, 7, 6]\n"
     ]
    }
   ],
   "source": [
    "from functools import reduce\n",
    "list_diem_hk1 = [8.5, 6.7, 9.0, 8.3, 5.0, 4.0, 6.0, 3.7, 9.5, 5.8]\n",
    "list_diem_hk2 = [7.0, 7.0, 9.2, 6.1, 4.8, 6.4, 8.5, 5.1, 5.6, 7.0]\n",
    "\n",
    "\n",
    "#Diem TB 2 HK\n",
    "list_diem_tb = list(map(lambda x, y : round((x +y)/2,1),list_diem_hk1,list_diem_hk2))\n",
    "print('Diem trinh binh', list_diem_tb)\n",
    "#Xep loai\n",
    "list_xep_loai = list(map(lambda x : 'Dau' if x >= 5 else 'Rot' ,list_diem_tb))\n",
    "print('Xep loai ',list_xep_loai)\n",
    "\n",
    "tren_tb = list(filter(lambda x: x > 5,list_diem_tb))\n",
    "print('Danh sach diem tren TB',tren_tb)\n",
    "\n",
    "duoi_tb = list(filter(lambda x : x < 5,list_diem_tb))\n",
    "print('Danh sach diem duoi tb',duoi_tb)\n",
    "\n",
    "# Chuyen diem tb thanh so nguyen va xuat ra so nguyen to\n",
    "\n",
    "# nguyen_diem_tb = [int(x) for x in list_diem_tb]\n",
    "\n",
    "nguyen_diem_tb2 = list(map(lambda x: int(x),list_diem_tb))\n",
    "print('Danh sach so nguyen cua diem tb ',nguyen_diem_tb2)"
   ]
  },
  {
   "cell_type": "code",
   "execution_count": 4,
   "id": "2fc57308",
   "metadata": {},
   "outputs": [
    {
     "name": "stdout",
     "output_type": "stream",
     "text": [
      "Danh sach so nguyen to  [7, 9, 7, 5, 7, 7]\n",
      "Tong so nguyen to  42\n"
     ]
    }
   ],
   "source": [
    "#So nguyen to\n",
    "def so_nguyen_to(x):\n",
    "    list_so_nguyen_to = []\n",
    "    if x < 2:\n",
    "        return False\n",
    "    \n",
    "    else:\n",
    "        for i in range(2,int(x**0.5)+1):\n",
    "            if x % i == 0:\n",
    "                return False\n",
    "                \n",
    "            else:\n",
    "                return True\n",
    "                \n",
    "\n",
    "\n",
    "so_nguyen_to = list(filter(so_nguyen_to,nguyen_diem_tb2))\n",
    "\n",
    "print('Danh sach so nguyen to ',so_nguyen_to)\n",
    "\n",
    "print('Tong so nguyen to ',sum(so_nguyen_to))\n"
   ]
  },
  {
   "cell_type": "markdown",
   "id": "b37386fc",
   "metadata": {},
   "source": [
    "## 8.5 kiem tra ngay thang nam hop le"
   ]
  },
  {
   "cell_type": "code",
   "execution_count": 9,
   "id": "f28b5fc8",
   "metadata": {},
   "outputs": [
    {
     "name": "stdout",
     "output_type": "stream",
     "text": [
      "Nhap ngay thang nam d/m/yy or d/m/yyyy:15/2/2023\n",
      " Nhap chuoi (dd/mm/yyyy): 15/02/2023 \n",
      " Ngay thang nam hop le\n"
     ]
    }
   ],
   "source": [
    "import calendar\n",
    "import datetime\n",
    "def string_date(x):\n",
    "    day, month, year = x.split('/')\n",
    "    return int(day), int(month), int(year)\n",
    "\n",
    "def nam_nhuan(y):\n",
    "    if 9< y < 99:\n",
    "        year = y +2000\n",
    "    else:\n",
    "        year = y\n",
    "    return calendar.isleap(year)\n",
    "\n",
    "\n",
    "\n",
    "def validate_date(d,m,y):\n",
    "    if m in (1,3,5,7,8,10,12) and d <= 31 and y > 9:\n",
    "        ket_qua = 'Ngay thang nam hop le'\n",
    "    elif m in (4,6,9,11) and d <= 30 and y > 9 :\n",
    "        ket_qua = 'Ngay thang nam hop le'\n",
    "    elif nam_nhuan(y) == True and d <= 29 and y >9:\n",
    "         ket_qua = 'Ngay thang nam hop le'\n",
    "    elif nam_nhuan(y) == False and d <= 28 and y >9:\n",
    "         ket_qua = 'Ngay thang nam hop le'\n",
    "    else:\n",
    "         ket_qua = 'Ngay thang nam khong hop le'\n",
    "    return ket_qua\n",
    "\n",
    "\n",
    "input_date = input('Nhap ngay thang nam d/m/yy or d/m/yyyy:' )\n",
    "\n",
    "d,m,y = string_date(input_date)\n",
    "\n",
    "print(f' Nhap chuoi (dd/mm/yyyy):',datetime.datetime(y,m,d).strftime('%d/%m/%Y'),f'\\n',validate_date(d,m,y))"
   ]
  },
  {
   "cell_type": "markdown",
   "id": "771356e9",
   "metadata": {},
   "source": [
    "## 8.6 - Viet ham xuat ra so nguyen to nho hon 100"
   ]
  },
  {
   "cell_type": "code",
   "execution_count": null,
   "id": "95bd8a51",
   "metadata": {},
   "outputs": [],
   "source": [
    "#So nguyen to\n",
    "def so_nguyen_to(x):\n",
    "    list_so_nguyen_to = []\n",
    "    if x < 2:\n",
    "        return False\n",
    "    \n",
    "    else:\n",
    "        for i in range(2,int(x**0.5)+1):\n",
    "            if x % i == 0:\n",
    "                return False\n",
    "                \n",
    "            else:\n",
    "                return True\n",
    "i = 0\n",
    "snt = []\n",
    "while i <= 100:\n",
    "    if so_nguyen_to(i):\n",
    "        snt.append(i)\n",
    "print(snt)        "
   ]
  },
  {
   "cell_type": "code",
   "execution_count": null,
   "id": "399c5011",
   "metadata": {},
   "outputs": [],
   "source": []
  }
 ],
 "metadata": {
  "kernelspec": {
   "display_name": "Python 3 (ipykernel)",
   "language": "python",
   "name": "python3"
  },
  "language_info": {
   "codemirror_mode": {
    "name": "ipython",
    "version": 3
   },
   "file_extension": ".py",
   "mimetype": "text/x-python",
   "name": "python",
   "nbconvert_exporter": "python",
   "pygments_lexer": "ipython3",
   "version": "3.10.10"
  }
 },
 "nbformat": 4,
 "nbformat_minor": 5
}
