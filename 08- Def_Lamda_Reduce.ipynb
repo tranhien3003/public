{
 "cells": [
  {
   "cell_type": "markdown",
   "id": "26aadfcd",
   "metadata": {},
   "source": [
    "# CHUONG 8: Def Lamda Reduce"
   ]
  },
  {
   "cell_type": "markdown",
   "id": "1c084f83",
   "metadata": {},
   "source": [
    "# 1. def"
   ]
  },
  {
   "cell_type": "markdown",
   "id": "90f68947",
   "metadata": {},
   "source": [
    "## 1.1 Ham tra ve gia tri"
   ]
  },
  {
   "cell_type": "markdown",
   "id": "0561dd6e",
   "metadata": {},
   "source": [
    "Return de xai ket qua"
   ]
  },
  {
   "cell_type": "code",
   "execution_count": 7,
   "id": "85a39316",
   "metadata": {},
   "outputs": [
    {
     "name": "stdout",
     "output_type": "stream",
     "text": [
      "1. Dien tich: 3000\n"
     ]
    }
   ],
   "source": [
    "def dien_tich_hinh_cn(cd,cr):\n",
    "    dt = cr * cd\n",
    "    return dt  \n",
    "\n",
    "dien_tich = dien_tich_hinh_cn(50,60)\n",
    "print('1. Dien tich:',dien_tich)"
   ]
  },
  {
   "cell_type": "markdown",
   "id": "58271e22",
   "metadata": {},
   "source": [
    "## 1.2 Ham tra ve in gia tri"
   ]
  },
  {
   "cell_type": "code",
   "execution_count": 6,
   "id": "e40e8381",
   "metadata": {},
   "outputs": [
    {
     "name": "stdout",
     "output_type": "stream",
     "text": [
      "Dien tich hinh chu nhat 3000\n"
     ]
    }
   ],
   "source": [
    "def dien_tich_hinh_cn2(cd,cr):\n",
    "    dt = cr*cd\n",
    "    print('Dien tich hinh chu nhat',dt)\n",
    "\n",
    "dien_tich2 = dien_tich_hinh_cn2(50,60)\n"
   ]
  },
  {
   "cell_type": "markdown",
   "id": "487c26d5",
   "metadata": {},
   "source": [
    "5m2 se thu hoach duoc  20 kg rau\n",
    "Kiem tra su khac biet trong ham khi return va Print\n",
    "Doi voi ham Pin se bi loi vi khong lay ra duoc gia tri return de tiep tuc su dung"
   ]
  },
  {
   "cell_type": "code",
   "execution_count": 8,
   "id": "66970f31",
   "metadata": {
    "scrolled": false
   },
   "outputs": [
    {
     "name": "stdout",
     "output_type": "stream",
     "text": [
      "So kg rau: 12000.0\n"
     ]
    },
    {
     "ename": "TypeError",
     "evalue": "unsupported operand type(s) for /: 'NoneType' and 'int'",
     "output_type": "error",
     "traceback": [
      "\u001b[1;31m---------------------------------------------------------------------------\u001b[0m",
      "\u001b[1;31mTypeError\u001b[0m                                 Traceback (most recent call last)",
      "Cell \u001b[1;32mIn[8], line 4\u001b[0m\n\u001b[0;32m      1\u001b[0m \u001b[38;5;66;03m#5m2 se thu hoach duoc  20 kg rau\u001b[39;00m\n\u001b[0;32m      3\u001b[0m \u001b[38;5;28mprint\u001b[39m(\u001b[38;5;124m'\u001b[39m\u001b[38;5;124mSo kg rau:\u001b[39m\u001b[38;5;124m'\u001b[39m,(dien_tich\u001b[38;5;241m/\u001b[39m\u001b[38;5;241m5\u001b[39m)\u001b[38;5;241m*\u001b[39m\u001b[38;5;241m20\u001b[39m)\n\u001b[1;32m----> 4\u001b[0m \u001b[38;5;28mprint\u001b[39m(\u001b[38;5;124m'\u001b[39m\u001b[38;5;124mSo kg rau2:\u001b[39m\u001b[38;5;124m'\u001b[39m,(\u001b[43mdien_tich2\u001b[49m\u001b[38;5;241;43m/\u001b[39;49m\u001b[38;5;241;43m5\u001b[39;49m)\u001b[38;5;241m*\u001b[39m\u001b[38;5;241m20\u001b[39m)\n",
      "\u001b[1;31mTypeError\u001b[0m: unsupported operand type(s) for /: 'NoneType' and 'int'"
     ]
    }
   ],
   "source": [
    "print('So kg rau:',(dien_tich/5)*20)\n",
    "print('So kg rau2:',(dien_tich2/5)*20) ## error vi ham dien_tich_hinh_cn2 khong tra ve gia tri"
   ]
  },
  {
   "cell_type": "code",
   "execution_count": 9,
   "id": "df3ab976",
   "metadata": {},
   "outputs": [
    {
     "name": "stdout",
     "output_type": "stream",
     "text": [
      "Tinh bmi: 18.22 Gay\n"
     ]
    }
   ],
   "source": [
    "# Tinh BMI\n",
    "#Cach 1: tra ve gia tri\n",
    "def tinh_bmi (can_nang, chieu_cao):\n",
    "    bmi = can_nang/(chieu_cao**2)\n",
    "    if bmi < 18.5:\n",
    "        kq= 'Gay'\n",
    "    elif bmi < 25:\n",
    "        kq ='Binh thuong'\n",
    "    elif bmi < 30:\n",
    "        kq = 'thua can'\n",
    "    else:\n",
    "        kq = 'Beo phi'\n",
    "    return bmi, kq\n",
    "\n",
    "BMI,ket_qua = tinh_bmi(41, 1.5)\n",
    "print(f'Tinh bmi: {BMI:.2f}',ket_qua)"
   ]
  },
  {
   "cell_type": "code",
   "execution_count": 11,
   "id": "2ae706df",
   "metadata": {},
   "outputs": [
    {
     "name": "stdout",
     "output_type": "stream",
     "text": [
      "(18.22222222222222, 'Gay')\n",
      "Tinh bmi: 18.22 Gay\n"
     ]
    }
   ],
   "source": [
    "# Tinh BMI\n",
    "#Cach 2: Tra ve tupple\n",
    "\n",
    "def tinh_bmi (can_nang, chieu_cao):\n",
    "    bmi = can_nang/(chieu_cao**2)\n",
    "    if bmi < 18.5:\n",
    "        kq= 'Gay'\n",
    "    elif bmi < 25:\n",
    "        kq ='Binh thuong'\n",
    "    elif bmi < 30:\n",
    "        kq = 'thua can'\n",
    "    else:\n",
    "        kq = 'Beo phi'\n",
    "    return bmi, kq\n",
    "\n",
    "ket_qua = tinh_bmi(41, 1.5) # Tupple\n",
    "print(ket_qua)\n",
    "print(f'Tinh bmi: {ket_qua[0]:.2f}', ket_qua[1]) # Tham chieu tupple"
   ]
  },
  {
   "cell_type": "code",
   "execution_count": 15,
   "id": "bfcd7d91",
   "metadata": {},
   "outputs": [
    {
     "name": "stdout",
     "output_type": "stream",
     "text": [
      "Thu nhap cua A ban la: 3,400\n"
     ]
    }
   ],
   "source": [
    "# Khong mac dinh tham so\n",
    "def tinh_luong(luong_cung ,phu_cap, thuong):\n",
    "    thu_nhap = luong_cung + phu_cap + thuong\n",
    "    return thu_nhap\n",
    "\n",
    "luong = tinh_luong(3000,300,100)\n",
    "print(f'Thu nhap cua A ban la: {luong:,}')"
   ]
  },
  {
   "cell_type": "markdown",
   "id": "7cc78032",
   "metadata": {},
   "source": [
    "## Mac dinh tham so"
   ]
  },
  {
   "cell_type": "code",
   "execution_count": 17,
   "id": "4f57516e",
   "metadata": {},
   "outputs": [
    {
     "name": "stdout",
     "output_type": "stream",
     "text": [
      "Thu nhap cua A ban la: 5,300\n",
      "Thu nhap cua B ban la: 5,390\n"
     ]
    }
   ],
   "source": [
    "#Mac dinh tham so thuong  = 0\n",
    "def tinh_luong(luong_cung ,phu_cap, thuong=0):  #Neu khong dien thuong thi thuong =0, tham so mac dinh de sau\n",
    "    thu_nhap = luong_cung + phu_cap + thuong\n",
    "    return thu_nhap\n",
    "\n",
    "luong = tinh_luong(5000,300)\n",
    "print(f'Thu nhap cua A ban la: {luong:,}')\n",
    "\n",
    "luong = tinh_luong(5000,300,90)\n",
    "print(f'Thu nhap cua B ban la: {luong:,}')"
   ]
  },
  {
   "cell_type": "markdown",
   "id": "2e4b09c6",
   "metadata": {},
   "source": [
    "## 1. 3 arg *"
   ]
  },
  {
   "cell_type": "code",
   "execution_count": 18,
   "id": "0d3bc765",
   "metadata": {},
   "outputs": [
    {
     "name": "stdout",
     "output_type": "stream",
     "text": [
      "26\n",
      "13\n"
     ]
    }
   ],
   "source": [
    "# Tham so thay doi khong xac dinh *arg \n",
    "\n",
    "def cong_cac_so(x,*y):  #*y nghia la nhieu gia tri Y, tuy vao input\n",
    "    tong = x\n",
    "    for n in y:\n",
    "        tong += n\n",
    "    return tong\n",
    "\n",
    "tong = cong_cac_so(3,6,8,9)\n",
    "print(tong)\n",
    "\n",
    "tong = cong_cac_so(3,8,2)\n",
    "print(tong)\n"
   ]
  },
  {
   "cell_type": "markdown",
   "id": "2fa899e9",
   "metadata": {},
   "source": [
    "## 1.4 Kwarg **"
   ]
  },
  {
   "cell_type": "code",
   "execution_count": 20,
   "id": "df961a5d",
   "metadata": {},
   "outputs": [
    {
     "name": "stdout",
     "output_type": "stream",
     "text": [
      "Chu lang hoa: Thien thanh\n",
      "Mot -- Ly\n",
      "Hai -- Cat tuong\n",
      "Ba -- Thach thao\n"
     ]
    }
   ],
   "source": [
    "#** Kwargs\n",
    "\n",
    "\n",
    "def in_ds_hoa(chu,**hoa):\n",
    "    print(f'Chu lang hoa: {chu}')\n",
    "\n",
    "    for k,v, in hoa.items():\n",
    "        print(k,\"--\",v)\n",
    "\n",
    "in_ds_hoa('Thien thanh', Mot = 'Ly', Hai ='Cat tuong', Ba = 'Thach thao')"
   ]
  },
  {
   "cell_type": "markdown",
   "id": "bc21b0f6",
   "metadata": {},
   "source": [
    "## 1.5 def in def"
   ]
  },
  {
   "cell_type": "code",
   "execution_count": 21,
   "id": "abfbac28",
   "metadata": {},
   "outputs": [
    {
     "name": "stdout",
     "output_type": "stream",
     "text": [
      "Tinh bmi: 18.22 Gay\n"
     ]
    }
   ],
   "source": [
    "# Def in Def\n",
    "\n",
    "def tinh_bmi(can_nang,chieu_cao):\n",
    "    bmi = can_nang/(chieu_cao**2)\n",
    "    return bmi\n",
    "\n",
    "\n",
    "def kq_tinhbmi(can_nang, chieu_cao):\n",
    "    bmi = tinh_bmi (can_nang,chieu_cao)\n",
    "    if bmi < 18.5:\n",
    "        kq= 'Gay'\n",
    "    elif bmi < 25:\n",
    "        kq ='Binh thuong'\n",
    "    elif bmi < 30:\n",
    "        kq = 'thua can'\n",
    "    else:\n",
    "        kq = 'Beo phi'\n",
    "    return bmi, kq\n",
    "ket_qua = kq_tinhbmi(41, 1.5) # Tupple\n",
    "print(f'Tinh bmi: {ket_qua[0]:.2f}', ket_qua[1]) # Tham chieu tupple\n",
    "\n",
    "#"
   ]
  },
  {
   "cell_type": "markdown",
   "id": "63555b46",
   "metadata": {},
   "source": [
    "## 1.6 def tra ve nhieu gia tri"
   ]
  },
  {
   "cell_type": "code",
   "execution_count": 22,
   "id": "d432ab24",
   "metadata": {},
   "outputs": [
    {
     "name": "stdout",
     "output_type": "stream",
     "text": [
      "Tong 19\n",
      "Gia tri lon nhat: 10\n",
      "Gia tri nho nhat: -2\n"
     ]
    }
   ],
   "source": [
    "def tong_min_max(a,b,c,d):\n",
    "    # x = list(a,b,c,d)\n",
    "    tong = sum ((a,b,c,d)) ## can (()) kieu du lieu phai tupple hoac List. sum ((a,b,c,d)) or sum ([a,b,c,d])\n",
    "    lon_nhat = max ((a,b,c,d))\n",
    "    nho_nhat = min ((a,b,c,d))\n",
    "    return tong, lon_nhat, nho_nhat\n",
    "\n",
    "tong, lon_nhat, nho_nhat = tong_min_max(10,5,-2,6)\n",
    "print('Tong', tong)\n",
    "print('Gia tri lon nhat:', lon_nhat)\n",
    "print('Gia tri nho nhat:', nho_nhat)"
   ]
  },
  {
   "cell_type": "markdown",
   "id": "bf39ff43",
   "metadata": {},
   "source": [
    "# 2. Lamda"
   ]
  },
  {
   "cell_type": "code",
   "execution_count": 23,
   "id": "698ec80b",
   "metadata": {},
   "outputs": [
    {
     "name": "stdout",
     "output_type": "stream",
     "text": [
      "100\n"
     ]
    }
   ],
   "source": [
    "#tinh s = (x*x +1) ^n\n",
    "\n",
    "def tinh_s(x,n):\n",
    "    s= pow(pow(x,2)+1,n)\n",
    "    return s\n",
    "\n",
    "tinh_s = lambda x,n: pow(pow(x,2)+1,n)\n",
    "print(tinh_s(3,2))"
   ]
  },
  {
   "cell_type": "code",
   "execution_count": 25,
   "id": "940aebb2",
   "metadata": {},
   "outputs": [
    {
     "name": "stdout",
     "output_type": "stream",
     "text": [
      "3\n"
     ]
    }
   ],
   "source": [
    "# Goi tuc thi . vua goi ham an danh bang Lamda va vua truyen gia tri\n",
    "\n",
    "n = (lambda x: x+1)(2)\n",
    "print(n)"
   ]
  },
  {
   "cell_type": "code",
   "execution_count": 26,
   "id": "932187bd",
   "metadata": {},
   "outputs": [
    {
     "name": "stdout",
     "output_type": "stream",
     "text": [
      "6\n",
      "6\n"
     ]
    }
   ],
   "source": [
    "#Tinh so chan- lamda\n",
    "tinh_so_chan = lambda x: x+1 if x %2 ==1 else x\n",
    "print(tinh_so_chan(5))\n",
    "print(tinh_so_chan(6))"
   ]
  },
  {
   "cell_type": "code",
   "execution_count": 27,
   "id": "0ee991d4",
   "metadata": {},
   "outputs": [
    {
     "name": "stdout",
     "output_type": "stream",
     "text": [
      "6\n",
      "6\n",
      "9\n"
     ]
    }
   ],
   "source": [
    "#Tinh boi 3\n",
    "\n",
    "tinh_boi_3 = lambda x : x+2 if x % 3==1 else x +1 if x %3 ==2 else x\n",
    "print(tinh_boi_3(5))\n",
    "print(tinh_boi_3(6))\n",
    "print(tinh_boi_3(7))\n"
   ]
  },
  {
   "cell_type": "code",
   "execution_count": 28,
   "id": "6d14ea99",
   "metadata": {},
   "outputs": [
    {
     "name": "stdout",
     "output_type": "stream",
     "text": [
      "[3, 6]\n"
     ]
    }
   ],
   "source": [
    "# Lamda vs MAP for list\n",
    "list_1 = [1,2]\n",
    "list_2 = list(map(lambda x : x*3 , list_1))\n",
    "print(list_2)\n"
   ]
  },
  {
   "cell_type": "code",
   "execution_count": 29,
   "id": "3adddf41",
   "metadata": {},
   "outputs": [
    {
     "name": "stdout",
     "output_type": "stream",
     "text": [
      "[7, 9, 11, 13, 15]\n"
     ]
    }
   ],
   "source": [
    "list_one = [1,2,3,4,5]\n",
    "list_two = [6,7,8,9,10]\n",
    "\n",
    "list_three = list(map(lambda x,y : x+y,list_one,list_two))\n",
    "print(list_three)\n"
   ]
  },
  {
   "cell_type": "markdown",
   "id": "f5056217",
   "metadata": {},
   "source": [
    "## 3.Dung Ham do Python cung cap"
   ]
  },
  {
   "cell_type": "code",
   "execution_count": 31,
   "id": "e8d6b8ab",
   "metadata": {},
   "outputs": [
    {
     "name": "stdout",
     "output_type": "stream",
     "text": [
      "[7, 9, 11, 13, 15]\n",
      "[-5, -5, -5, -5, -5]\n",
      "[6, 14, 24, 36, 50]\n",
      "[0.16666666666666666, 0.2857142857142857, 0.375, 0.4444444444444444, 0.5]\n"
     ]
    }
   ],
   "source": [
    "# Dung Ham do Python cung cap\n",
    "from operator import add, sub, mul, truediv\n",
    "\n",
    "# ## Tinh tong list\n",
    "\n",
    "list_one = [1,2,3,4,5,8.5]\n",
    "list_two = [6,7,8,9,10]\n",
    "\n",
    "list_tong = list(map(add, list_one, list_two))\n",
    "print(list_tong)\n",
    "\n",
    "list_hieu = list(map(sub, list_one, list_two))\n",
    "print(list_hieu)\n",
    "\n",
    "\n",
    "list_tich = list(map(mul, list_one, list_two))\n",
    "print(list_tich)\n",
    "\n",
    "list_thuong = list(map(truediv, list_one, list_two))\n",
    "print(list_thuong)"
   ]
  },
  {
   "cell_type": "code",
   "execution_count": 32,
   "id": "fee85684",
   "metadata": {},
   "outputs": [
    {
     "name": "stdout",
     "output_type": "stream",
     "text": [
      "adults =  [18, 34, 56]\n"
     ]
    }
   ],
   "source": [
    "def tren_muoi_tam(x):\n",
    "    if x <18:\n",
    "        return False\n",
    "    else:\n",
    "        return True\n",
    "    \n",
    "ages = [5,18,17,34,56]\n",
    "\n",
    "adults = list(filter(tren_muoi_tam,ages))\n",
    "print('adults = ', adults)"
   ]
  },
  {
   "cell_type": "code",
   "execution_count": 33,
   "id": "ba5698b8",
   "metadata": {},
   "outputs": [
    {
     "name": "stdout",
     "output_type": "stream",
     "text": [
      "adult =  [18, 34, 56]\n",
      "adult =  [18, 34, 56]\n",
      "list even number  [2, 4, 6, 8, 10]\n"
     ]
    }
   ],
   "source": [
    "## list copmprehension\n",
    "adults = list(filter(lambda x : x >= 18, ages))\n",
    "print('adult = ',adults)\n",
    "\n",
    "adults = [x for x in ages if x >= 18]\n",
    "print('adult = ',adults)\n",
    "\n",
    "list_number = range(1,11)\n",
    "list_even_number = list(filter(lambda item : item % 2 ==0 , list_number))\n",
    "print('list even number ', list_even_number)"
   ]
  },
  {
   "cell_type": "code",
   "execution_count": 34,
   "id": "446e621e",
   "metadata": {},
   "outputs": [
    {
     "name": "stdout",
     "output_type": "stream",
     "text": [
      "So le =  [1, 3, 5, 7, 9]\n",
      "[1, 3, 5, 7, 9]\n",
      "[1, 3, 5, 7, 9]\n"
     ]
    }
   ],
   "source": [
    "list_number = range(1,11)\n",
    "\n",
    "def so_le(x):\n",
    "    if x %2 != 0:\n",
    "        return True\n",
    "    else:\n",
    "        return False\n",
    "so_le = list(filter(so_le,list_number))\n",
    "print('So le = ', so_le)\n",
    "\n",
    "so_le = [x for x in list_number if x%2 !=0]\n",
    "print(so_le)\n",
    "\n",
    "so_le = list(filter(lambda x : x %2  != 0, list_number))\n",
    "print(so_le)"
   ]
  },
  {
   "cell_type": "markdown",
   "id": "99a34881",
   "metadata": {},
   "source": [
    "# 4. reduce"
   ]
  },
  {
   "cell_type": "code",
   "execution_count": 38,
   "id": "b0596189",
   "metadata": {},
   "outputs": [
    {
     "name": "stdout",
     "output_type": "stream",
     "text": [
      "X1 =  1 \t x2 =  5\n",
      "X1 =  6 \t x2 =  3\n",
      "X1 =  9 \t x2 =  4\n",
      "X1 =  13 \t x2 =  6\n",
      "X1 =  19 \t x2 =  10\n",
      "Tong  29\n"
     ]
    }
   ],
   "source": [
    "from functools import reduce\n",
    "\n",
    "def do_sum(x1,x2):\n",
    "    print('X1 = ',x1,'\\t', 'x2 = ',x2)\n",
    "    return x1 + x2\n",
    "print('Tong ',reduce(do_sum,[1,5,3,4,6,10]))"
   ]
  },
  {
   "cell_type": "code",
   "execution_count": 39,
   "id": "3a525ef2",
   "metadata": {},
   "outputs": [
    {
     "name": "stdout",
     "output_type": "stream",
     "text": [
      "Giai thua cua so 4:  24\n"
     ]
    }
   ],
   "source": [
    "def  mult(x,y):\n",
    "    return x*y\n",
    "fact = reduce(mult,range(1,5))\n",
    "print('Giai thua cua so 4: ',fact)"
   ]
  },
  {
   "cell_type": "code",
   "execution_count": 40,
   "id": "52b54d33",
   "metadata": {},
   "outputs": [
    {
     "name": "stdout",
     "output_type": "stream",
     "text": [
      "tich tu 3-6 : 360\n"
     ]
    }
   ],
   "source": [
    "tich = reduce(lambda x,y: x*y , range(3,7))\n",
    "print('tich tu 3-6 :',tich)"
   ]
  },
  {
   "cell_type": "code",
   "execution_count": 41,
   "id": "463de7fd",
   "metadata": {},
   "outputs": [
    {
     "name": "stdout",
     "output_type": "stream",
     "text": [
      "720\n"
     ]
    }
   ],
   "source": [
    "from operator import mul \n",
    "tich = reduce(mul,[1,2,5,8,9])\n",
    "print(tich)"
   ]
  }
 ],
 "metadata": {
  "kernelspec": {
   "display_name": "Python 3 (ipykernel)",
   "language": "python",
   "name": "python3"
  },
  "language_info": {
   "codemirror_mode": {
    "name": "ipython",
    "version": 3
   },
   "file_extension": ".py",
   "mimetype": "text/x-python",
   "name": "python",
   "nbconvert_exporter": "python",
   "pygments_lexer": "ipython3",
   "version": "3.10.10"
  }
 },
 "nbformat": 4,
 "nbformat_minor": 5
}
