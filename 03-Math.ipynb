{
 "cells": [
  {
   "cell_type": "markdown",
   "id": "c568bbdb",
   "metadata": {},
   "source": [
    "# Chuong 3 - Math"
   ]
  },
  {
   "cell_type": "markdown",
   "id": "1f000e15",
   "metadata": {},
   "source": [
    "## 3.1 Sum , Deduct, Multiply, Devide,"
   ]
  },
  {
   "cell_type": "code",
   "execution_count": 1,
   "id": "d8cf367f",
   "metadata": {},
   "outputs": [
    {
     "name": "stdout",
     "output_type": "stream",
     "text": [
      "sum =  15\n",
      "deduct =  7\n",
      "Multiply =  44\n",
      "Devide =  2.75\n",
      "Luy thua =  14641\n",
      "Chia lay nguyen =  2\n",
      "Chia lay du =  3\n"
     ]
    }
   ],
   "source": [
    "a = 11\n",
    "b = 4\n",
    "Sum = a + b\n",
    "Deduct = a - b\n",
    "Devide = a / b\n",
    "Mutiply = a * b\n",
    "luy_thua = a ** b\n",
    "chia_lay_nguyen = a //b\n",
    "chia_lay_du = a % b\n",
    "print(\"sum = \",Sum)\n",
    "print(\"deduct = \",Deduct)\n",
    "print(\"Multiply = \",Mutiply)\n",
    "print(\"Devide = \",Devide)\n",
    "print(\"Luy thua = \",luy_thua)\n",
    "print(\"Chia lay nguyen = \",chia_lay_nguyen)\n",
    "print(\"Chia lay du = \",chia_lay_du)"
   ]
  },
  {
   "cell_type": "markdown",
   "id": "d8c11ec1",
   "metadata": {},
   "source": [
    "## 3.2 How python calculate number?"
   ]
  },
  {
   "cell_type": "code",
   "execution_count": 2,
   "id": "39eea4f6",
   "metadata": {},
   "outputs": [
    {
     "name": "stdout",
     "output_type": "stream",
     "text": [
      "3.9999999999999996\n",
      "63.99999999999998\n",
      "64\n",
      "True\n"
     ]
    }
   ],
   "source": [
    "print(64 ** (1/3))\n",
    "print((64 ** (1/3))**3)\n",
    "print(round((64 ** (1/3))**3))\n",
    "print(round((64 ** (1/3)) ** 3) == 64)"
   ]
  },
  {
   "cell_type": "code",
   "execution_count": 3,
   "id": "811edd2a",
   "metadata": {},
   "outputs": [
    {
     "name": "stdout",
     "output_type": "stream",
     "text": [
      "0.10000000000000009\n",
      "0.1\n"
     ]
    }
   ],
   "source": [
    "a = 1.1 -1\n",
    "b = 0.1\n",
    "\n",
    "print(a)\n",
    "print(b)"
   ]
  },
  {
   "cell_type": "markdown",
   "id": "b95baf1c",
   "metadata": {},
   "source": [
    "## +="
   ]
  },
  {
   "cell_type": "code",
   "execution_count": 5,
   "id": "2f1eb770",
   "metadata": {},
   "outputs": [
    {
     "name": "stdout",
     "output_type": "stream",
     "text": [
      "13\n"
     ]
    }
   ],
   "source": [
    "a = 9\n",
    "b = 4\n",
    "a+=b #a = a + b\n",
    "print(a)"
   ]
  },
  {
   "cell_type": "markdown",
   "id": "4aac6759",
   "metadata": {},
   "source": [
    "## -="
   ]
  },
  {
   "cell_type": "code",
   "execution_count": 6,
   "id": "d9ebc747",
   "metadata": {
    "scrolled": true
   },
   "outputs": [
    {
     "name": "stdout",
     "output_type": "stream",
     "text": [
      "5\n"
     ]
    }
   ],
   "source": [
    "a = 9\n",
    "b = 4\n",
    "a-=b #a = a - b\n",
    "print(a)"
   ]
  },
  {
   "cell_type": "code",
   "execution_count": 7,
   "id": "8f9e0387",
   "metadata": {},
   "outputs": [
    {
     "name": "stdout",
     "output_type": "stream",
     "text": [
      "36\n"
     ]
    }
   ],
   "source": [
    "#3.5  *=\n",
    "a = 9\n",
    "b = 4\n",
    "a*=b #a = a * b\n",
    "print(a)\n"
   ]
  },
  {
   "cell_type": "code",
   "execution_count": 8,
   "id": "6d435494",
   "metadata": {},
   "outputs": [
    {
     "name": "stdout",
     "output_type": "stream",
     "text": [
      "2.25\n"
     ]
    }
   ],
   "source": [
    "#3.6  /=\n",
    "\n",
    "a = 9\n",
    "b = 4\n",
    "a/=b #a = a / b\n",
    "print(a)"
   ]
  },
  {
   "cell_type": "code",
   "execution_count": 9,
   "id": "0e585062",
   "metadata": {},
   "outputs": [
    {
     "name": "stdout",
     "output_type": "stream",
     "text": [
      "1\n"
     ]
    }
   ],
   "source": [
    "# 3.7 /=\n",
    "\n",
    "\n",
    "\n",
    "# 3.8 %=  Chia lay du \n",
    "\n",
    "a = 9\n",
    "b = 4\n",
    "a%=b #a = a - b\n",
    "print(a)\n"
   ]
  },
  {
   "cell_type": "code",
   "execution_count": 10,
   "id": "120f885f",
   "metadata": {},
   "outputs": [
    {
     "name": "stdout",
     "output_type": "stream",
     "text": [
      "16\n"
     ]
    }
   ],
   "source": [
    "#3.9 **=   Luy Thua\n",
    "\n",
    "\n",
    "a = 2\n",
    "b = 4\n",
    "a**=b #a = a ** b\n",
    "print(a)"
   ]
  },
  {
   "cell_type": "code",
   "execution_count": 11,
   "id": "d0b096dd",
   "metadata": {},
   "outputs": [
    {
     "name": "stdout",
     "output_type": "stream",
     "text": [
      "2\n"
     ]
    }
   ],
   "source": [
    "#3.10 //=     Chia lay du\n",
    "\n",
    "\n",
    "a = 9\n",
    "b = 4\n",
    "a//=b #a = a // b\n",
    "print(a)"
   ]
  },
  {
   "cell_type": "code",
   "execution_count": 12,
   "id": "fe9d5b82",
   "metadata": {},
   "outputs": [
    {
     "name": "stdout",
     "output_type": "stream",
     "text": [
      "False\n",
      "True\n",
      "False\n",
      "True\n",
      "False\n",
      "True\n"
     ]
    }
   ],
   "source": [
    "#3.11 Toan tu so sanh == bang , != khac. > , <,\n",
    "\n",
    "a = 8\n",
    "b = 9\n",
    "print( a == b)\n",
    "print( a != b)\n",
    "print( a > b)\n",
    "print( a < b)\n",
    "print( a >= b)\n",
    "print( a <= b)"
   ]
  },
  {
   "cell_type": "code",
   "execution_count": 13,
   "id": "17ac7d83",
   "metadata": {},
   "outputs": [
    {
     "name": "stdout",
     "output_type": "stream",
     "text": [
      "True\n"
     ]
    }
   ],
   "source": [
    "#3.12 So sanh kep   0 < x < 10 \n",
    "\n",
    "a = 8\n",
    "b = 9\n",
    "print(a<b<95)"
   ]
  },
  {
   "cell_type": "code",
   "execution_count": 14,
   "id": "619cbdce",
   "metadata": {},
   "outputs": [
    {
     "name": "stdout",
     "output_type": "stream",
     "text": [
      "True\n",
      "True\n"
     ]
    }
   ],
   "source": [
    "# 3.13 Toan tu logic and , or , not\n",
    "\n",
    "a = 10 \n",
    "b = 7\n",
    "c = 9\n",
    "gender = False\n",
    "# print(a>5 and (b+c) >= a)\n",
    "# print( a<5 or b %c ==0)   # b co chia het cho c\n",
    "print(not gender)\n",
    "print(not a > b+c)"
   ]
  },
  {
   "cell_type": "code",
   "execution_count": 15,
   "id": "6434817f",
   "metadata": {},
   "outputs": [
    {
     "name": "stdout",
     "output_type": "stream",
     "text": [
      "True\n",
      "True\n",
      "False\n",
      "True\n",
      "False\n"
     ]
    }
   ],
   "source": [
    "# 3.14 Toan tu in, not in\n",
    "\n",
    "number_list = [1,5,8,7,5]\n",
    "print(7 in number_list)\n",
    "print(7.0 in number_list)  #true\n",
    "print(4 in number_list)  #false\n",
    "\n",
    "string = 'Hien Tran'\n",
    "print('tran' not in string) # true\n",
    "print('Tran' not in string) # False  phan biet chu hoa va chua thuong"
   ]
  },
  {
   "cell_type": "code",
   "execution_count": 17,
   "id": "9f4c530a",
   "metadata": {},
   "outputs": [
    {
     "name": "stdout",
     "output_type": "stream",
     "text": [
      "False\n",
      "True\n",
      "False\n",
      "True\n"
     ]
    }
   ],
   "source": [
    "#3.15 Toam tu dinh danh is , is not\n",
    "\n",
    "a = 8\n",
    "b = 9\n",
    "print( a is b)\n",
    "print( a is not b)\n"
   ]
  },
  {
   "cell_type": "code",
   "execution_count": 18,
   "id": "a7a514aa",
   "metadata": {},
   "outputs": [
    {
     "name": "stdout",
     "output_type": "stream",
     "text": [
      "False\n",
      "True\n"
     ]
    }
   ],
   "source": [
    "c = 8.0\n",
    "c1 = 8\n",
    "print( c is c1)\n",
    "print( c is not c1)  # phan biet giua 8 va 8.0"
   ]
  },
  {
   "cell_type": "code",
   "execution_count": 19,
   "id": "3c10e57e",
   "metadata": {},
   "outputs": [
    {
     "name": "stdout",
     "output_type": "stream",
     "text": [
      "36.0\n"
     ]
    }
   ],
   "source": [
    "#3.16 Do uu tieun cua toan tu () , ** luy thua , *,/,% chia lay du,// chia lay nguyen\n",
    "#+, - .... \n",
    "\n",
    "bt = 5 **2 + (4/2)*5 -7%2 +5//2\n",
    "print(bt)\n"
   ]
  },
  {
   "cell_type": "code",
   "execution_count": 20,
   "id": "bad4f4f3",
   "metadata": {},
   "outputs": [
    {
     "name": "stdout",
     "output_type": "stream",
     "text": [
      "result = 3\n",
      "result = 2\n",
      "result = 4\n",
      "result = 64\n",
      "result = 72\n",
      "result = 2\n",
      "result = 1\n"
     ]
    }
   ],
   "source": [
    "#Bai 3.4 :\n",
    "result = 1 + 2\n",
    "print('result =', result)\n",
    "original_result = result\n",
    "result = result - 1\n",
    "print('result =', result)\n",
    "original_result = result\n",
    "result = result * 2\n",
    "original_result = result\n",
    "print('result =', result)\n",
    "result = result ** 3\n",
    "original_result = result\n",
    "print('result =', result)\n",
    "result = result + 8\n",
    "original_result = result\n",
    "print('result =', result)\n",
    "result = result % 7\n",
    "original_result = result\n",
    "print('result =', result)\n",
    "result = result // 2\n",
    "original_result = result\n",
    "print('result =', result)\n"
   ]
  },
  {
   "cell_type": "code",
   "execution_count": 21,
   "id": "34ff572d",
   "metadata": {},
   "outputs": [
    {
     "name": "stdout",
     "output_type": "stream",
     "text": [
      "Nhap so tien can doi:500000\n",
      "So to menh gia 500k: 1\n",
      "So to menh gia 200k: 0\n",
      "So to menh gia 100k: 0\n",
      "So to menh gia 500k: 0\n",
      "So tien con du: 0\n"
     ]
    }
   ],
   "source": [
    "# #Bai 3.3 : Ung dung chia lay nguyen, lay du\n",
    "\n",
    "a = eval(input('Nhap so tien can doi:'))\n",
    "\n",
    "#Bao nhieu to 500k\n",
    "b1 = a // 500000\n",
    "b2 = a % 500000\n",
    "print('So to menh gia 500k:',b1)\n",
    "\n",
    "#Bao nhieu to 200k\n",
    "\n",
    "c1= b2 // 200000\n",
    "c2 = b2 % 200000\n",
    "print('So to menh gia 200k:',c1)\n",
    "\n",
    "\n",
    "# Bao nhieu to 100k\n",
    "\n",
    "d1 = c2 // 100000\n",
    "d2 = c2 % 100000\n",
    "print ('So to menh gia 100k:',d1)\n",
    "\n",
    "# Bao nhieu to 50k\n",
    "\n",
    "e1 = d2 // 50000\n",
    "e2 = d2 % 50000\n",
    "print ('So to menh gia 500k:',e1)\n",
    "\n",
    "\n",
    "# So tien con du\n",
    "\n",
    "print ('So tien con du:',e2)"
   ]
  },
  {
   "cell_type": "code",
   "execution_count": 22,
   "id": "6411a183",
   "metadata": {},
   "outputs": [
    {
     "name": "stdout",
     "output_type": "stream",
     "text": [
      "Nhap so tien can doi:860002\n",
      "So to menh gia 500,000:  1\n",
      "So to menh gia 200,000:  1\n",
      "So to menh gia 100,000:  1\n",
      "So tien con lai : 10,002\n"
     ]
    }
   ],
   "source": [
    "# #Bai 3.3 : Ung dung chia lay nguyen, lay du - dat bien kieu co\n",
    "so_tien = eval(input('Nhap so tien can doi:'))\n",
    "\n",
    "so_to_500 = so_tien // 500000\n",
    "so_tien_con = so_tien % 500000\n",
    "\n",
    "so_to_200 = so_tien_con // 200000 #Chia lay nguyen\n",
    "so_tien_con %= 200000 # Chia lay du\n",
    "\n",
    "so_to_100 = so_tien_con // 100000\n",
    "so_tien_con %= 100000\n",
    "\n",
    "so_to_50 = so_tien_con // 50000\n",
    "so_tien_con %= 50000\n",
    "\n",
    "print('So to menh gia 500,000: ',so_to_500)\n",
    "print('So to menh gia 200,000: ',so_to_200)\n",
    "print('So to menh gia 100,000: ',so_to_100)\n",
    "print(f\"So tien con lai : {so_tien_con:,}\") # dat chu f truoc de format :, de tach hang ngan"
   ]
  }
 ],
 "metadata": {
  "kernelspec": {
   "display_name": "Python 3 (ipykernel)",
   "language": "python",
   "name": "python3"
  },
  "language_info": {
   "codemirror_mode": {
    "name": "ipython",
    "version": 3
   },
   "file_extension": ".py",
   "mimetype": "text/x-python",
   "name": "python",
   "nbconvert_exporter": "python",
   "pygments_lexer": "ipython3",
   "version": "3.10.9"
  }
 },
 "nbformat": 4,
 "nbformat_minor": 5
}
