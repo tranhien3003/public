{
 "cells": [
  {
   "cell_type": "markdown",
   "id": "ba14ee9e",
   "metadata": {},
   "source": [
    "# CHUONG 7 List – Tuple – Dictionary – Set"
   ]
  },
  {
   "cell_type": "markdown",
   "id": "34fab8fa",
   "metadata": {},
   "source": [
    "## 1. Number LIST"
   ]
  },
  {
   "cell_type": "code",
   "execution_count": 1,
   "id": "937b5fb2",
   "metadata": {},
   "outputs": [
    {
     "name": "stdout",
     "output_type": "stream",
     "text": [
      "[6, 7, 8, 9, 10, 10, 9, 8.5, 8.9]\n"
     ]
    }
   ],
   "source": [
    "diem_lst = [6,7,8,9,10,10,9,8.5,8.9]\n",
    "\n",
    "print(diem_lst) # [6, 7, 8, 9, 10, 10, 9, 8.5, 8.9]"
   ]
  },
  {
   "cell_type": "code",
   "execution_count": 2,
   "id": "31b71d2b",
   "metadata": {},
   "outputs": [
    {
     "name": "stdout",
     "output_type": "stream",
     "text": [
      "9\n"
     ]
    }
   ],
   "source": [
    "diem_lst = [6,7,8,9,10,10,9,8.5,8.9]\n",
    "print(len(diem_lst))"
   ]
  },
  {
   "cell_type": "code",
   "execution_count": 3,
   "id": "c65e40e5",
   "metadata": {},
   "outputs": [
    {
     "name": "stdout",
     "output_type": "stream",
     "text": [
      "6\n"
     ]
    }
   ],
   "source": [
    "diem_lst = [6,7,8,9,10,10,9,8.5,8.9]\n",
    "print(diem_lst[0])"
   ]
  },
  {
   "cell_type": "code",
   "execution_count": 4,
   "id": "c35cc942",
   "metadata": {},
   "outputs": [
    {
     "name": "stdout",
     "output_type": "stream",
     "text": [
      "7\n"
     ]
    }
   ],
   "source": [
    "diem_lst = [6,7,8,9,10,10,9,8.5,8.9]\n",
    "print(diem_lst[1]) #7"
   ]
  },
  {
   "cell_type": "code",
   "execution_count": 5,
   "id": "c0581204",
   "metadata": {},
   "outputs": [
    {
     "name": "stdout",
     "output_type": "stream",
     "text": [
      "8.9\n"
     ]
    }
   ],
   "source": [
    "diem_lst = [6,7,8,9,10,10,9,8.5,8.9]\n",
    "print(diem_lst[-1])  # 8.9"
   ]
  },
  {
   "cell_type": "code",
   "execution_count": 6,
   "id": "84c82060",
   "metadata": {},
   "outputs": [
    {
     "name": "stdout",
     "output_type": "stream",
     "text": [
      "8.5\n"
     ]
    }
   ],
   "source": [
    "diem_lst = [6,7,8,9,10,10,9,8.5,8.9]\n",
    "print(diem_lst[-2])    #8.5"
   ]
  },
  {
   "cell_type": "code",
   "execution_count": 7,
   "id": "948ce5a2",
   "metadata": {},
   "outputs": [
    {
     "name": "stdout",
     "output_type": "stream",
     "text": [
      "[6, 7]\n"
     ]
    }
   ],
   "source": [
    "diem_lst = [6,7,8,9,10,10,9,8.5,8.9]\n",
    "print(diem_lst[0:2])"
   ]
  },
  {
   "cell_type": "code",
   "execution_count": 8,
   "id": "5bac7b6a",
   "metadata": {},
   "outputs": [
    {
     "name": "stdout",
     "output_type": "stream",
     "text": [
      "[6, 7, 8]\n"
     ]
    }
   ],
   "source": [
    "diem_lst = [6,7,8,9,10,10,9,8.5,8.9]\n",
    "print(diem_lst[:3])"
   ]
  },
  {
   "cell_type": "code",
   "execution_count": 9,
   "id": "f9d14353",
   "metadata": {},
   "outputs": [
    {
     "name": "stdout",
     "output_type": "stream",
     "text": [
      "[9, 8.5, 8.9]\n"
     ]
    }
   ],
   "source": [
    "diem_lst = [6,7,8,9,10,10,9,8.5,8.9]\n",
    "print(diem_lst[-3:])"
   ]
  },
  {
   "cell_type": "markdown",
   "id": "396345b3",
   "metadata": {},
   "source": [
    "### 1.1 Update List"
   ]
  },
  {
   "cell_type": "code",
   "execution_count": 1,
   "id": "104afd3f",
   "metadata": {},
   "outputs": [
    {
     "name": "stdout",
     "output_type": "stream",
     "text": [
      "[6, 7, 8, 9, 10, 10, 5, 8.5, 8.9]\n"
     ]
    }
   ],
   "source": [
    "diem_lst = [6,7,8,9,10,10,9,8.5,8.9]\n",
    "diem_lst[6] = 5  # thay diem hv 7 thang 5 \n",
    "print(diem_lst)"
   ]
  },
  {
   "cell_type": "code",
   "execution_count": 2,
   "id": "4206d376",
   "metadata": {},
   "outputs": [
    {
     "name": "stdout",
     "output_type": "stream",
     "text": [
      "[6, 7, 8, 9, 10, 10, 8.5, 9.5, 8.5, 8.9]\n"
     ]
    }
   ],
   "source": [
    "diem_lst = [6,7,8,9,10,10,9,8.5,8.9]\n",
    "diem_lst[-3:-2] =[8.5, 9.5]\n",
    "print(diem_lst)"
   ]
  },
  {
   "cell_type": "code",
   "execution_count": 3,
   "id": "d848653e",
   "metadata": {},
   "outputs": [
    {
     "name": "stdout",
     "output_type": "stream",
     "text": [
      "[6, 7, 8, 9, 10, 10, 9, 8.5, 8.9, 8.5, 6]\n",
      "11\n"
     ]
    }
   ],
   "source": [
    "diem_lst = [6,7,8,9,10,10,9,8.5,8.9]\n",
    "diem_moi = [8.5, 6]\n",
    "diem_lst += diem_moi\n",
    "print(diem_lst)\n",
    "print(len(diem_lst))"
   ]
  },
  {
   "cell_type": "markdown",
   "id": "d2c9df1d",
   "metadata": {},
   "source": [
    "### 1.2 nhan trong list"
   ]
  },
  {
   "cell_type": "code",
   "execution_count": 13,
   "id": "111040a6",
   "metadata": {},
   "outputs": [
    {
     "name": "stdout",
     "output_type": "stream",
     "text": [
      "[4, 6, 5, 7]\n",
      "[4, 6, 4, 6]\n"
     ]
    }
   ],
   "source": [
    "list_a = [4,6]\n",
    "list_b = [5,7]\n",
    "\n",
    "print(list_a + list_b)\n",
    "print(list_a * 2)"
   ]
  },
  {
   "cell_type": "markdown",
   "id": "e46cc362",
   "metadata": {},
   "source": [
    "### 1.3 Toan tu thanh phan"
   ]
  },
  {
   "cell_type": "code",
   "execution_count": 14,
   "id": "b71b0d27",
   "metadata": {},
   "outputs": [
    {
     "name": "stdout",
     "output_type": "stream",
     "text": [
      "True\n"
     ]
    }
   ],
   "source": [
    "diem_lst = [6,7,8,9,10,10,9,8.5,8.9]\n",
    "print(9 in diem_lst) # co 9 trong list ko  TRUE"
   ]
  },
  {
   "cell_type": "code",
   "execution_count": 15,
   "id": "8fdd261d",
   "metadata": {},
   "outputs": [
    {
     "name": "stdout",
     "output_type": "stream",
     "text": [
      "True\n"
     ]
    }
   ],
   "source": [
    "diem_lst = [6,7,8,9,10,10,9,8.5,8.9]\n",
    "print(9.0 in diem_lst)  # co 9.0 trong list ko  TRUE"
   ]
  },
  {
   "cell_type": "code",
   "execution_count": 16,
   "id": "c77da271",
   "metadata": {
    "scrolled": true
   },
   "outputs": [
    {
     "name": "stdout",
     "output_type": "stream",
     "text": [
      "False\n"
     ]
    }
   ],
   "source": [
    "diem_lst = [6,7,8,9,10,10,9,8.5,8.9]\n",
    "print('9' in diem_lst)  #co chuoi 9 trong list ko   FALSE"
   ]
  },
  {
   "cell_type": "markdown",
   "id": "3262e748",
   "metadata": {},
   "source": [
    "### 1.4 max min"
   ]
  },
  {
   "cell_type": "code",
   "execution_count": 17,
   "id": "13875033",
   "metadata": {},
   "outputs": [
    {
     "name": "stdout",
     "output_type": "stream",
     "text": [
      "10\n",
      "6\n"
     ]
    }
   ],
   "source": [
    "diem_lst = [6,7,8,9,10,10,9,8.5,8.9]\n",
    "print(max(diem_lst))\n",
    "print(min(diem_lst))"
   ]
  },
  {
   "cell_type": "markdown",
   "id": "84a0f08a",
   "metadata": {},
   "source": [
    "### 1.5 SUM"
   ]
  },
  {
   "cell_type": "code",
   "execution_count": 20,
   "id": "c49c8d37",
   "metadata": {},
   "outputs": [
    {
     "name": "stdout",
     "output_type": "stream",
     "text": [
      "76.4\n",
      "8.49\n"
     ]
    }
   ],
   "source": [
    "diem_lst = [6,7,8,9,10,10,9,8.5,8.9]\n",
    "print(sum(diem_lst))  # tinh tong\n",
    "\n",
    "dtb = sum(diem_lst)/ len(diem_lst)  # tinh diem tb\n",
    "print(round(dtb,2))"
   ]
  },
  {
   "cell_type": "markdown",
   "id": "be90d85c",
   "metadata": {},
   "source": [
    "## 2. String LIST"
   ]
  },
  {
   "cell_type": "markdown",
   "id": "2c1f346a",
   "metadata": {},
   "source": [
    "### 2.1 in [List], max"
   ]
  },
  {
   "cell_type": "markdown",
   "id": "e69a6357",
   "metadata": {},
   "source": [
    "Phan biet chu Hoa va chu thuong"
   ]
  },
  {
   "cell_type": "code",
   "execution_count": 18,
   "id": "0537c1a9",
   "metadata": {
    "scrolled": true
   },
   "outputs": [
    {
     "name": "stdout",
     "output_type": "stream",
     "text": [
      "True\n",
      "False\n",
      "ly\n"
     ]
    }
   ],
   "source": [
    "list_chuoi = ['anh dao', 'hong','ly']\n",
    "print('hong' in list_chuoi)  #True\n",
    "print('Hong' in list_chuoi)  #False\n",
    "print(max(list_chuoi))  # ly"
   ]
  },
  {
   "cell_type": "markdown",
   "id": "805d9b25",
   "metadata": {},
   "source": [
    "### 2.2 + in list"
   ]
  },
  {
   "cell_type": "code",
   "execution_count": 21,
   "id": "a701c413",
   "metadata": {},
   "outputs": [
    {
     "name": "stdout",
     "output_type": "stream",
     "text": [
      "['anh dao', 'hong', 'ly', 'dong tien']\n"
     ]
    }
   ],
   "source": [
    "list_chuoi = ['anh dao', 'hong','ly']\n",
    "list_chuoi += ['dong tien']\n",
    "print(list_chuoi)  #['anh dao', 'hong', 'ly', 'dong tien']\n"
   ]
  },
  {
   "cell_type": "markdown",
   "id": "5b93ea4e",
   "metadata": {},
   "source": [
    "### 2.3 Text numbering"
   ]
  },
  {
   "cell_type": "code",
   "execution_count": 22,
   "id": "76707b68",
   "metadata": {},
   "outputs": [
    {
     "name": "stdout",
     "output_type": "stream",
     "text": [
      "108\n"
     ]
    }
   ],
   "source": [
    "print(ord('l'))  #108"
   ]
  },
  {
   "cell_type": "markdown",
   "id": "ebdd5bb9",
   "metadata": {},
   "source": [
    "### 2.4 APPEND"
   ]
  },
  {
   "cell_type": "code",
   "execution_count": 23,
   "id": "37528fa1",
   "metadata": {},
   "outputs": [
    {
     "name": "stdout",
     "output_type": "stream",
     "text": [
      "['anh dao', 'hong', 'ly', 'cuc', 'mai']\n"
     ]
    }
   ],
   "source": [
    "list_chuoi = ['anh dao', 'hong','ly']\n",
    "list_chuoi.append('cuc')\n",
    "list_chuoi.append('mai')\n",
    "print(list_chuoi)  #['anh dao', 'hong', 'ly', 'cuc', 'mai']"
   ]
  },
  {
   "cell_type": "code",
   "execution_count": 24,
   "id": "a87e31c9",
   "metadata": {},
   "outputs": [
    {
     "name": "stdout",
     "output_type": "stream",
     "text": [
      "['anh dao', 'hong', 'ly', ['cuc', 'mai']]\n"
     ]
    }
   ],
   "source": [
    "list_chuoi = ['anh dao', 'hong','ly']\n",
    "list_chuoi.append(['cuc','mai'])\n",
    "print(list_chuoi)  # ['anh dao', 'hong', 'ly', ['cuc', 'mai']] add chuoi con"
   ]
  },
  {
   "cell_type": "markdown",
   "id": "f4d7010e",
   "metadata": {},
   "source": [
    "### 2.5 INSERT"
   ]
  },
  {
   "cell_type": "code",
   "execution_count": 25,
   "id": "384b21d5",
   "metadata": {},
   "outputs": [
    {
     "name": "stdout",
     "output_type": "stream",
     "text": [
      "[6, 7, 9.5, 8, 9, 10, 10, 9, 8.5, 8.9]\n"
     ]
    }
   ],
   "source": [
    "diem_lst = [6,7,8,9,10,10,9,8.5,8.9]\n",
    "diem_lst.insert(2, 9.5)\n",
    "print(diem_lst)  #[6, 7, 9.5, 8, 9, 10, 10, 9, 8.5, 8.9] them 9.5 o vtri 3"
   ]
  },
  {
   "cell_type": "markdown",
   "id": "0666d3bc",
   "metadata": {},
   "source": [
    "### 2.6 EXTEND, COPY, COUNT"
   ]
  },
  {
   "cell_type": "code",
   "execution_count": 26,
   "id": "503656ff",
   "metadata": {},
   "outputs": [
    {
     "name": "stdout",
     "output_type": "stream",
     "text": [
      "2\n",
      "1\n"
     ]
    }
   ],
   "source": [
    "diem_lst = [6,7,8,9,10,10,9,8.5,8.9,3,10]\n",
    "print(diem_lst.count(9))\n",
    "print(diem_lst.count(6))\n"
   ]
  },
  {
   "cell_type": "markdown",
   "id": "1b90fa78",
   "metadata": {},
   "source": [
    "## 2.7 INDEX"
   ]
  },
  {
   "cell_type": "code",
   "execution_count": 29,
   "id": "2c8d1693",
   "metadata": {},
   "outputs": [
    {
     "name": "stdout",
     "output_type": "stream",
     "text": [
      "nhap X:10\n",
      "4\n"
     ]
    }
   ],
   "source": [
    "diem_lst = [6,7,8,9,10,10,9,8.5,8.9,3,10]\n",
    "x = eval(input('nhap X:'))\n",
    "\n",
    "if x in diem_lst:\n",
    "    print(diem_lst.index(x))\n",
    "\n",
    "else:\n",
    "    print(f'Khong co hoc vien dat {x} diem trong lop')\n",
    "\n",
    "\n"
   ]
  },
  {
   "cell_type": "code",
   "execution_count": 28,
   "id": "e686dde8",
   "metadata": {},
   "outputs": [
    {
     "name": "stdout",
     "output_type": "stream",
     "text": [
      "nhap X:5\n",
      "Khong co hoc vien dat 5 diem trong lop\n"
     ]
    }
   ],
   "source": [
    "diem_lst = [6,7,8,9,10,10,9,8.5,8.9,3,10]\n",
    "\n",
    "\n",
    "x = eval(input('nhap X:'))\n",
    "\n",
    "if x in diem_lst:\n",
    "    print(f'Hoc vien dat {x} diem o vi tri {diem_lst.index(x)+1}')\n",
    "\n",
    "else:\n",
    "    print(f'Khong co hoc vien dat {x} diem trong lop')\n"
   ]
  },
  {
   "cell_type": "markdown",
   "id": "e9f838d0",
   "metadata": {},
   "source": [
    "### 2.8 POP"
   ]
  },
  {
   "cell_type": "code",
   "execution_count": 30,
   "id": "4e2eea0f",
   "metadata": {},
   "outputs": [
    {
     "name": "stdout",
     "output_type": "stream",
     "text": [
      "[6, 7, 8, 9, 10, 10, 9, 8.5, 8.9, 3, 10]\n",
      "10\n",
      "[6, 7, 8, 9, 10, 10, 9, 8.5, 8.9, 3]\n"
     ]
    }
   ],
   "source": [
    "diem_lst = [6,7,8,9,10,10,9,8.5,8.9,3,10]\n",
    "print(diem_lst)\n",
    "x = diem_lst.pop() \n",
    "print(x)  \n",
    "print(diem_lst) "
   ]
  },
  {
   "cell_type": "code",
   "execution_count": 33,
   "id": "130ddae1",
   "metadata": {},
   "outputs": [
    {
     "name": "stdout",
     "output_type": "stream",
     "text": [
      "[6, 7, 8, 9, 10, 10, 9, 8.5, 8.9, 3, 10]\n",
      "9\n",
      "[6, 7, 8, 10, 10, 9, 8.5, 8.9, 3, 10]\n"
     ]
    }
   ],
   "source": [
    "diem_lst = [6,7,8,9,10,10,9,8.5,8.9,3,10]\n",
    "print(diem_lst)\n",
    "x = diem_lst.pop(3) # nhap vao vi tri index can xoa\n",
    "\n",
    "print(x)  \n",
    "\n",
    "print(diem_lst) "
   ]
  },
  {
   "cell_type": "markdown",
   "id": "8def8186",
   "metadata": {},
   "source": [
    "### 2.9 REMOVE"
   ]
  },
  {
   "cell_type": "code",
   "execution_count": 34,
   "id": "e5a4eba5",
   "metadata": {},
   "outputs": [
    {
     "name": "stdout",
     "output_type": "stream",
     "text": [
      "[6, 7, 8, 9, 10, 9, 8.5, 8.9, 3, 10]\n"
     ]
    }
   ],
   "source": [
    "diem_lst = [6,7,8,9,10,10,9,8.5,8.9,3,10]\n",
    "diem_lst.remove(10)  # Xoa gia tri 10 dau tien\n",
    "print(diem_lst)"
   ]
  },
  {
   "cell_type": "markdown",
   "id": "c4f68620",
   "metadata": {},
   "source": [
    "diem_lst = [6,7,8,9,10,10,9,8.5,8.9,3,10]\n",
    "diem_lst.remove(2)  # Xoa gia tri khong ton tai trong list\n",
    "print(diem_lst)  #ValueError: list.remove(x): x not in list"
   ]
  },
  {
   "cell_type": "markdown",
   "id": "01f07a0a",
   "metadata": {},
   "source": [
    "### 2.10 CLEAR"
   ]
  },
  {
   "cell_type": "code",
   "execution_count": 36,
   "id": "e1abf3d3",
   "metadata": {},
   "outputs": [
    {
     "name": "stdout",
     "output_type": "stream",
     "text": [
      "[]\n"
     ]
    }
   ],
   "source": [
    "diem_lst = [6,7,8,9,10,10,9,8.5,8.9,3,10]\n",
    "diem_lst.clear()  # Xoa het gia tri, van giu table\n",
    "print(diem_lst)  #[]\n"
   ]
  },
  {
   "cell_type": "markdown",
   "id": "3c8dfc64",
   "metadata": {},
   "source": [
    "## 2.11 DEL"
   ]
  },
  {
   "cell_type": "code",
   "execution_count": 37,
   "id": "87ec6a9f",
   "metadata": {},
   "outputs": [
    {
     "ename": "NameError",
     "evalue": "name 'diem_lst' is not defined",
     "output_type": "error",
     "traceback": [
      "\u001b[1;31m---------------------------------------------------------------------------\u001b[0m",
      "\u001b[1;31mNameError\u001b[0m                                 Traceback (most recent call last)",
      "Cell \u001b[1;32mIn[37], line 3\u001b[0m\n\u001b[0;32m      1\u001b[0m diem_lst \u001b[38;5;241m=\u001b[39m [\u001b[38;5;241m6\u001b[39m,\u001b[38;5;241m7\u001b[39m,\u001b[38;5;241m8\u001b[39m,\u001b[38;5;241m9\u001b[39m,\u001b[38;5;241m10\u001b[39m,\u001b[38;5;241m10\u001b[39m,\u001b[38;5;241m9\u001b[39m,\u001b[38;5;241m8.5\u001b[39m,\u001b[38;5;241m8.9\u001b[39m,\u001b[38;5;241m3\u001b[39m,\u001b[38;5;241m10\u001b[39m]\n\u001b[0;32m      2\u001b[0m \u001b[38;5;28;01mdel\u001b[39;00m diem_lst  \u001b[38;5;66;03m# xoa hoan toan\u001b[39;00m\n\u001b[1;32m----> 3\u001b[0m \u001b[38;5;28mprint\u001b[39m(\u001b[43mdiem_lst\u001b[49m)\n",
      "\u001b[1;31mNameError\u001b[0m: name 'diem_lst' is not defined"
     ]
    }
   ],
   "source": [
    "diem_lst = [6,7,8,9,10,10,9,8.5,8.9,3,10]\n",
    "del diem_lst  # xoa hoan toan\n",
    "print(diem_lst)  #name 'diem_lst' is not defined\n"
   ]
  },
  {
   "cell_type": "code",
   "execution_count": 39,
   "id": "0c68353e",
   "metadata": {},
   "outputs": [
    {
     "name": "stdout",
     "output_type": "stream",
     "text": [
      "[6, 8, 9, 10, 10, 9, 8.5, 8.9, 3, 10]\n"
     ]
    }
   ],
   "source": [
    "diem_lst = [6,7,8,9,10,10,9,8.5,8.9,3,10]\n",
    "del(diem_lst[1])  # xoa theo index\n",
    "print(diem_lst) "
   ]
  },
  {
   "cell_type": "markdown",
   "id": "760879ef",
   "metadata": {},
   "source": [
    "### 2. 12 REVERSE"
   ]
  },
  {
   "cell_type": "code",
   "execution_count": 40,
   "id": "20bd4169",
   "metadata": {},
   "outputs": [
    {
     "name": "stdout",
     "output_type": "stream",
     "text": [
      "[10, 3, 8.9, 8.5, 9, 10, 10, 9, 8, 7, 6]\n"
     ]
    }
   ],
   "source": [
    "diem_lst = [6,7,8,9,10,10,9,8.5,8.9,3,10]\n",
    "diem_lst.reverse()\n",
    "print(diem_lst) "
   ]
  },
  {
   "cell_type": "code",
   "execution_count": 42,
   "id": "23846853",
   "metadata": {},
   "outputs": [
    {
     "name": "stdout",
     "output_type": "stream",
     "text": [
      "SX GIAM dan: [10, 10, 10, 9, 9, 8.9, 8.5, 8, 7, 6, 3]\n"
     ]
    }
   ],
   "source": [
    "diem_lst = [6,7,8,9,10,10,9,8.5,8.9,3,10]\n",
    "diem_lst.sort(reverse = True)\n",
    "print('SX GIAM dan:',diem_lst)  #SX GIAM dan: [10, 10, 10, 9, 9, 8.9, 8.5, 8, 7, 6, 3]"
   ]
  },
  {
   "cell_type": "markdown",
   "id": "623aa4f9",
   "metadata": {},
   "source": [
    "### 2.13 SORT"
   ]
  },
  {
   "cell_type": "code",
   "execution_count": 41,
   "id": "d5298f36",
   "metadata": {},
   "outputs": [
    {
     "name": "stdout",
     "output_type": "stream",
     "text": [
      "SX Tang dan: [3, 6, 7, 8, 8.5, 8.9, 9, 9, 10, 10, 10]\n"
     ]
    }
   ],
   "source": [
    "diem_lst = [6,7,8,9,10,10,9,8.5,8.9,3,10]\n",
    "diem_lst.sort()\n",
    "print('SX Tang dan:',diem_lst)  #SX Tang dan: [3, 6, 7, 8, 8.5, 8.9, 9, 9, 10, 10, 10]\n"
   ]
  },
  {
   "cell_type": "markdown",
   "id": "42a908de",
   "metadata": {},
   "source": [
    "sx taNG DAN XONG DAO CHIEU"
   ]
  },
  {
   "cell_type": "code",
   "execution_count": 43,
   "id": "d8f29751",
   "metadata": {},
   "outputs": [
    {
     "name": "stdout",
     "output_type": "stream",
     "text": [
      "[3, 6, 7, 8, 8.5, 8.9, 9, 9, 10, 10, 10]\n",
      "[10, 10, 10, 9, 9, 8.9, 8.5, 8, 7, 6, 3]\n"
     ]
    }
   ],
   "source": [
    "diem_lst = [6,7,8,9,10,10,9,8.5,8.9,3,10]\n",
    "diem_lst.sort()\n",
    "print(diem_lst)\n",
    "diem_lst.reverse()\n",
    "print(diem_lst)"
   ]
  },
  {
   "cell_type": "markdown",
   "id": "801f9889",
   "metadata": {},
   "source": [
    "## 3. List comprehension"
   ]
  },
  {
   "cell_type": "code",
   "execution_count": 44,
   "id": "6096d4b3",
   "metadata": {},
   "outputs": [
    {
     "name": "stdout",
     "output_type": "stream",
     "text": [
      "[3, 6]\n"
     ]
    }
   ],
   "source": [
    "lst = [1,2]\n",
    "\n",
    "new = [3*x for x in lst]\n",
    "\n",
    "print(new)  #[3, 6]"
   ]
  },
  {
   "cell_type": "code",
   "execution_count": 45,
   "id": "17c16eaf",
   "metadata": {},
   "outputs": [
    {
     "name": "stdout",
     "output_type": "stream",
     "text": [
      "[6, 7, 8, 9, 9, 8.5, 8.9, 3]\n"
     ]
    }
   ],
   "source": [
    "diem_lst = [6,7,8,9,10,10,9,8.5,8.9,3,10]\n",
    "new = [diem for diem in diem_lst if diem != 10]\n",
    "print(new) #[6, 7, 8, 9, 9, 8.5, 8.9, 3]"
   ]
  },
  {
   "cell_type": "code",
   "execution_count": 46,
   "id": "6432dc65",
   "metadata": {},
   "outputs": [
    {
     "name": "stdout",
     "output_type": "stream",
     "text": [
      "['dau', 'dau', 'dau', 'dau', 'dau', 'dau', 'dau', 'dau', 'dau', 'rot', 'dau']\n"
     ]
    }
   ],
   "source": [
    "diem_lst = [6,7,8,9,10,10,9,8.5,8.9,3,10]\n",
    "kq = ['dau' if diem >= 5 else 'rot' for diem in diem_lst]\n",
    "print(kq)"
   ]
  },
  {
   "cell_type": "code",
   "execution_count": 47,
   "id": "8fa64e57",
   "metadata": {
    "scrolled": false
   },
   "outputs": [
    {
     "name": "stdout",
     "output_type": "stream",
     "text": [
      "['tb', 'kha', 'gioi', 'gioi', 'gioi', 'gioi', 'gioi', 'gioi', 'gioi', 'yeu', 'gioi']\n"
     ]
    }
   ],
   "source": [
    "kq1 = ['gioi' if diem >=8 else 'kha' if diem >= 6.5\n",
    "       else 'tb' if diem >=5 else 'yeu' for diem in diem_lst]\n",
    "print(kq1)"
   ]
  },
  {
   "cell_type": "markdown",
   "id": "aeb10426",
   "metadata": {},
   "source": [
    "## 4. TUPPLE"
   ]
  },
  {
   "cell_type": "code",
   "execution_count": 8,
   "id": "35d6a8a0",
   "metadata": {},
   "outputs": [
    {
     "name": "stdout",
     "output_type": "stream",
     "text": [
      "1_ (0, 1, 3, 6, 87, 98, 6, 8, 7, 9) <class 'tuple'>\n",
      "2_ (9, 9, 2, 7, 5) <class 'tuple'>\n",
      "3_ 1 <class 'int'>\n",
      "4_ (3,) <class 'tuple'>\n",
      "5_ (10.6,) <class 'tuple'>\n"
     ]
    }
   ],
   "source": [
    "#Khai bao Tupple\n",
    "tup1 = (0,1,3,6,87,98,6,8,7,9)\n",
    "tup2 = 9,9,2,7,5\n",
    "tup3 =(1) #<class 'int'>\n",
    "tup4 = (3,)\n",
    "tup5 = 10.6,\n",
    "print('1_',tup1,type(tup1))\n",
    "print('2_',tup2,type(tup2))\n",
    "print('3_',tup3,type(tup3))\n",
    "print('4_',tup4,type(tup4))\n",
    "print('5_',tup5,type(tup5))"
   ]
  },
  {
   "cell_type": "code",
   "execution_count": 4,
   "id": "ced2428a",
   "metadata": {},
   "outputs": [
    {
     "name": "stdout",
     "output_type": "stream",
     "text": [
      "Truy xuat typle\n",
      "3\n",
      "(1, 3)\n",
      "9\n"
     ]
    }
   ],
   "source": [
    "# Truy xuat tuple\n",
    "\n",
    "print('Truy xuat typle')\n",
    "print(tup1[2])\n",
    "print(tup1[1:3])\n",
    "print(tup1[-1])"
   ]
  },
  {
   "cell_type": "code",
   "execution_count": 9,
   "id": "a8f832f0",
   "metadata": {},
   "outputs": [
    {
     "name": "stdout",
     "output_type": "stream",
     "text": [
      "[98, 87, 9, 8, 7, 6, 6, 3, 1, 0] <class 'list'>\n"
     ]
    }
   ],
   "source": [
    "# Chuyen doi list sang tuple\n",
    "lsx = sorted(tup1, reverse= True)\n",
    "print(lsx , type(lsx))"
   ]
  },
  {
   "cell_type": "code",
   "execution_count": 10,
   "id": "8272c737",
   "metadata": {},
   "outputs": [
    {
     "name": "stdout",
     "output_type": "stream",
     "text": [
      "(0, 1, 3, 6, 87, 98, 6, 8, 7, 9)\n",
      "index duoc tim thay:  8\n"
     ]
    }
   ],
   "source": [
    "#4 Tim kiem\n",
    "\n",
    "print(tup1)\n",
    "print('index duoc tim thay: ', tup1.index(7)) # tim ra co gia tri co so 7 tra ve vi tri so 7 nam trong vi tri nao cua tuple\n"
   ]
  },
  {
   "cell_type": "code",
   "execution_count": 11,
   "id": "6fef9daf",
   "metadata": {},
   "outputs": [
    {
     "ename": "SyntaxError",
     "evalue": "invalid syntax (3872863391.py, line 4)",
     "output_type": "error",
     "traceback": [
      "\u001b[1;36m  Cell \u001b[1;32mIn[11], line 4\u001b[1;36m\u001b[0m\n\u001b[1;33m    print(tup1)a #NameError: name 'tup1' is not defined\u001b[0m\n\u001b[1;37m               ^\u001b[0m\n\u001b[1;31mSyntaxError\u001b[0m\u001b[1;31m:\u001b[0m invalid syntax\n"
     ]
    }
   ],
   "source": [
    "## Xoa Tuple\n",
    "print(tup1)\n",
    "del(tup1)\n",
    "print(tup1)a #NameError: name 'tup1' is not defined"
   ]
  },
  {
   "cell_type": "markdown",
   "id": "4f2897fb",
   "metadata": {},
   "source": [
    "## 5. DICTIONARY"
   ]
  },
  {
   "cell_type": "code",
   "execution_count": 19,
   "id": "b4edfc53",
   "metadata": {},
   "outputs": [
    {
     "name": "stdout",
     "output_type": "stream",
     "text": [
      "{1: 'Dao', 2: 'ly', 3: 'Moc lan', 4: 'Mau Don', 5: 'Tulip'}\n"
     ]
    }
   ],
   "source": [
    "#1. Tao Dictionary\n",
    "dict_hoa = {1:'Dao', 2:'ly',3:'Moc lan',4:'Mau Don',5:'Tulip'}\n",
    "print(dict_hoa)"
   ]
  },
  {
   "cell_type": "code",
   "execution_count": 13,
   "id": "f095ab5e",
   "metadata": {},
   "outputs": [
    {
     "name": "stdout",
     "output_type": "stream",
     "text": [
      "Truy xuat: \n",
      "Dao\n",
      "ly\n"
     ]
    },
    {
     "ename": "KeyError",
     "evalue": "6",
     "output_type": "error",
     "traceback": [
      "\u001b[1;31m---------------------------------------------------------------------------\u001b[0m",
      "\u001b[1;31mKeyError\u001b[0m                                  Traceback (most recent call last)",
      "Cell \u001b[1;32mIn[13], line 6\u001b[0m\n\u001b[0;32m      4\u001b[0m \u001b[38;5;28mprint\u001b[39m(dict_hoa\u001b[38;5;241m.\u001b[39mget(\u001b[38;5;241m2\u001b[39m))  \u001b[38;5;66;03m# lay key 2\u001b[39;00m\n\u001b[0;32m      5\u001b[0m \u001b[38;5;66;03m# Tra none neu khong co gia tri trong key\u001b[39;00m\n\u001b[1;32m----> 6\u001b[0m \u001b[38;5;28mprint\u001b[39m(\u001b[43mdict_hoa\u001b[49m\u001b[43m[\u001b[49m\u001b[38;5;241;43m6\u001b[39;49m\u001b[43m]\u001b[49m) \u001b[38;5;66;03m#KeyError: 6\u001b[39;00m\n\u001b[0;32m      8\u001b[0m \u001b[38;5;28mprint\u001b[39m(\u001b[38;5;124m'\u001b[39m\u001b[38;5;130;01m\\n\u001b[39;00m\u001b[38;5;124m'\u001b[39m, dict_hoa\u001b[38;5;241m.\u001b[39mitems())  \u001b[38;5;66;03m#Truy c\\xuat bo cap key va value\u001b[39;00m\n\u001b[0;32m      9\u001b[0m \u001b[38;5;28mprint\u001b[39m(\u001b[38;5;124m'\u001b[39m\u001b[38;5;130;01m\\n\u001b[39;00m\u001b[38;5;124mKeys:\u001b[39m\u001b[38;5;124m'\u001b[39m, dict_hoa\u001b[38;5;241m.\u001b[39mkeys())  \u001b[38;5;66;03m#Truy xuat theo bo key\u001b[39;00m\n",
      "\u001b[1;31mKeyError\u001b[0m: 6"
     ]
    }
   ],
   "source": [
    "#2. Truy xuat\n",
    "print('Truy xuat: ')\n",
    "print(dict_hoa[1])\n",
    "print(dict_hoa.get(2))  # lay key 2\n",
    "# Tra none neu khong co gia tri trong key\n",
    "print(dict_hoa[6]) #KeyError: 6\n",
    "\n",
    "print('\\n', dict_hoa.items())  #Truy c\\xuat bo cap key va value\n",
    "print('\\nKeys:', dict_hoa.keys())  #Truy xuat theo bo key\n",
    "print('\\nValues:', dict_hoa.values())  #Truy xuat value"
   ]
  },
  {
   "cell_type": "code",
   "execution_count": 14,
   "id": "d9ccfc3c",
   "metadata": {},
   "outputs": [
    {
     "name": "stdout",
     "output_type": "stream",
     "text": [
      "{1: 'Dao', 2: 'ly', 3: 'Moc lan', 4: 'Mau Don', 5: 'Tulip', 6: 'Lan'}\n"
     ]
    }
   ],
   "source": [
    "#3. them phan tu trong dictionary\n",
    "dict_hoa[6] = 'Lan' \n",
    "print(dict_hoa)"
   ]
  },
  {
   "cell_type": "code",
   "execution_count": 15,
   "id": "1d8251bb",
   "metadata": {},
   "outputs": [
    {
     "name": "stdout",
     "output_type": "stream",
     "text": [
      "{1: 'Dao', 2: 'cat tuong', 3: 'Moc lan', 4: 'Mau Don', 5: 'Tulip', 6: 'Lan'}\n"
     ]
    }
   ],
   "source": [
    "#4. Cap nhat phan tu\n",
    "dict_hoa[2] ='cat tuong'\n",
    "print(dict_hoa)\n"
   ]
  },
  {
   "cell_type": "code",
   "execution_count": 16,
   "id": "58f1681b",
   "metadata": {},
   "outputs": [
    {
     "name": "stdout",
     "output_type": "stream",
     "text": [
      "{1: 'Dao', 2: 'cat tuong', 3: 'Moc lan', 4: 'Mau Don', 5: 'Tulip', 6: 'Phong Lan,', 7: 'Hue', 8: 'Cuc'}\n"
     ]
    }
   ],
   "source": [
    "#5. Them phan tu\n",
    "dict_new = {6: 'Phong Lan,', 7:'Hue', 8:'Cuc'}\n",
    "dict_hoa.update(dict_new)\n",
    "print(dict_hoa)\n"
   ]
  },
  {
   "cell_type": "code",
   "execution_count": 20,
   "id": "ab3fa23a",
   "metadata": {},
   "outputs": [
    {
     "name": "stdout",
     "output_type": "stream",
     "text": [
      "Key: 1 \t Value: Dao\n",
      "Key: 2 \t Value: ly\n",
      "Key: 3 \t Value: Moc lan\n",
      "Key: 4 \t Value: Mau Don\n",
      "Key: 5 \t Value: Tulip\n",
      "{1: 'Mai', 8: 'Lan', 15: 'Cuc'} <class 'dict'>\n",
      "dict2 =  {1: 'Mai', 8: 'Lan', 15: 'Cuc'} kieu <class 'dict'>\n"
     ]
    }
   ],
   "source": [
    "#6. DUYET\n",
    "\n",
    "for key, value in dict_hoa.items():\n",
    "    print('Key:',key,'\\t','Value:',value)\n",
    "\n",
    "\n",
    "lst = [(1,'Mai'),(8,'Lan'),(15,'Cuc')]\n",
    "dict1= dict(lst)\n",
    "print(dict1, type(dict1))\n",
    "\n",
    "tup = ([1,'Mai'],[8,'Lan'],[15,'Cuc'])\n",
    "dict2 = dict(tup)\n",
    "print('dict2 = ', dict2, 'kieu', type(dict2))\n"
   ]
  },
  {
   "cell_type": "code",
   "execution_count": 21,
   "id": "f9cc0f36",
   "metadata": {},
   "outputs": [
    {
     "name": "stdout",
     "output_type": "stream",
     "text": [
      "<class 'zip'>\n",
      "<zip object at 0x000002550B794DC0>\n",
      "{2: 'Mai', 4: 'Lan', 7: 'Cuc', 8: 'Truc', 3: 'Dao'}\n",
      "{2: 'Hoa', 4: 'Hoa', 7: 'Hoa', 8: 'Hoa', 3: 'Hoa'}\n",
      "5\n"
     ]
    }
   ],
   "source": [
    "#7. Dung ham zip de ket hop 2 hoac nhieu sequence, lay key hop theo sequence nho\n",
    "\n",
    "list_nguyen = [2,4,7,8,3]  # Dung lam key\n",
    "list_chuoi = ['Mai', 'Lan','Cuc', 'Truc','Dao','Hue','Ly'] # Value\n",
    "\n",
    "z1 = zip(list_nguyen,list_chuoi)\n",
    "\n",
    "print(type(z1)) #<class 'zip'>\n",
    "print(z1)  #<zip object at 0x0000024A8E3FE640>\n",
    "print(dict(z1))  #{2: 'Mai', 4: 'Lan', 7: 'Cuc', 8: 'Truc', 3: 'Dao'}\n",
    "\n",
    "dic1 = dict.fromkeys(list_nguyen,'Hoa')\n",
    "print(dic1)  #{2: 'Hoa', 4: 'Hoa', 7: 'Hoa', 8: 'Hoa', 3: 'Hoa'}\n",
    "print(len(dic1)) #5"
   ]
  },
  {
   "cell_type": "code",
   "execution_count": 22,
   "id": "7f35a110",
   "metadata": {
    "scrolled": true
   },
   "outputs": [
    {
     "name": "stdout",
     "output_type": "stream",
     "text": [
      "dict3: {2: 'Mai', 4: 'Lan', 7: 'Cuc', 8: 'Truc', 3: 'Dao'}\n",
      "dict4 {}\n",
      "dict5 {}\n"
     ]
    }
   ],
   "source": [
    "#8. DICTIONARY COMPREHENSION\n",
    "dict_hoa = {1:'Dao', 2:'ly',3:'Moc lan',4:'Mau Don',5:'Tulip'}\n",
    "list_nguyen = [2,4,7,8,3]  # Dung lam key\n",
    "list_chuoi = ['Mai', 'Lan','Cuc', 'Truc','Dao','Hue','Ly'] # Value\n",
    "z1 = zip(list_nguyen,list_chuoi)\n",
    "dict3 = {n:hoa for (n, hoa) in z1 }\n",
    "print('dict3:', dict3)\n",
    "\n",
    "dict4 = {n:hoa for (n, hoa) in z1 if 'a' in hoa} \n",
    "print('dict4',dict4)\n",
    "\n",
    "dict5 = {n:hoa.upper() for (n,hoa) in z1}\n",
    "print('dict5',dict5)"
   ]
  },
  {
   "cell_type": "code",
   "execution_count": 23,
   "id": "3152cc7a",
   "metadata": {},
   "outputs": [
    {
     "name": "stdout",
     "output_type": "stream",
     "text": [
      "(5, 'Tulip')\n",
      "{1: 'Dao', 2: 'ly', 3: 'Moc lan', 4: 'Mau Don'}\n",
      "{2: 'ly', 3: 'Moc lan', 4: 'Mau Don'}\n",
      "{}\n"
     ]
    },
    {
     "ename": "NameError",
     "evalue": "name 'dict_hoa' is not defined",
     "output_type": "error",
     "traceback": [
      "\u001b[1;31m---------------------------------------------------------------------------\u001b[0m",
      "\u001b[1;31mNameError\u001b[0m                                 Traceback (most recent call last)",
      "Cell \u001b[1;32mIn[23], line 10\u001b[0m\n\u001b[0;32m      8\u001b[0m \u001b[38;5;28mprint\u001b[39m(dict_hoa)\n\u001b[0;32m      9\u001b[0m \u001b[38;5;28;01mdel\u001b[39;00m dict_hoa   \u001b[38;5;66;03m# Xoa luon dict_hoa\u001b[39;00m\n\u001b[1;32m---> 10\u001b[0m \u001b[38;5;28mprint\u001b[39m(\u001b[43mdict_hoa\u001b[49m) \u001b[38;5;66;03m# NameError: name 'dict_hoa' is not defined\u001b[39;00m\n\u001b[0;32m     11\u001b[0m \u001b[38;5;28;01mdel\u001b[39;00m dict_hoa\n\u001b[0;32m     12\u001b[0m \u001b[38;5;28mprint\u001b[39m(dict_hoa)\n",
      "\u001b[1;31mNameError\u001b[0m: name 'dict_hoa' is not defined"
     ]
    }
   ],
   "source": [
    "#9. Xoa phan tu\n",
    "x = dict_hoa.popitem() # Xoa phan tu cuoi\n",
    "print(x)\n",
    "print(dict_hoa)\n",
    "del dict_hoa[1]\n",
    "print(dict_hoa)\n",
    "dict_hoa.clear() # Xoa het\n",
    "print(dict_hoa)\n",
    "del dict_hoa   # Xoa luon dict_hoa\n",
    "print(dict_hoa) # NameError: name 'dict_hoa' is not defined\n",
    "del dict_hoa\n",
    "print(dict_hoa)"
   ]
  },
  {
   "cell_type": "markdown",
   "id": "339b4cb1",
   "metadata": {},
   "source": [
    "## 6.  SET"
   ]
  },
  {
   "cell_type": "code",
   "execution_count": 37,
   "id": "fcc2b801",
   "metadata": {},
   "outputs": [
    {
     "name": "stdout",
     "output_type": "stream",
     "text": [
      "set nguyen:  {2, 3, 4, 5, 6, 7}\n"
     ]
    }
   ],
   "source": [
    "set_nguyen = {2,3,4,6,7,5,5}\n",
    "print(\"set nguyen: \",set_nguyen)"
   ]
  },
  {
   "cell_type": "code",
   "execution_count": 38,
   "id": "c6385f96",
   "metadata": {},
   "outputs": [
    {
     "name": "stdout",
     "output_type": "stream",
     "text": [
      "Set chuoi:  {'Ly', 'Dao', 'Hong', 'Moc lan', 'Mau don'}\n"
     ]
    }
   ],
   "source": [
    "set_chuoi = set(['Dao','Ly', 'Moc lan','Mau don','Hong'])\n",
    "print('Set chuoi: ',set_chuoi) # Moi lan in set chuoi 1 thu tu"
   ]
  },
  {
   "cell_type": "code",
   "execution_count": 26,
   "id": "e7f9e4b6",
   "metadata": {},
   "outputs": [
    {
     "ename": "TypeError",
     "evalue": "unhashable type: 'list'",
     "output_type": "error",
     "traceback": [
      "\u001b[1;31m---------------------------------------------------------------------------\u001b[0m",
      "\u001b[1;31mTypeError\u001b[0m                                 Traceback (most recent call last)",
      "Cell \u001b[1;32mIn[26], line 1\u001b[0m\n\u001b[1;32m----> 1\u001b[0m set_nhieukieu \u001b[38;5;241m=\u001b[39m {\u001b[38;5;241m2\u001b[39m, \u001b[38;5;241m15.5\u001b[39m, \u001b[38;5;124m\"\u001b[39m\u001b[38;5;124mx\u001b[39m\u001b[38;5;124m\"\u001b[39m,[\u001b[38;5;124m'\u001b[39m\u001b[38;5;124mDao\u001b[39m\u001b[38;5;124m'\u001b[39m,\u001b[38;5;124m'\u001b[39m\u001b[38;5;124mLy\u001b[39m\u001b[38;5;124m'\u001b[39m, \u001b[38;5;124m'\u001b[39m\u001b[38;5;124mMoc lan\u001b[39m\u001b[38;5;124m'\u001b[39m,\u001b[38;5;124m'\u001b[39m\u001b[38;5;124mMau don\u001b[39m\u001b[38;5;124m'\u001b[39m,\u001b[38;5;124m'\u001b[39m\u001b[38;5;124mHong\u001b[39m\u001b[38;5;124m'\u001b[39m] }\n\u001b[0;32m      2\u001b[0m \u001b[38;5;28mprint\u001b[39m(\u001b[38;5;124m'\u001b[39m\u001b[38;5;124mSet nhieu kieu: \u001b[39m\u001b[38;5;124m'\u001b[39m, set_nhieukieu)\n",
      "\u001b[1;31mTypeError\u001b[0m: unhashable type: 'list'"
     ]
    }
   ],
   "source": [
    "set_nhieukieu = {2, 15.5, \"x\",['Dao','Ly', 'Moc lan','Mau don','Hong'] }\n",
    "print('Set nhieu kieu: ', set_nhieukieu)  #TypeError: unhashable type: 'list'"
   ]
  },
  {
   "cell_type": "code",
   "execution_count": 27,
   "id": "898e710f",
   "metadata": {},
   "outputs": [
    {
     "name": "stdout",
     "output_type": "stream",
     "text": [
      "Set rong set() Kieu:  <class 'set'>\n",
      "<class 'dict'>\n"
     ]
    }
   ],
   "source": [
    "set_rong = set()\n",
    "print('Set rong', set_rong,'Kieu: ', type(set_rong))\n",
    "dict_rong = {}\n",
    "print(type((dict_rong)))"
   ]
  },
  {
   "cell_type": "code",
   "execution_count": 28,
   "id": "d4c54c97",
   "metadata": {},
   "outputs": [
    {
     "name": "stdout",
     "output_type": "stream",
     "text": [
      "{2, 3, 4, 5, 6, 7}\n",
      "{2, 3, 4, 5, 6, 7, 12}\n"
     ]
    }
   ],
   "source": [
    "set_nguyen.add(5)\n",
    "print(set_nguyen)\n",
    "set_nguyen.add(12)\n",
    "print(set_nguyen)"
   ]
  },
  {
   "cell_type": "code",
   "execution_count": 30,
   "id": "8d06b256",
   "metadata": {},
   "outputs": [
    {
     "name": "stdout",
     "output_type": "stream",
     "text": [
      "{'Ly', 'Dao', 'Hong', 'Moc lan', 'Mau don', 'Cam tu'}\n"
     ]
    }
   ],
   "source": [
    "#Them 1 phan tu vao set\n",
    "set_chuoi.add('Cam tu')\n",
    "print(set_chuoi)"
   ]
  },
  {
   "cell_type": "code",
   "execution_count": 31,
   "id": "5ff4ef19",
   "metadata": {},
   "outputs": [
    {
     "name": "stdout",
     "output_type": "stream",
     "text": [
      "{'L', 'Ly', 'u', 'n', 'k', ' ', 'Dao', 'Hong', 't', 'o', 'Moc lan', 'C', 'Mau don', 'e', 'a', 'Cam tu', 'm'}\n"
     ]
    }
   ],
   "source": [
    "#Them nhieu phan tu vao set\n",
    "set_chuoi.update('Cam tu', 'Loa ken')\n",
    "print(set_chuoi)"
   ]
  },
  {
   "cell_type": "code",
   "execution_count": 32,
   "id": "6d6bbc78",
   "metadata": {},
   "outputs": [
    {
     "name": "stdout",
     "output_type": "stream",
     "text": [
      "{'L', 'Ly', 'u', 'n', 'k', ' ', 'Dao', 'Hong', 't', 'o', 'Moc lan', 'C', 'Mau don', 'e', 'Loa ken', 'a', 'Cam tu', 'm'}\n"
     ]
    }
   ],
   "source": [
    "set_chuoi.update(['Cam tu','Loa ken'])\n",
    "print(set_chuoi)"
   ]
  },
  {
   "cell_type": "code",
   "execution_count": 33,
   "id": "e8cccc01",
   "metadata": {},
   "outputs": [
    {
     "name": "stdout",
     "output_type": "stream",
     "text": [
      "True\n",
      "False\n"
     ]
    }
   ],
   "source": [
    "#KIem tra phan tu co ton tai trong set (IN, NOT IN)\n",
    "print('Ly' in set_chuoi)\n",
    "print('Ly' not in set_chuoi)"
   ]
  },
  {
   "cell_type": "code",
   "execution_count": 39,
   "id": "1a043c79",
   "metadata": {},
   "outputs": [
    {
     "name": "stdout",
     "output_type": "stream",
     "text": [
      "{2, 3, 4, 5, 6, 7}\n",
      "2\n",
      "{3, 4, 5, 6, 7}\n"
     ]
    }
   ],
   "source": [
    "# Lay element ra khoi SET\n",
    "print(set_nguyen)\n",
    "s = set_nguyen.pop()\n",
    "print(s)\n",
    "print(set_nguyen)"
   ]
  },
  {
   "cell_type": "code",
   "execution_count": 40,
   "id": "a947f499",
   "metadata": {},
   "outputs": [
    {
     "name": "stdout",
     "output_type": "stream",
     "text": [
      "{'Ly', 'Dao', 'Hong', 'Moc lan', 'Mau don'}\n",
      "Ly\n",
      "{'Dao', 'Hong', 'Moc lan', 'Mau don'}\n"
     ]
    }
   ],
   "source": [
    "print(set_chuoi)\n",
    "s = set_chuoi.pop()\n",
    "print(s)\n",
    "print(set_chuoi)\n"
   ]
  },
  {
   "cell_type": "code",
   "execution_count": 41,
   "id": "7856d2a0",
   "metadata": {},
   "outputs": [
    {
     "name": "stdout",
     "output_type": "stream",
     "text": [
      "3\n",
      "4\n",
      "5\n",
      "6\n",
      "7\n",
      "Dao\n",
      "Hong\n",
      "Moc lan\n",
      "Mau don\n"
     ]
    }
   ],
   "source": [
    "#6 Duyet SET: Giong nhu List\n",
    "\n",
    "for nguyen in set_nguyen:\n",
    "    print(nguyen)\n",
    "\n",
    "for hoa in set_chuoi:\n",
    "    print(hoa)\n"
   ]
  },
  {
   "cell_type": "code",
   "execution_count": 42,
   "id": "6fc18c21",
   "metadata": {},
   "outputs": [
    {
     "name": "stdout",
     "output_type": "stream",
     "text": [
      "sap xep tang\n",
      "[3, 4, 5, 6, 7]\n",
      "{3, 4, 5, 6, 7}\n",
      "[7, 6, 5, 4, 3]\n"
     ]
    }
   ],
   "source": [
    "#7 Sap xep\n",
    "\n",
    "print('sap xep tang')\n",
    "s1 = sorted(set_nguyen)\n",
    "\n",
    "\n",
    "print(s1)\n",
    "print(set_nguyen )\n",
    "\n",
    "\n",
    "print(sorted(set_nguyen,reverse=True)) #Giam"
   ]
  },
  {
   "cell_type": "code",
   "execution_count": 43,
   "id": "7e44bc01",
   "metadata": {},
   "outputs": [
    {
     "name": "stdout",
     "output_type": "stream",
     "text": [
      "{0, 1, 2, 3, 4, 6, 7, 8}\n"
     ]
    }
   ],
   "source": [
    "\n",
    "#9 Cac thao tac ve Set (Set operation)\n",
    "\n",
    "set1 = {1,2,3,4,6}\n",
    "set2 = {0,1,2,4,6,7,8}\n",
    "# KET hop\n",
    "set_kq = set1 | set2\n",
    "set_kq = set1.union(set2)\n",
    "print(set_kq)"
   ]
  },
  {
   "cell_type": "code",
   "execution_count": null,
   "id": "75b71b58",
   "metadata": {},
   "outputs": [],
   "source": [
    "set1 = {1,2,3,4,6}\n",
    "set2 = {0,1,3,4,6,7,8}\n",
    "set3 = {8,3,4}\n",
    "z = set1 | set2 & set3  # 2 giao 3   >> noi them 1\n",
    "print(z)"
   ]
  },
  {
   "cell_type": "code",
   "execution_count": 34,
   "id": "ff76786b",
   "metadata": {
    "scrolled": true
   },
   "outputs": [
    {
     "name": "stdout",
     "output_type": "stream",
     "text": [
      "{2, 3, 4, 5, 6, 7, 12}\n",
      "{2, 3, 4, 5, 6, 12}\n",
      "{2, 3, 5, 6, 12}\n"
     ]
    },
    {
     "ename": "KeyError",
     "evalue": "4",
     "output_type": "error",
     "traceback": [
      "\u001b[1;31m---------------------------------------------------------------------------\u001b[0m",
      "\u001b[1;31mKeyError\u001b[0m                                  Traceback (most recent call last)",
      "Cell \u001b[1;32mIn[34], line 8\u001b[0m\n\u001b[0;32m      6\u001b[0m \u001b[38;5;28mprint\u001b[39m(set_nguyen)\n\u001b[0;32m      7\u001b[0m set_nguyen\u001b[38;5;241m.\u001b[39mdiscard(\u001b[38;5;241m4\u001b[39m)\n\u001b[1;32m----> 8\u001b[0m \u001b[43mset_nguyen\u001b[49m\u001b[38;5;241;43m.\u001b[39;49m\u001b[43mremove\u001b[49m\u001b[43m(\u001b[49m\u001b[38;5;241;43m4\u001b[39;49m\u001b[43m)\u001b[49m\n",
      "\u001b[1;31mKeyError\u001b[0m: 4"
     ]
    }
   ],
   "source": [
    "#Xoa phan tu trong SET\n",
    "print(set_nguyen)\n",
    "set_nguyen.discard(7)\n",
    "print(set_nguyen)\n",
    "set_nguyen.remove(4)\n",
    "print(set_nguyen)\n",
    "set_nguyen.discard(4)\n",
    "set_nguyen.remove(4) #KeyError: 4"
   ]
  },
  {
   "cell_type": "code",
   "execution_count": 35,
   "id": "a866e485",
   "metadata": {},
   "outputs": [
    {
     "name": "stdout",
     "output_type": "stream",
     "text": [
      "set()\n"
     ]
    }
   ],
   "source": [
    "set_chuoi.clear() # Xoa het element\n",
    "print(set_chuoi) #set()\n"
   ]
  },
  {
   "cell_type": "code",
   "execution_count": 36,
   "id": "50ad20ca",
   "metadata": {},
   "outputs": [
    {
     "ename": "NameError",
     "evalue": "name 'set_nguyen' is not defined",
     "output_type": "error",
     "traceback": [
      "\u001b[1;31m---------------------------------------------------------------------------\u001b[0m",
      "\u001b[1;31mNameError\u001b[0m                                 Traceback (most recent call last)",
      "Cell \u001b[1;32mIn[36], line 2\u001b[0m\n\u001b[0;32m      1\u001b[0m \u001b[38;5;28;01mdel\u001b[39;00m (set_nguyen)   \u001b[38;5;66;03m#Xoa luon set\u001b[39;00m\n\u001b[1;32m----> 2\u001b[0m \u001b[38;5;28mprint\u001b[39m(\u001b[43mset_nguyen\u001b[49m)\n",
      "\u001b[1;31mNameError\u001b[0m: name 'set_nguyen' is not defined"
     ]
    }
   ],
   "source": [
    "del (set_nguyen)   #Xoa luon set\n",
    "print(set_nguyen)  #NameError: name 'set_nguyen' is not defined"
   ]
  }
 ],
 "metadata": {
  "kernelspec": {
   "display_name": "Python 3 (ipykernel)",
   "language": "python",
   "name": "python3"
  },
  "language_info": {
   "codemirror_mode": {
    "name": "ipython",
    "version": 3
   },
   "file_extension": ".py",
   "mimetype": "text/x-python",
   "name": "python",
   "nbconvert_exporter": "python",
   "pygments_lexer": "ipython3",
   "version": "3.10.9"
  }
 },
 "nbformat": 4,
 "nbformat_minor": 5
}
