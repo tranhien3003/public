{
 "cells": [
  {
   "cell_type": "code",
   "execution_count": 2,
   "id": "716e5195",
   "metadata": {},
   "outputs": [
    {
     "name": "stdout",
     "output_type": "stream",
     "text": [
      "\n",
      "\t**    **  ******  **      **      ******\n",
      "\t**    **  **      **      **      **  **\n",
      "\t********  ******  **      **      **  **\n",
      "\t**    **  **      **      **      **  **\n",
      "\t**    **  ******  ******  ******  ******\n",
      "\t\n"
     ]
    }
   ],
   "source": [
    "hello = \"\"\"\n",
    "\t**    **  ******  **      **      ******\n",
    "\t**    **  **      **      **      **  **\n",
    "\t********  ******  **      **      **  **\n",
    "\t**    **  **      **      **      **  **\n",
    "\t**    **  ******  ******  ******  ******\n",
    "\t\"\"\"\n",
    "print(hello)"
   ]
  },
  {
   "cell_type": "code",
   "execution_count": 3,
   "id": "82b6377d",
   "metadata": {},
   "outputs": [
    {
     "name": "stdout",
     "output_type": "stream",
     "text": [
      "Welcome to Fundermental of Python\n"
     ]
    }
   ],
   "source": [
    "print('Welcome to Fundermental of Python')"
   ]
  },
  {
   "cell_type": "code",
   "execution_count": 4,
   "id": "9f5ffd59",
   "metadata": {},
   "outputs": [
    {
     "name": "stdout",
     "output_type": "stream",
     "text": [
      "7\n"
     ]
    }
   ],
   "source": [
    "a = 5\n",
    "b = 2\n",
    "c = a + b\n",
    "print(c)"
   ]
  }
 ],
 "metadata": {
  "kernelspec": {
   "display_name": "Python 3 (ipykernel)",
   "language": "python",
   "name": "python3"
  },
  "language_info": {
   "codemirror_mode": {
    "name": "ipython",
    "version": 3
   },
   "file_extension": ".py",
   "mimetype": "text/x-python",
   "name": "python",
   "nbconvert_exporter": "python",
   "pygments_lexer": "ipython3",
   "version": "3.10.9"
  }
 },
 "nbformat": 4,
 "nbformat_minor": 5
}
