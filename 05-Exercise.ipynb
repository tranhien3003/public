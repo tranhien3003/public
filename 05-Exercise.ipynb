{
 "cells": [
  {
   "cell_type": "markdown",
   "id": "13f1d844",
   "metadata": {},
   "source": [
    "## 5.1 Count down"
   ]
  },
  {
   "cell_type": "code",
   "execution_count": 1,
   "id": "003ba49e",
   "metadata": {},
   "outputs": [
    {
     "name": "stdout",
     "output_type": "stream",
     "text": [
      "Input integer:8\n",
      "8\n",
      "7\n",
      "6\n",
      "5\n",
      "4\n",
      "3\n",
      "2\n",
      "1\n",
      "Start!!!\n"
     ]
    }
   ],
   "source": [
    "a = int(input('Input integer:'))\n",
    "i = a\n",
    "while 0 < i <= a:\n",
    "    print(i)\n",
    "    i -= 1\n",
    "print('Start!!!')"
   ]
  },
  {
   "cell_type": "markdown",
   "id": "02d4a310",
   "metadata": {},
   "source": [
    "## 5.2 Sum integer"
   ]
  },
  {
   "cell_type": "code",
   "execution_count": 1,
   "id": "99e9d5cb",
   "metadata": {},
   "outputs": [
    {
     "name": "stdout",
     "output_type": "stream",
     "text": [
      "Input N integers:3\n",
      "Please input integer 1 :1\n",
      "Please input integer 2 :5\n",
      "Please input integer 3 :6\n",
      "\n",
      "Sum =  6\n"
     ]
    }
   ],
   "source": [
    "n = int(input('Input N integers:'))\n",
    "i = 1\n",
    "sum = 0\n",
    "while i <= n:\n",
    "    integer = int(input(f'Please input integer {i} :'))\n",
    "    #print(f'Integer no {i}: ',integer)\n",
    "    sum += i\n",
    "    i += 1\n",
    "print()\n",
    "print('Sum = ',sum)    "
   ]
  },
  {
   "cell_type": "markdown",
   "id": "2ce08acc",
   "metadata": {},
   "source": [
    "## 5.3 String"
   ]
  },
  {
   "cell_type": "code",
   "execution_count": null,
   "id": "591aabed",
   "metadata": {},
   "outputs": [],
   "source": [
    "condition = True\n",
    "string = ''\n",
    "\n",
    "while condition:\n",
    "    character = input('Please input 1 character, press 0 to escape:')\n",
    "    if character == '0':  #must put '0' , else it will not work\n",
    "        condition = False\n",
    "    else:\n",
    "        string += character\n",
    "    \n",
    "else:\n",
    "    print('The input characters: ',string)\n",
    "        \n"
   ]
  },
  {
   "cell_type": "markdown",
   "id": "6a262f76",
   "metadata": {},
   "source": [
    "## 5.4 Checking prime numbers (So Nguyen to)"
   ]
  },
  {
   "cell_type": "markdown",
   "id": "07b49912",
   "metadata": {},
   "source": [
    "Using break to stop function\n",
    "x is not prime number >> can stop, no need to do futher checking"
   ]
  },
  {
   "cell_type": "code",
   "execution_count": 26,
   "id": "d0dd75af",
   "metadata": {},
   "outputs": [
    {
     "name": "stdout",
     "output_type": "stream",
     "text": [
      "Please input integer number:4\n",
      "4 is not a prime number\n"
     ]
    }
   ],
   "source": [
    "x = int(input('Please input integer number:'))\n",
    "\n",
    "if x < 2:\n",
    "    print(f'{x} is not a prime number')\n",
    "    \n",
    "else:\n",
    "    for i in range(2,int(x**0.5)+1):\n",
    "        if x % i == 0:\n",
    "            print(f'{x} is not a prime number')\n",
    "            break\n",
    "    else:\n",
    "        print(f'{x} is a prime number')\n",
    "        "
   ]
  },
  {
   "cell_type": "markdown",
   "id": "e6fb7872",
   "metadata": {},
   "source": [
    "## 5.5 Calculate S = (x^2 + 1)^n using while"
   ]
  },
  {
   "cell_type": "code",
   "execution_count": 37,
   "id": "d73fecdb",
   "metadata": {},
   "outputs": [
    {
     "name": "stdout",
     "output_type": "stream",
     "text": [
      "Please input integer number n:1\n",
      "Please input number x:5\n",
      "S = ( x * x +1)^ n = ( 5 * 5 + 1)^1 =  26\n"
     ]
    }
   ],
   "source": [
    "n = int(input('Please input integer number n:'))\n",
    "x = eval(input('Please input number x:'))\n",
    "s = 1\n",
    "if n == 0:\n",
    "    print('S = ( x * x + 1 ) ^ n =  ',1)\n",
    "else:\n",
    "    for i in range(1,n+1):\n",
    "        s *= (x * x + 1)\n",
    "    print(f'S = ( x * x +1)^ n = ( {x} * {x} + 1)^{n} = ',s)\n",
    "\n"
   ]
  },
  {
   "cell_type": "markdown",
   "id": "24568adc",
   "metadata": {},
   "source": [
    "## 5.6 Calculate A"
   ]
  },
  {
   "cell_type": "markdown",
   "id": "a0641012",
   "metadata": {},
   "source": [
    "input n: 3\n",
    "input x: 2\n",
    "A = (x2 + x + 1)n + (x2 - x + 1)n = 370"
   ]
  },
  {
   "cell_type": "code",
   "execution_count": 59,
   "id": "4a18ffad",
   "metadata": {},
   "outputs": [
    {
     "name": "stdout",
     "output_type": "stream",
     "text": [
      "Please input integer number n:2\n",
      "Please input number x:3\n",
      "A = (x^2 + x + 1)^n + (x^2 - x + 1)^n =  (3^2 + 3 + 1)^2 + (3^2 - 3 + 1)^2 = 218\n"
     ]
    }
   ],
   "source": [
    "n = int(input('Please input integer number n:'))\n",
    "x = eval(input('Please input number x:'))\n",
    "a = 0\n",
    "a_1 = 1\n",
    "a_2 = 1\n",
    "if n == 0:\n",
    "    print(f'A = (x^2 + x + 1)^n + (x^2 - x + 1)^n = ({x}^2 + {x} + 1)^{n} + ({x}^2 - {x} + 1)^{n} = ',2)\n",
    "else:\n",
    "    for i in range(1, n+1):\n",
    "        a_1 *= (x * x + x +1)\n",
    "        a_2 *= (x * x - x +1)\n",
    "        \n",
    "    print(f'A = (x^2 + x + 1)^n + (x^2 - x + 1)^n =  ({x}^2 + {x} + 1)^{n} + ({x}^2 - {x} + 1)^{n} =',a_1 + a_2)\n",
    "    \n"
   ]
  },
  {
   "cell_type": "markdown",
   "id": "e07bc197",
   "metadata": {},
   "source": [
    "## 5.7 Calculate A, B, C"
   ]
  },
  {
   "cell_type": "markdown",
   "id": "b3e7db3a",
   "metadata": {},
   "source": [
    "A = sum odd numbers from a to b (so le)\n",
    "B = sum even numbers from a to b (so chan)\n",
    "C = multiply numbers from a to b (tich)\n",
    "D = multiply numbers from a to b which numbers divisible by 3 have a remainder of 0 (tich cac so % 3 == 0)\n",
    "E = sum prime numbers from a to b (Tong so nguyen to)"
   ]
  },
  {
   "cell_type": "code",
   "execution_count": 56,
   "id": "64067ae4",
   "metadata": {},
   "outputs": [
    {
     "name": "stdout",
     "output_type": "stream",
     "text": [
      "Please input integer number a:1\n",
      "Please input integer number b:5\n",
      "A = 1 + 3 + 5 =  9\n",
      "B = 2 + 4 =  6\n",
      "C = 1 * 2 * 3 * 4 * 5 =  120\n",
      "D = 3 =  3\n",
      "E = 2 + 3 + 5 =  10\n"
     ]
    }
   ],
   "source": [
    "a = int(input('Please input integer number a:'))\n",
    "b = int(input('Please input integer number b:'))\n",
    "\n",
    "str_A =''\n",
    "str_B =''\n",
    "str_C =''\n",
    "str_D =''\n",
    "\n",
    "\n",
    "if a < b:\n",
    "    A,B,C,D = (0,0,1,1)\n",
    "    \n",
    "    i = a\n",
    "    #Declaration E\n",
    "    if a <= 2 <= b:\n",
    "        E = 2\n",
    "        str_E ='2 + '\n",
    "    else: \n",
    "        E = 0\n",
    "        str_E =''\n",
    "    \n",
    "    while i <= b:\n",
    "        #Caculate A\n",
    "        if i % 2 != 0:\n",
    "            A += i\n",
    "            str_A = str_A + str(i) + ' + ' \n",
    "        \n",
    "        #Calculate B\n",
    "        if i % 2 == 0:\n",
    "            B += i\n",
    "            str_B = str_B + str(i) + ' + ' \n",
    "        \n",
    "        #Calculate D    \n",
    "        if i % 3 == 0:\n",
    "            D *= i\n",
    "            str_D = str_D + str(i) + ' * ' \n",
    "        \n",
    "        #Calculate C\n",
    "        C *= i\n",
    "        str_C = str_C + str(i) + ' * ' \n",
    "        \n",
    "        #Calculate E\n",
    "              \n",
    "        for j in range (2,int(b**0.5) + 1):\n",
    "            if i % j != 0 and i > 1:\n",
    "                E += i\n",
    "                str_E = str_E + str(i) + ' + ' \n",
    "        \n",
    "        #Increase i \n",
    "        i += 1\n",
    "    \n",
    "\n",
    "    print('A = '+ str_A.rstrip(' + ') + ' = ',A)\n",
    "    print('B = '+ str_B.rstrip(' + ') + ' = ',B)\n",
    "    print('C = '+ str_C.rstrip(' * ') + ' = ',C)       \n",
    "    print('D = '+ str_D.rstrip(' * ') + ' = ',D)\n",
    "    print('E = '+ str_E.rstrip(' + ') + ' = ',E)\n",
    "else:\n",
    "    print('Please input a < b')\n",
    "\n",
    "    \n"
   ]
  },
  {
   "cell_type": "markdown",
   "id": "dab0e3e5",
   "metadata": {},
   "source": [
    "## 5.8 Bang cuu chuong"
   ]
  },
  {
   "cell_type": "code",
   "execution_count": 1,
   "id": "e1be8cff",
   "metadata": {},
   "outputs": [
    {
     "name": "stdout",
     "output_type": "stream",
     "text": [
      "\n",
      "Tu cuu chuong:2\n",
      "Den cuu chuong:5\n",
      "\n",
      " 2 x  1 =   2\t 3 x  1 =   3\t 4 x  1 =   4\t 5 x  1 =   5\t\n",
      " 2 x  2 =   4\t 3 x  2 =   6\t 4 x  2 =   8\t 5 x  2 =  10\t\n",
      " 2 x  3 =   6\t 3 x  3 =   9\t 4 x  3 =  12\t 5 x  3 =  15\t\n",
      " 2 x  4 =   8\t 3 x  4 =  12\t 4 x  4 =  16\t 5 x  4 =  20\t\n",
      " 2 x  5 =  10\t 3 x  5 =  15\t 4 x  5 =  20\t 5 x  5 =  25\t\n",
      " 2 x  6 =  12\t 3 x  6 =  18\t 4 x  6 =  24\t 5 x  6 =  30\t\n",
      " 2 x  7 =  14\t 3 x  7 =  21\t 4 x  7 =  28\t 5 x  7 =  35\t\n",
      " 2 x  8 =  16\t 3 x  8 =  24\t 4 x  8 =  32\t 5 x  8 =  40\t\n",
      " 2 x  9 =  18\t 3 x  9 =  27\t 4 x  9 =  36\t 5 x  9 =  45\t\n",
      " 2 x 10 =  20\t 3 x 10 =  30\t 4 x 10 =  40\t 5 x 10 =  50\t\n"
     ]
    }
   ],
   "source": [
    "n = int(input('\\nTu cuu chuong:'))\n",
    "m = int(input('Den cuu chuong:'))\n",
    "print()\n",
    "\n",
    "if n > m:\n",
    "    print('Vui long nhap n <= m')\n",
    "\n",
    "else:\n",
    "    for i in range(1,11):\n",
    "        for j in range(n, m+1):\n",
    "            print('%2i x %2i = %3i' % (j, i, j *i),end ='\\t')\n",
    "\n",
    "        else:\n",
    "            print() "
   ]
  }
 ],
 "metadata": {
  "kernelspec": {
   "display_name": "Python 3 (ipykernel)",
   "language": "python",
   "name": "python3"
  },
  "language_info": {
   "codemirror_mode": {
    "name": "ipython",
    "version": 3
   },
   "file_extension": ".py",
   "mimetype": "text/x-python",
   "name": "python",
   "nbconvert_exporter": "python",
   "pygments_lexer": "ipython3",
   "version": "3.10.9"
  }
 },
 "nbformat": 4,
 "nbformat_minor": 5
}
