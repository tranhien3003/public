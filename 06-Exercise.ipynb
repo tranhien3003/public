{
 "cells": [
  {
   "cell_type": "markdown",
   "id": "59ea7543",
   "metadata": {},
   "source": [
    "## 6.1. Tính bán kính hình tròn"
   ]
  },
  {
   "cell_type": "code",
   "execution_count": 6,
   "id": "f2456ada",
   "metadata": {},
   "outputs": [
    {
     "name": "stdout",
     "output_type": "stream",
     "text": [
      "Nhap dien tich hinh tron:113\n",
      "Ban kinh la 6.00\n"
     ]
    }
   ],
   "source": [
    "Dien_tich = eval(input('Nhap dien tich hinh tron:'))\n",
    "import math\n",
    "Ban_kinh = math.sqrt((Dien_tich/math.pi))\n",
    "print(f'Ban kinh la {Ban_kinh:,.02f}')"
   ]
  },
  {
   "cell_type": "markdown",
   "id": "85ada1e7",
   "metadata": {},
   "source": [
    "## 6.2. Giải phương trình bậc hai"
   ]
  },
  {
   "cell_type": "markdown",
   "id": "0179d32d",
   "metadata": {},
   "source": [
    "Yêu cầu: Xây dựng chương trình giải phương trình bậc hai:\n",
    "ax2 + bx + c = 0"
   ]
  },
  {
   "cell_type": "code",
   "execution_count": 13,
   "id": "70c1514a",
   "metadata": {},
   "outputs": [
    {
     "name": "stdout",
     "output_type": "stream",
     "text": [
      "Nhap a:1\n",
      "Nhap b:2\n",
      "Nhap c:3\n"
     ]
    },
    {
     "ename": "SyntaxError",
     "evalue": "'break' outside loop (1263475765.py, line 12)",
     "output_type": "error",
     "traceback": [
      "\u001b[1;36m  Cell \u001b[1;32mIn[13], line 12\u001b[1;36m\u001b[0m\n\u001b[1;33m    break\u001b[0m\n\u001b[1;37m    ^\u001b[0m\n\u001b[1;31mSyntaxError\u001b[0m\u001b[1;31m:\u001b[0m 'break' outside loop\n"
     ]
    }
   ],
   "source": [
    "a = eval(input('Nhap a:'))\n",
    "b = eval(input('Nhap b:'))\n",
    "c = eval(input('Nhap c:'))\n",
    "\n",
    "import math\n",
    "delta = pow(b,2)-4*a*c\n",
    "\n",
    "if a ==0:\n",
    "    if b != 0:\n",
    "        x = -c/b\n",
    "        Print('Phuong trinh 1 nghiem x = ',x)\n",
    "        break\n",
    "    \n",
    "    \n",
    "    \n",
    "    if b == 0 and c == 0:\n",
    "        Print('Phuong trinh vo so nghiem')\n",
    "        break\n",
    "    \n",
    "    \n",
    "    if b == 0 and c != 0:\n",
    "        Print('Phuong trinh vo nghiem')\n",
    "        break\n",
    "\n",
    "    \n",
    "    \n",
    "elif delta < 0:\n",
    "    Print('Phuong trinh vo nghiem')\n",
    "elif delta == 0:\n",
    "    Print('Phuong trinh nghiem kep x1 = x2 = ',-b/(2*a))\n",
    "else:       \n",
    "    Print('Phuong trinh co 2 nghiem phan biet')\n",
    " \n",
    "    \n",
    "        "
   ]
  },
  {
   "cell_type": "code",
   "execution_count": 8,
   "id": "4f49f65f",
   "metadata": {},
   "outputs": [
    {
     "name": "stdout",
     "output_type": "stream",
     "text": [
      "8\n"
     ]
    }
   ],
   "source": [
    "import math\n",
    "print(pow(2,3))"
   ]
  },
  {
   "cell_type": "code",
   "execution_count": null,
   "id": "6209a20d",
   "metadata": {},
   "outputs": [],
   "source": [
    "#6.3. Tính diện tích tam giác\n",
    "\n",
    "import math\n",
    "\n",
    "try: \n",
    "    a,b,c = eval(input('Nhap do dai 3 canh tam gia lan luot a,b,c:'))\n",
    "    if a < 0 or b < 0 or c < 0:\n",
    "        raise Exception ('Yeu cau nhap chieu dai canh tam giac lon hon 0')\n",
    "    if a + b <= c or  a + c <= b  or b +c <= a:\n",
    "        raise Exception('Chieu dai 3 canh tam giac khong hop le')\n",
    "    \n",
    "except Exception as err1:\n",
    "    print('Loi ',err1)\n",
    "\n",
    "else:\n",
    "    p = (a +b +c)/2\n",
    "    print('Dien tich tam giac:',round(math.sqrt(p*(p-a)*(p-b)*(p-c)),2))"
   ]
  }
 ],
 "metadata": {
  "kernelspec": {
   "display_name": "Python 3 (ipykernel)",
   "language": "python",
   "name": "python3"
  },
  "language_info": {
   "codemirror_mode": {
    "name": "ipython",
    "version": 3
   },
   "file_extension": ".py",
   "mimetype": "text/x-python",
   "name": "python",
   "nbconvert_exporter": "python",
   "pygments_lexer": "ipython3",
   "version": "3.10.9"
  }
 },
 "nbformat": 4,
 "nbformat_minor": 5
}
