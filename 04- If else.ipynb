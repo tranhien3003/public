{
 "cells": [
  {
   "cell_type": "markdown",
   "id": "d41b85cc",
   "metadata": {},
   "source": [
    "# CHUONG 4 : IF ELSE ELIF"
   ]
  },
  {
   "cell_type": "markdown",
   "id": "154e6317",
   "metadata": {},
   "source": [
    "## 1. If"
   ]
  },
  {
   "cell_type": "code",
   "execution_count": 3,
   "id": "4ddbb83a",
   "metadata": {},
   "outputs": [
    {
     "name": "stdout",
     "output_type": "stream",
     "text": [
      "Moi ban nhap diem:6\n",
      "Pass\n"
     ]
    }
   ],
   "source": [
    "diem = eval(input('Moi ban nhap diem:'))\n",
    "if diem >=5:\n",
    "    print(\"Pass\")"
   ]
  },
  {
   "cell_type": "markdown",
   "id": "6d5e9ae1",
   "metadata": {},
   "source": [
    "## 2. if ... else"
   ]
  },
  {
   "cell_type": "code",
   "execution_count": 4,
   "id": "8f3a42a5",
   "metadata": {},
   "outputs": [
    {
     "name": "stdout",
     "output_type": "stream",
     "text": [
      "Moi ban nhap so nguyen:5\n",
      "5 la so le\n"
     ]
    }
   ],
   "source": [
    "so = eval(input('Moi ban nhap so nguyen:'))\n",
    "\n",
    "if so %2 == 0:\n",
    "    print(f'{so} la so chan')\n",
    "\n",
    "else:\n",
    "    print(f'{so} la so le')"
   ]
  },
  {
   "cell_type": "code",
   "execution_count": 5,
   "id": "faae54e4",
   "metadata": {},
   "outputs": [
    {
     "name": "stdout",
     "output_type": "stream",
     "text": [
      "Moi ban nhap diem:8\n",
      "Pass\n"
     ]
    }
   ],
   "source": [
    "diem = eval(input('Moi ban nhap diem:'))\n",
    "if diem >=5:\n",
    "    print(\"Pass\")\n",
    "\n",
    "else:\n",
    "    print('Fail')\n"
   ]
  },
  {
   "cell_type": "markdown",
   "id": "fed21efb",
   "metadata": {},
   "source": [
    "## 3. Cau truc dieu kien long nhau"
   ]
  },
  {
   "cell_type": "code",
   "execution_count": 6,
   "id": "d5af2358",
   "metadata": {},
   "outputs": [
    {
     "name": "stdout",
     "output_type": "stream",
     "text": [
      "Moi ban nhap so nguyen:5\n",
      "5 la so duong\n"
     ]
    }
   ],
   "source": [
    "so = int(input('Moi ban nhap so nguyen:'))\n",
    "\n",
    "if so >= 0:\n",
    "    if so == 0:\n",
    "        print(f'Gia tri {so}')\n",
    "\n",
    "    else:\n",
    "        print(f'{so} la so duong')\n",
    "else:\n",
    "    print(f'{so} la so am')\n"
   ]
  },
  {
   "cell_type": "code",
   "execution_count": 7,
   "id": "6b8cd3c8",
   "metadata": {},
   "outputs": [
    {
     "name": "stdout",
     "output_type": "stream",
     "text": [
      "Moi ban nhap diem:8\n",
      "Moi ban nhap hanh kiem [\"Tot\",\"Kha\",\"Trung Binh\"]:Kha\n",
      "Khong duoc HS Gioi\n"
     ]
    }
   ],
   "source": [
    "diem = eval(input('Moi ban nhap diem:'))\n",
    "hanh_kiem = input('Moi ban nhap hanh kiem [\"Tot\",\"Kha\",\"Trung Binh\"]:')\n",
    "\n",
    "if diem >= 8:\n",
    "    if hanh_kiem == \"Tot\":\n",
    "        print('HS Gioi')\n",
    "\n",
    "    else:\n",
    "        print('Khong duoc HS Gioi')\n",
    "\n",
    "else:\n",
    "    print('Khong duoc HS Gioi')"
   ]
  },
  {
   "cell_type": "markdown",
   "id": "25822644",
   "metadata": {},
   "source": [
    "## 4. if .. elif (elif: con lai)...else"
   ]
  },
  {
   "cell_type": "code",
   "execution_count": 13,
   "id": "e800fc4b",
   "metadata": {},
   "outputs": [
    {
     "name": "stdout",
     "output_type": "stream",
     "text": [
      "Nhap so tien:50000\n",
      "Khong giam gia, so tien phai tra:50,000\n"
     ]
    }
   ],
   "source": [
    "Thanh_Tien = eval(input('Nhap so tien:'))\n",
    "if Thanh_Tien >= 3000000:\n",
    "    print(f'Giam gia 10%, so tien con phai tra:{Thanh_Tien*0.9:,.0f}')  #f'' >> format; :,  >> ngan hang ngan;  .0f >> lay 0 so le\n",
    "\n",
    "elif Thanh_Tien >= 200000:\n",
    "    print(f'Giam gia 7%, so tien con phai tra:{Thanh_Tien*0.93:,.0f}')\n",
    "elif Thanh_Tien >= 100000:\n",
    "    print(f'Giam gia 5%, so tien con phai tra:{Thanh_Tien*0.95:,.0f}')\n",
    "\n",
    "else:\n",
    "    print(f'Khong giam gia, so tien phai tra:{Thanh_Tien:,.0f}')\n",
    "\n"
   ]
  },
  {
   "cell_type": "code",
   "execution_count": 15,
   "id": "c3e30607",
   "metadata": {},
   "outputs": [
    {
     "name": "stdout",
     "output_type": "stream",
     "text": [
      "Nhap so tien:50000\n",
      "Khong giam gia, so tien phai tra:50,000\n"
     ]
    }
   ],
   "source": [
    "\n",
    "#Cach 2: chua xong, con sai\n",
    "Thanh_Tien = eval(input('Nhap so tien:'))\n",
    "\n",
    "if Thanh_Tien >= 3000000:\n",
    "    Phai_Tra = Thanh_Tien * 0.9\n",
    "    Giam_Gia = ('Giam gia 10%')\n",
    "\n",
    "elif Thanh_Tien >= 200000:\n",
    "    Phai_Tra = Thanh_Tien * 0.93\n",
    "    Giam_Gia = ('Giam gia 7%')\n",
    "elif Thanh_Tien >= 100000:\n",
    "    Phai_Tra = Thanh_Tien * 0.95\n",
    "    Giam_Gia = ('Giam gia 5%')\n",
    "\n",
    "else:\n",
    "    print(f'Khong giam gia, so tien phai tra:{Thanh_Tien:,.0f}')"
   ]
  },
  {
   "cell_type": "markdown",
   "id": "e4425c8d",
   "metadata": {},
   "source": [
    "## 5. if else , dieu kien logic"
   ]
  },
  {
   "cell_type": "code",
   "execution_count": 16,
   "id": "10fc20d4",
   "metadata": {},
   "outputs": [
    {
     "name": "stdout",
     "output_type": "stream",
     "text": [
      "Nhap diem:8\n",
      "Nhap vao so ngay nghi:2\n",
      "Khong duoc khen thuong\n"
     ]
    }
   ],
   "source": [
    "diem =eval(input('Nhap diem:'))\n",
    "\n",
    "so_ngay_nghi = eval(input('Nhap vao so ngay nghi:'))\n",
    "\n",
    "if(diem >= 9) and (so_ngay_nghi <= 2):\n",
    "    print('Duoc khen thuong')\n",
    "\n",
    "elif (diem >= 9) and (so_ngay_nghi > 2):\n",
    "    print('Khong duoc khen thuong')\n",
    "\n",
    "else:\n",
    "    print('Khong duoc khen thuong')\n"
   ]
  },
  {
   "cell_type": "markdown",
   "id": "da629e97",
   "metadata": {},
   "source": [
    "## 6. else if khi dung and/ or thi nen dat bien khong ket qua ko ra"
   ]
  },
  {
   "cell_type": "code",
   "execution_count": 17,
   "id": "e4ba9695",
   "metadata": {},
   "outputs": [
    {
     "name": "stdout",
     "output_type": "stream",
     "text": [
      "Hom nay thu may?5\n",
      "Di lam\n"
     ]
    }
   ],
   "source": [
    "thu = input('Hom nay thu may?')\n",
    "\n",
    "if  thu == 'Thu bay' or thu == 'Chu nhat':\n",
    "    print('Khong di lam')\n",
    "\n",
    "else:\n",
    "    print('Di lam')\n"
   ]
  },
  {
   "cell_type": "markdown",
   "id": "5189eeef",
   "metadata": {},
   "source": [
    "## 7. Luu y khi gan dieu kien True/False khi xai If ... else"
   ]
  },
  {
   "cell_type": "code",
   "execution_count": 18,
   "id": "b744a8df",
   "metadata": {},
   "outputs": [
    {
     "name": "stdout",
     "output_type": "stream",
     "text": [
      "Khong nhan duoc hoc bong\n"
     ]
    }
   ],
   "source": [
    "hoc_bong = False\n",
    "\n",
    "if hoc_bong:\n",
    "    print('Nhan duoc hoc bong')\n",
    "\n",
    "else:\n",
    "    print('Khong nhan duoc hoc bong')"
   ]
  },
  {
   "cell_type": "markdown",
   "id": "c85e0e31",
   "metadata": {},
   "source": [
    "## 8.Tinh tien dien"
   ]
  },
  {
   "cell_type": "code",
   "execution_count": 19,
   "id": "f8073aca",
   "metadata": {},
   "outputs": [
    {
     "name": "stdout",
     "output_type": "stream",
     "text": [
      "Nhap vao so kWh dien trong thang:580000\n",
      "So tien dien ban phai tra la 4,617,164,700\n"
     ]
    }
   ],
   "source": [
    "so_kWh = eval(input('Nhap vao so kWh dien trong thang:'))\n",
    "gia_moc_50 = 1678\n",
    "gia_moc_100 = 1734\n",
    "gia_moc_200 = 2014\n",
    "gia_moc_300 = 2536\n",
    "gia_moc_400 = 2834\n",
    "gia_moc_Max = 2927\n",
    "if so_kWh <= 50:\n",
    "    so_tien = so_kWh * gia_moc_50\n",
    "elif so_kWh <= 100:\n",
    "    so_tien = (so_kWh * gia_moc_50)+(so_kWh-50)*gia_moc_100\n",
    "\n",
    "elif so_kWh <= 200:\n",
    "    so_tien = (so_kWh * gia_moc_50)+(so_kWh-50)*gia_moc_100 + (so_kWh-100)*gia_moc_200\n",
    "\n",
    "\n",
    "elif so_kWh <= 300:\n",
    "    so_tien = (so_kWh * gia_moc_50)+(so_kWh-50)*gia_moc_100 + (so_kWh-100)*gia_moc_200+(so_kWh-200)*gia_moc_300\n",
    "\n",
    "\n",
    "elif so_kWh <= 400:\n",
    "    so_tien = (so_kWh * gia_moc_50)+(so_kWh-50)*gia_moc_100 + (so_kWh-100)*gia_moc_200+(so_kWh-200)*gia_moc_300+(so_kWh-300)*gia_moc_400\n",
    "\n",
    "else:\n",
    "    so_tien = (so_kWh * gia_moc_50)+(so_kWh-50)*gia_moc_100 + (so_kWh-100)*gia_moc_200+(so_kWh-200)*gia_moc_300\n",
    "+(so_kWh-300)*gia_moc_400+(so_kWh -400)*gia_moc_Max\n",
    "\n",
    "print(f'So tien dien ban phai tra la {so_tien:,.0f}')"
   ]
  }
 ],
 "metadata": {
  "kernelspec": {
   "display_name": "Python 3 (ipykernel)",
   "language": "python",
   "name": "python3"
  },
  "language_info": {
   "codemirror_mode": {
    "name": "ipython",
    "version": 3
   },
   "file_extension": ".py",
   "mimetype": "text/x-python",
   "name": "python",
   "nbconvert_exporter": "python",
   "pygments_lexer": "ipython3",
   "version": "3.10.9"
  }
 },
 "nbformat": 4,
 "nbformat_minor": 5
}
