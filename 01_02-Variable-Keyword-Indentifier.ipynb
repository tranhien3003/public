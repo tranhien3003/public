{
 "cells": [
  {
   "cell_type": "markdown",
   "id": "62a34c26",
   "metadata": {},
   "source": [
    "# Chuong 1 - 2 : Hello , Variable-Keyword-Indentifier\n"
   ]
  },
  {
   "cell_type": "markdown",
   "id": "59c93603",
   "metadata": {},
   "source": [
    "# 1. Hello Python"
   ]
  },
  {
   "cell_type": "code",
   "execution_count": 1,
   "id": "74c910f6",
   "metadata": {},
   "outputs": [
    {
     "name": "stdout",
     "output_type": "stream",
     "text": [
      "\n",
      "\t**    **  ******  **      **      ******\n",
      "\t**    **  **      **      **      **  **\n",
      "\t********  ******  **      **      **  **\n",
      "\t**    **  **      **      **      **  **\n",
      "\t**    **  ******  ******  ******  ******\n",
      "\t\n"
     ]
    }
   ],
   "source": [
    "hello = \"\"\"\n",
    "\t**    **  ******  **      **      ******\n",
    "\t**    **  **      **      **      **  **\n",
    "\t********  ******  **      **      **  **\n",
    "\t**    **  **      **      **      **  **\n",
    "\t**    **  ******  ******  ******  ******\n",
    "\t\"\"\"\n",
    "print(hello)"
   ]
  },
  {
   "cell_type": "code",
   "execution_count": 2,
   "id": "50cf4388",
   "metadata": {},
   "outputs": [
    {
     "name": "stdout",
     "output_type": "stream",
     "text": [
      "Welcome to Fundermental of Python\n"
     ]
    }
   ],
   "source": [
    "print('Welcome to Fundermental of Python')"
   ]
  },
  {
   "cell_type": "code",
   "execution_count": 3,
   "id": "dd5c6024",
   "metadata": {},
   "outputs": [
    {
     "name": "stdout",
     "output_type": "stream",
     "text": [
      "7\n"
     ]
    }
   ],
   "source": [
    "a = 5\n",
    "b = 2\n",
    "c = a + b\n",
    "print(c)"
   ]
  },
  {
   "cell_type": "markdown",
   "id": "af89c993",
   "metadata": {},
   "source": [
    "# 2. Data type"
   ]
  },
  {
   "cell_type": "code",
   "execution_count": 1,
   "id": "f35e11c6",
   "metadata": {},
   "outputs": [
    {
     "name": "stdout",
     "output_type": "stream",
     "text": [
      "kieu du lieu ho_ten:  <class 'str'>\n",
      "kieu du lieu tuoi: <class 'int'>\n",
      "kieu du lieu gioi_tinh: <class 'bool'>\n",
      "kieu du lieu toan:  <class 'float'>\n",
      "kieu du lieu ly:  <class 'float'>\n",
      "Diem trung binh:  8.166666666666666\n",
      "Diem trung binh:  8.17\n",
      "ho ten la Nguyen van A\n",
      "tuoi la 18\n"
     ]
    }
   ],
   "source": [
    "ho_ten = 'Nguyen van A'\n",
    "tuoi = 18\n",
    "gioi_tinh = True\n",
    "toan, ly, hoa = 8.0, 7.5, 9.0\n",
    "print('kieu du lieu ho_ten: ', type(ho_ten))\n",
    "print('kieu du lieu tuoi:', type(tuoi))\n",
    "print('kieu du lieu gioi_tinh:', type(gioi_tinh))\n",
    "print('kieu du lieu toan: ',type(toan))\n",
    "print('kieu du lieu ly: ',type(ly))\n",
    "dtb = (toan + ly + hoa)/3\n",
    "dtb1 = round(dtb,2)\n",
    "print('Diem trung binh: ',dtb)\n",
    "print('Diem trung binh: ',dtb1)\n",
    "print('ho ten la ' + ho_ten)\n",
    "print('tuoi la ' + str(tuoi))\n"
   ]
  },
  {
   "cell_type": "code",
   "execution_count": 2,
   "id": "bb1fbf3c",
   "metadata": {},
   "outputs": [
    {
     "name": "stdout",
     "output_type": "stream",
     "text": [
      "12\n",
      "P\n",
      "n\n",
      "el\n",
      "Hel\n",
      "hon\n",
      "hon\n"
     ]
    }
   ],
   "source": [
    "greeting = 'Hello Python'\n",
    "print(len(greeting))\n",
    "\n",
    "# print theo index\n",
    "\n",
    "print(greeting[6])\n",
    "\n",
    "print(greeting[-1])\n",
    "print(greeting[1:3])\n",
    "print(greeting[:3])\n",
    "print(greeting[-3:])\n",
    "print(greeting[-3:])\n"
   ]
  },
  {
   "cell_type": "code",
   "execution_count": 3,
   "id": "e2afb7a3",
   "metadata": {},
   "outputs": [
    {
     "name": "stdout",
     "output_type": "stream",
     "text": [
      "Trung Tam Tin Hoc Python\n"
     ]
    }
   ],
   "source": [
    "chuoi_1 = 'Trung Tam Tin Hoc'\n",
    "chuoi_2 = 'Python'\n",
    "print(chuoi_1 + \" \" + chuoi_2)"
   ]
  },
  {
   "cell_type": "code",
   "execution_count": 4,
   "id": "bb0bef26",
   "metadata": {},
   "outputs": [
    {
     "name": "stdout",
     "output_type": "stream",
     "text": [
      "2020202020\n"
     ]
    }
   ],
   "source": [
    "a = '20'\n",
    "print(a*5)"
   ]
  },
  {
   "cell_type": "code",
   "execution_count": 5,
   "id": "edddc1bb",
   "metadata": {},
   "outputs": [
    {
     "name": "stdout",
     "output_type": "stream",
     "text": [
      "10 5\n",
      "50\n",
      "105\n"
     ]
    }
   ],
   "source": [
    "a = '10'\n",
    "b = 5\n",
    "print(a,b)\n",
    "print(int(a)*5)\n",
    "print(a + str(b))"
   ]
  },
  {
   "cell_type": "code",
   "execution_count": 6,
   "id": "281a9dc3",
   "metadata": {},
   "outputs": [
    {
     "name": "stdout",
     "output_type": "stream",
     "text": [
      "<class 'bool'>\n",
      "True\n"
     ]
    }
   ],
   "source": [
    "a = '10'\n",
    "b = 5\n",
    "a = int(a)\n",
    "a = bool(a)\n",
    "print(type(a))\n",
    "print(a)"
   ]
  },
  {
   "cell_type": "code",
   "execution_count": 9,
   "id": "69f189c4",
   "metadata": {},
   "outputs": [
    {
     "name": "stdout",
     "output_type": "stream",
     "text": [
      "10\n",
      "10.9\n",
      "10\n"
     ]
    }
   ],
   "source": [
    "print(int(10.9999))\n",
    "print(round(10.90,2))\n",
    "print(int(float('10.99789')))"
   ]
  },
  {
   "cell_type": "code",
   "execution_count": 8,
   "id": "998757b8",
   "metadata": {},
   "outputs": [
    {
     "name": "stdout",
     "output_type": "stream",
     "text": [
      "a =  55\n"
     ]
    }
   ],
   "source": [
    "a = eval('11*5')\n",
    "\n",
    "print('a = ',a)"
   ]
  },
  {
   "cell_type": "code",
   "execution_count": 10,
   "id": "5be38feb",
   "metadata": {
    "scrolled": true
   },
   "outputs": [
    {
     "name": "stdout",
     "output_type": "stream",
     "text": [
      "5\n",
      "10\n",
      "15\n",
      "hello\n",
      "<class 'str'>\n"
     ]
    }
   ],
   "source": [
    "a,b,c,d = eval('5,10,15,\"hello\"')\n",
    "\n",
    "print(a)\n",
    "print(b)\n",
    "print(c)\n",
    "print(d)\n",
    "\n",
    "print(type(d))"
   ]
  },
  {
   "cell_type": "markdown",
   "id": "686c49a5",
   "metadata": {},
   "source": [
    "## 3. INPUT"
   ]
  },
  {
   "cell_type": "code",
   "execution_count": 12,
   "id": "5e2addfe",
   "metadata": {},
   "outputs": [
    {
     "name": "stdout",
     "output_type": "stream",
     "text": [
      "Moi ban nhap so nguyen: 5\n",
      "Moi ban nhap so thuc: 5.6\n",
      "Moi ban nhap chuoi: hi\n",
      "5 <class 'str'>\n",
      "5.6 <class 'str'>\n",
      "hi <class 'str'>\n"
     ]
    }
   ],
   "source": [
    "x = input('Moi ban nhap so nguyen: ')\n",
    "y = input('Moi ban nhap so thuc: ')\n",
    "z = input('Moi ban nhap chuoi: ')\n",
    "\n",
    "print(x,type(x))\n",
    "print(y,type(y))\n",
    "print(z,type(z))"
   ]
  },
  {
   "cell_type": "code",
   "execution_count": 13,
   "id": "fc46a237",
   "metadata": {},
   "outputs": [
    {
     "name": "stdout",
     "output_type": "stream",
     "text": [
      "Moi ban nhap 2 so thuc:5.6, 8.9\n",
      "5.6\n",
      "8.9\n"
     ]
    }
   ],
   "source": [
    "x,y = eval(input('Moi ban nhap 2 so thuc:'))\n",
    "print(x)\n",
    "print(y)"
   ]
  },
  {
   "cell_type": "code",
   "execution_count": 14,
   "id": "78bd36e5",
   "metadata": {
    "scrolled": true
   },
   "outputs": [
    {
     "name": "stdout",
     "output_type": "stream",
     "text": [
      "Moi ban nhap so nguyen: 5\n",
      "Mou ban nhap so thuc: 5.6\n",
      "Moi ban nhap chu cai: k\n",
      "5 <class 'int'>\n",
      "5.6 <class 'float'>\n",
      "k <class 'str'>\n"
     ]
    }
   ],
   "source": [
    "x = int(input('Moi ban nhap so nguyen: '))\n",
    "y = float(input('Mou ban nhap so thuc: '))\n",
    "z = input('Moi ban nhap chu cai: ')\n",
    "print(x, type(x))\n",
    "print(y, type(y))\n",
    "print(z, type(z))"
   ]
  },
  {
   "cell_type": "markdown",
   "id": "3b1bf3ae",
   "metadata": {},
   "source": [
    "## 4. Format"
   ]
  },
  {
   "cell_type": "code",
   "execution_count": 15,
   "id": "322013a5",
   "metadata": {},
   "outputs": [
    {
     "name": "stdout",
     "output_type": "stream",
     "text": [
      "1. Nhan vien Nguyen Thi Hong Loan, 25 tuoi?, cao 1.6 m, Muc luong  15789421.27\n"
     ]
    }
   ],
   "source": [
    "ten_nv = 'Nguyen Thi Hong Loan'\n",
    "tuoi = 25\n",
    "chieu_cao = 1.63\n",
    "luong = 15789421.265\n",
    "\n",
    "print(\"1. Nhan vien %s, %i tuoi?, cao %.1f m, Muc luong  %.2f\" %(ten_nv, tuoi, chieu_cao, luong))"
   ]
  },
  {
   "cell_type": "code",
   "execution_count": 18,
   "id": "52ebb0da",
   "metadata": {},
   "outputs": [
    {
     "name": "stdout",
     "output_type": "stream",
     "text": [
      "2. Nhan vien Nguyen Thi Hong Loan, 25 tuoi, cao 1.6 m, Muc luong  15,789,421.27\n"
     ]
    }
   ],
   "source": [
    "ten_nv = 'Nguyen Thi Hong Loan'\n",
    "tuoi = 25\n",
    "chieu_cao = 1.63\n",
    "luong = 15789421.265\n",
    "print(\"2. Nhan vien {}, {} tuoi, cao {:.1f} m, Muc luong  {:,.2f}\".format(ten_nv, tuoi, chieu_cao, luong))"
   ]
  },
  {
   "cell_type": "code",
   "execution_count": 19,
   "id": "da3230cb",
   "metadata": {},
   "outputs": [
    {
     "name": "stdout",
     "output_type": "stream",
     "text": [
      "3. Nhan vien Nguyen Thi Hong Loan, 25 tuoi, cao 1.6 m, Muc luong  15,789,421.27\n"
     ]
    }
   ],
   "source": [
    "ten_nv = 'Nguyen Thi Hong Loan'\n",
    "tuoi = 25\n",
    "chieu_cao = 1.63\n",
    "luong = 15789421.265\n",
    "print(f\"3. Nhan vien {ten_nv}, {tuoi} tuoi, cao {chieu_cao:.1f} m, Muc luong  {luong:,.2f}\")"
   ]
  },
  {
   "cell_type": "code",
   "execution_count": 20,
   "id": "febb3456",
   "metadata": {},
   "outputs": [
    {
     "name": "stdout",
     "output_type": "stream",
     "text": [
      "4. Nhan vien Nguyen Thi Hong Loan 25 tuoi, cao 1.63 m, Muc luong  15789421.265\n"
     ]
    }
   ],
   "source": [
    "ten_nv = 'Nguyen Thi Hong Loan'\n",
    "tuoi = 25\n",
    "chieu_cao = 1.63\n",
    "luong = 15789421.265\n",
    "print(\"4. Nhan vien\",  ten_nv, tuoi, \"tuoi, cao\", chieu_cao, \"m, Muc luong \", luong)"
   ]
  },
  {
   "cell_type": "code",
   "execution_count": null,
   "id": "ed66ed61",
   "metadata": {},
   "outputs": [],
   "source": [
    "ten_nv = 'Nguyen Thi Hong Loan'\n",
    "tuoi = 25\n",
    "chieu_cao = 1.63\n",
    "luong = 15789421.265"
   ]
  },
  {
   "cell_type": "code",
   "execution_count": 21,
   "id": "e882ab57",
   "metadata": {
    "scrolled": true
   },
   "outputs": [
    {
     "name": "stdout",
     "output_type": "stream",
     "text": [
      "string \"ABC\"\n",
      "string 'ABC'\n",
      "Trung tam tin hoc \n",
      "DH KHTN\n",
      "Trung tam tin hoc \tDH KHTN\n",
      "C:\\\n",
      "string \"Trung tam tin hoc\" co chua string \"Trung Tam\"\n"
     ]
    }
   ],
   "source": [
    "print('string \"ABC\"')\n",
    "print(\"string 'ABC'\")\n",
    "print('Trung tam tin hoc \\nDH KHTN')   #\\n >> next row\n",
    "print('Trung tam tin hoc \\tDH KHTN')   #\\t  >>> tab\n",
    "print('C:\\\\')                                      #\\\\   >> \\\n",
    "print(\"string \\\"Trung tam tin hoc\\\" co chua string \\\"Trung Tam\\\"\")   # string \"Trung tam tin hoc\" co chua string \"Trung Tam\""
   ]
  }
 ],
 "metadata": {
  "kernelspec": {
   "display_name": "Python 3 (ipykernel)",
   "language": "python",
   "name": "python3"
  },
  "language_info": {
   "codemirror_mode": {
    "name": "ipython",
    "version": 3
   },
   "file_extension": ".py",
   "mimetype": "text/x-python",
   "name": "python",
   "nbconvert_exporter": "python",
   "pygments_lexer": "ipython3",
   "version": "3.10.9"
  }
 },
 "nbformat": 4,
 "nbformat_minor": 5
}
