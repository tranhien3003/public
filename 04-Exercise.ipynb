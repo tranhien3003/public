{
 "cells": [
  {
   "cell_type": "markdown",
   "id": "f53bdd1e",
   "metadata": {},
   "source": [
    "## 4.1 Tim gia tri tuyet doi"
   ]
  },
  {
   "cell_type": "code",
   "execution_count": 1,
   "id": "0cd05d97",
   "metadata": {},
   "outputs": [
    {
     "name": "stdout",
     "output_type": "stream",
     "text": [
      "Please input number:-9\n",
      "ABS of -9 is  9\n"
     ]
    }
   ],
   "source": [
    "Input_Number = eval(input('Please input number:'))\n",
    "print(f'ABS of {Input_Number} is ',abs(Input_Number))"
   ]
  },
  {
   "cell_type": "markdown",
   "id": "57e337b5",
   "metadata": {},
   "source": [
    "## 4.2 Tim gia tri lon nhat- nho nhat"
   ]
  },
  {
   "cell_type": "code",
   "execution_count": 2,
   "id": "baf75e27",
   "metadata": {},
   "outputs": [
    {
     "name": "stdout",
     "output_type": "stream",
     "text": [
      "Enter number x, y, z: 5,9,1\n",
      "Number x is  5 <class 'int'>\n",
      "Number y is  9 <class 'int'>\n",
      "Number z is  1 <class 'int'>\n",
      "Max number is  9\n"
     ]
    }
   ],
   "source": [
    "#Input many variable , numbers\n",
    "x, y, z = eval(input(\"Enter number x, y, z: \"))\n",
    "\n",
    "print('Number x is ',x, type(x))\n",
    "print('Number y is ', y, type(y))\n",
    "print('Number z is ', z, type(z))\n",
    "\n",
    "print('Max number is ',max(x, y, z))"
   ]
  },
  {
   "cell_type": "markdown",
   "id": "78918526",
   "metadata": {},
   "source": [
    "## 4.3 Giai phuong trinh bac nhat ax +b =0"
   ]
  },
  {
   "cell_type": "code",
   "execution_count": 3,
   "id": "9afa5ad1",
   "metadata": {},
   "outputs": [
    {
     "name": "stdout",
     "output_type": "stream",
     "text": [
      "Please input a:9\n",
      "Please input b:7\n",
      "Phuong trinh co 1 nghiem, x =  -0.7777777777777778\n"
     ]
    }
   ],
   "source": [
    "a = eval(input('Please input a:'))\n",
    "b = eval(input('Please input b:'))\n",
    "c = 0\n",
    "if a == 0:\n",
    "    if b == 0:\n",
    "        print('Phuong trinh co vo so nghiem')\n",
    "\n",
    "    else: print('Phuong trinh vo nghiem')\n",
    "\n",
    "else:\n",
    "    x = -b/a\n",
    "    print('Phuong trinh co 1 nghiem, x = ', x)"
   ]
  },
  {
   "cell_type": "markdown",
   "id": "8fd7d36b",
   "metadata": {},
   "source": [
    "## 4.4 Xet nam nhuan"
   ]
  },
  {
   "cell_type": "code",
   "execution_count": 4,
   "id": "fed6da4c",
   "metadata": {},
   "outputs": [
    {
     "name": "stdout",
     "output_type": "stream",
     "text": [
      "Nhap vao so nam:2025\n",
      "Nam 2025 khong la nam nhuan\n"
     ]
    }
   ],
   "source": [
    "nam_nhuan = int(input('Nhap vao so nam:'))\n",
    "\n",
    "if (nam_nhuan % 100 != 0) and (nam_nhuan % 4 == 0):\n",
    "    print(f'Nam {nam_nhuan} la nam nhuan')\n",
    "elif nam_nhuan == 400:\n",
    "    print(f'Nam {nam_nhuan} la nam nhuan')\n",
    "\n",
    "else:\n",
    "    print(f'Nam {nam_nhuan} khong la nam nhuan')\n"
   ]
  },
  {
   "cell_type": "markdown",
   "id": "5b92278c",
   "metadata": {},
   "source": [
    "## 4.5 TInh cuoc taxi"
   ]
  },
  {
   "cell_type": "code",
   "execution_count": 5,
   "id": "df1778da",
   "metadata": {},
   "outputs": [
    {
     "name": "stdout",
     "output_type": "stream",
     "text": [
      "Nhap vao loai xe [4, 7] cho:4\n",
      "Nhap vao thoi gian cho:8\n",
      "Nhap so km di chuyen:45\n",
      "Tien cho: 2,250\n",
      "Tien di chuyen: 756,500\n",
      "Tien cuoc: 2,250 + 756,500  = 758,750\n"
     ]
    }
   ],
   "source": [
    "loai_xe = int(input('Nhap vao loai xe [4, 7] cho:'))\n",
    "\n",
    "thoi_gian_cho = eval(input('Nhap vao thoi gian cho:'))\n",
    "\n",
    "so_km = eval(input('Nhap so km di chuyen:'))\n",
    "\n",
    "tien_cho_1P = 750\n",
    "\n",
    "mo_cua_4 = 11000\n",
    "mo_cua_7 = 12000\n",
    "\n",
    "xe_4_cho_1 = 17600\n",
    "xe_4_cho_2 = 14500\n",
    "\n",
    "xe_7_cho_1 = 19600\n",
    "xe_7_cho_2 = 17100\n",
    "\n",
    "## Tinh tien cho\n",
    "if thoi_gian_cho > 5:\n",
    "    tien_cho = (thoi_gian_cho -5) * tien_cho_1P\n",
    "\n",
    "else:\n",
    "    tien_cho = 0\n",
    "\n",
    "## Tinh tien cuoc\n",
    "if (loai_xe == 4):\n",
    "    if so_km <= 30:\n",
    "        tien_di_chuyen = so_km * xe_4_cho_1 + mo_cua_4 \n",
    "\n",
    "    else:\n",
    "        tien_di_chuyen = 30 * xe_4_cho_1 +(so_km-30)*xe_4_cho_2 + mo_cua_4 \n",
    "\n",
    "else:\n",
    "    if so_km <= 30:\n",
    "        tien_di_chuyen = so_km * xe_7_cho_1 + mo_cua_7 \n",
    "\n",
    "    else:\n",
    "        tien_di_chuyen = 30 * xe_7_cho_1 +(so_km-30)*xe_7_cho_2 + mo_cua_7 \n",
    "print(f'Tien cho: {tien_cho:,.0f}')\n",
    "print(f'Tien di chuyen: {tien_di_chuyen:,.0f}')\n",
    "print(f'Tien cuoc: {tien_cho:,.0f} + {tien_di_chuyen:,.0f}  = {(tien_cho + tien_di_chuyen):,.0f}')"
   ]
  },
  {
   "cell_type": "code",
   "execution_count": null,
   "id": "57f47879",
   "metadata": {},
   "outputs": [],
   "source": []
  }
 ],
 "metadata": {
  "kernelspec": {
   "display_name": "Python 3 (ipykernel)",
   "language": "python",
   "name": "python3"
  },
  "language_info": {
   "codemirror_mode": {
    "name": "ipython",
    "version": 3
   },
   "file_extension": ".py",
   "mimetype": "text/x-python",
   "name": "python",
   "nbconvert_exporter": "python",
   "pygments_lexer": "ipython3",
   "version": "3.10.9"
  }
 },
 "nbformat": 4,
 "nbformat_minor": 5
}
